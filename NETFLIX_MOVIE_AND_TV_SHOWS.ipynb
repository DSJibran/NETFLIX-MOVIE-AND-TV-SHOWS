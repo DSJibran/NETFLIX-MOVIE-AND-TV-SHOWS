{
  "nbformat": 4,
  "nbformat_minor": 0,
  "metadata": {
    "colab": {
      "provenance": [],
      "authorship_tag": "ABX9TyMMVlINnieiEwvjQBB/wWji",
      "include_colab_link": true
    },
    "kernelspec": {
      "name": "python3",
      "display_name": "Python 3"
    },
    "language_info": {
      "name": "python"
    }
  },
  "cells": [
    {
      "cell_type": "markdown",
      "metadata": {
        "id": "view-in-github",
        "colab_type": "text"
      },
      "source": [
        "<a href=\"https://colab.research.google.com/github/DSJibran/NETFLIX-MOVIE-AND-TV-SHOWS/blob/main/NETFLIX_MOVIE_AND_TV_SHOWS.ipynb\" target=\"_parent\"><img src=\"https://colab.research.google.com/assets/colab-badge.svg\" alt=\"Open In Colab\"/></a>"
      ]
    },
    {
      "cell_type": "markdown",
      "source": [
        "# **Problem Statement**"
      ],
      "metadata": {
        "id": "pVavVdSDu9Mn"
      }
    },
    {
      "cell_type": "markdown",
      "source": [
        "This dataset consists of tv shows and movies available on Netflix as of 2019. The dataset is collected from Flixable which is a third-party Netflix search engine.\n",
        "\n",
        "In 2018, they released an interesting report which shows that the number of TV shows on Netflix has nearly tripled since 2010. The streaming service’s number of movies has decreased by more than 2,000 titles since 2010, while its number of TV shows has nearly tripled. It will be interesting to explore what all other insights can be obtained from the same dataset.\n",
        "\n",
        "Integrating this dataset with other external datasets such as IMDB ratings, rotten tomatoes can also provide many interesting findings."
      ],
      "metadata": {
        "id": "XH_rRIDfvFJ0"
      }
    },
    {
      "cell_type": "markdown",
      "source": [
        "## <b>In this  project, you are required to do </b>\n",
        "1. Exploratory Data Analysis \n",
        "\n",
        "2. Understanding what type content is available in different countries\n",
        "\n",
        "3. Is Netflix has increasingly focusing on TV rather than movies in recent years.\n",
        "4. Clustering similar content by matching text-based features"
      ],
      "metadata": {
        "id": "N_sGzqBvvKNb"
      }
    },
    {
      "cell_type": "markdown",
      "source": [
        "# **Attribute Information**"
      ],
      "metadata": {
        "id": "xKxENk5QvQYD"
      }
    },
    {
      "cell_type": "markdown",
      "source": [
        "1. show_id : Unique ID for every Movie / Tv Show\n",
        "\n",
        "2. type : Identifier - A Movie or TV Show\n",
        "\n",
        "3. title : Title of the Movie / Tv Show\n",
        "\n",
        "4. director : Director of the Movie\n",
        "\n",
        "5. cast : Actors involved in the movie / show\n",
        "\n",
        "6. country : Country where the movie / show was produced\n",
        "\n",
        "7. date_added : Date it was added on Netflix\n",
        "\n",
        "8. release_year : Actual Releaseyear of the movie / show\n",
        "\n",
        "9. rating : TV Rating of the movie / show\n",
        "\n",
        "10. duration : Total Duration - in minutes or number of seasons\n",
        "\n",
        "11. listed_in : Genere\n",
        "\n",
        "12. description: The Summary description"
      ],
      "metadata": {
        "id": "SV3zlo_PvW3L"
      }
    },
    {
      "cell_type": "code",
      "execution_count": 1,
      "metadata": {
        "id": "aKDvnmMvuQN3"
      },
      "outputs": [],
      "source": [
        "import pandas as pd\n",
        "import numpy as np\n",
        "import matplotlib.pyplot as plt\n",
        "import seaborn as sns\n",
        "import plotly.graph_objects as go\n",
        "import plotly.express as px\n",
        "from plotly.subplots import make_subplots\n",
        "from wordcloud import WordCloud, STOPWORDS"
      ]
    },
    {
      "cell_type": "code",
      "source": [
        "from google.colab import drive\n",
        "drive.mount(\"/content/drive\")"
      ],
      "metadata": {
        "colab": {
          "base_uri": "https://localhost:8080/"
        },
        "id": "kkYr04tavlPb",
        "outputId": "7654e118-01b9-49ff-db46-76becc4d96ae"
      },
      "execution_count": 2,
      "outputs": [
        {
          "output_type": "stream",
          "name": "stdout",
          "text": [
            "Mounted at /content/drive\n"
          ]
        }
      ]
    },
    {
      "cell_type": "markdown",
      "source": [
        "##**Loading the Dataset**"
      ],
      "metadata": {
        "id": "kfMe8yuVvyA3"
      }
    },
    {
      "cell_type": "code",
      "source": [
        "netflix = pd.read_csv(\"/content/drive/MyDrive/Datasets/NETFLIX MOVIES AND TV SHOWS CLUSTERING.csv\")\n",
        "netflix_cp = netflix.copy()\n",
        "netflix_cp.head()"
      ],
      "metadata": {
        "colab": {
          "base_uri": "https://localhost:8080/",
          "height": 424
        },
        "id": "ajn68csgvzky",
        "outputId": "11a8ebe1-d02d-4b83-b23a-f0745d693038"
      },
      "execution_count": 3,
      "outputs": [
        {
          "output_type": "execute_result",
          "data": {
            "text/plain": [
              "  show_id     type  title           director  \\\n",
              "0      s1  TV Show     3%                NaN   \n",
              "1      s2    Movie   7:19  Jorge Michel Grau   \n",
              "2      s3    Movie  23:59       Gilbert Chan   \n",
              "3      s4    Movie      9        Shane Acker   \n",
              "4      s5    Movie     21     Robert Luketic   \n",
              "\n",
              "                                                cast        country  \\\n",
              "0  João Miguel, Bianca Comparato, Michel Gomes, R...         Brazil   \n",
              "1  Demián Bichir, Héctor Bonilla, Oscar Serrano, ...         Mexico   \n",
              "2  Tedd Chan, Stella Chung, Henley Hii, Lawrence ...      Singapore   \n",
              "3  Elijah Wood, John C. Reilly, Jennifer Connelly...  United States   \n",
              "4  Jim Sturgess, Kevin Spacey, Kate Bosworth, Aar...  United States   \n",
              "\n",
              "          date_added  release_year rating   duration  \\\n",
              "0    August 14, 2020          2020  TV-MA  4 Seasons   \n",
              "1  December 23, 2016          2016  TV-MA     93 min   \n",
              "2  December 20, 2018          2011      R     78 min   \n",
              "3  November 16, 2017          2009  PG-13     80 min   \n",
              "4    January 1, 2020          2008  PG-13    123 min   \n",
              "\n",
              "                                           listed_in  \\\n",
              "0  International TV Shows, TV Dramas, TV Sci-Fi &...   \n",
              "1                       Dramas, International Movies   \n",
              "2                Horror Movies, International Movies   \n",
              "3  Action & Adventure, Independent Movies, Sci-Fi...   \n",
              "4                                             Dramas   \n",
              "\n",
              "                                         description  \n",
              "0  In a future where the elite inhabit an island ...  \n",
              "1  After a devastating earthquake hits Mexico Cit...  \n",
              "2  When an army recruit is found dead, his fellow...  \n",
              "3  In a postapocalyptic world, rag-doll robots hi...  \n",
              "4  A brilliant group of students become card-coun...  "
            ],
            "text/html": [
              "\n",
              "  <div id=\"df-99888ce1-98e4-4414-9d42-24e6ee888bb1\">\n",
              "    <div class=\"colab-df-container\">\n",
              "      <div>\n",
              "<style scoped>\n",
              "    .dataframe tbody tr th:only-of-type {\n",
              "        vertical-align: middle;\n",
              "    }\n",
              "\n",
              "    .dataframe tbody tr th {\n",
              "        vertical-align: top;\n",
              "    }\n",
              "\n",
              "    .dataframe thead th {\n",
              "        text-align: right;\n",
              "    }\n",
              "</style>\n",
              "<table border=\"1\" class=\"dataframe\">\n",
              "  <thead>\n",
              "    <tr style=\"text-align: right;\">\n",
              "      <th></th>\n",
              "      <th>show_id</th>\n",
              "      <th>type</th>\n",
              "      <th>title</th>\n",
              "      <th>director</th>\n",
              "      <th>cast</th>\n",
              "      <th>country</th>\n",
              "      <th>date_added</th>\n",
              "      <th>release_year</th>\n",
              "      <th>rating</th>\n",
              "      <th>duration</th>\n",
              "      <th>listed_in</th>\n",
              "      <th>description</th>\n",
              "    </tr>\n",
              "  </thead>\n",
              "  <tbody>\n",
              "    <tr>\n",
              "      <th>0</th>\n",
              "      <td>s1</td>\n",
              "      <td>TV Show</td>\n",
              "      <td>3%</td>\n",
              "      <td>NaN</td>\n",
              "      <td>João Miguel, Bianca Comparato, Michel Gomes, R...</td>\n",
              "      <td>Brazil</td>\n",
              "      <td>August 14, 2020</td>\n",
              "      <td>2020</td>\n",
              "      <td>TV-MA</td>\n",
              "      <td>4 Seasons</td>\n",
              "      <td>International TV Shows, TV Dramas, TV Sci-Fi &amp;...</td>\n",
              "      <td>In a future where the elite inhabit an island ...</td>\n",
              "    </tr>\n",
              "    <tr>\n",
              "      <th>1</th>\n",
              "      <td>s2</td>\n",
              "      <td>Movie</td>\n",
              "      <td>7:19</td>\n",
              "      <td>Jorge Michel Grau</td>\n",
              "      <td>Demián Bichir, Héctor Bonilla, Oscar Serrano, ...</td>\n",
              "      <td>Mexico</td>\n",
              "      <td>December 23, 2016</td>\n",
              "      <td>2016</td>\n",
              "      <td>TV-MA</td>\n",
              "      <td>93 min</td>\n",
              "      <td>Dramas, International Movies</td>\n",
              "      <td>After a devastating earthquake hits Mexico Cit...</td>\n",
              "    </tr>\n",
              "    <tr>\n",
              "      <th>2</th>\n",
              "      <td>s3</td>\n",
              "      <td>Movie</td>\n",
              "      <td>23:59</td>\n",
              "      <td>Gilbert Chan</td>\n",
              "      <td>Tedd Chan, Stella Chung, Henley Hii, Lawrence ...</td>\n",
              "      <td>Singapore</td>\n",
              "      <td>December 20, 2018</td>\n",
              "      <td>2011</td>\n",
              "      <td>R</td>\n",
              "      <td>78 min</td>\n",
              "      <td>Horror Movies, International Movies</td>\n",
              "      <td>When an army recruit is found dead, his fellow...</td>\n",
              "    </tr>\n",
              "    <tr>\n",
              "      <th>3</th>\n",
              "      <td>s4</td>\n",
              "      <td>Movie</td>\n",
              "      <td>9</td>\n",
              "      <td>Shane Acker</td>\n",
              "      <td>Elijah Wood, John C. Reilly, Jennifer Connelly...</td>\n",
              "      <td>United States</td>\n",
              "      <td>November 16, 2017</td>\n",
              "      <td>2009</td>\n",
              "      <td>PG-13</td>\n",
              "      <td>80 min</td>\n",
              "      <td>Action &amp; Adventure, Independent Movies, Sci-Fi...</td>\n",
              "      <td>In a postapocalyptic world, rag-doll robots hi...</td>\n",
              "    </tr>\n",
              "    <tr>\n",
              "      <th>4</th>\n",
              "      <td>s5</td>\n",
              "      <td>Movie</td>\n",
              "      <td>21</td>\n",
              "      <td>Robert Luketic</td>\n",
              "      <td>Jim Sturgess, Kevin Spacey, Kate Bosworth, Aar...</td>\n",
              "      <td>United States</td>\n",
              "      <td>January 1, 2020</td>\n",
              "      <td>2008</td>\n",
              "      <td>PG-13</td>\n",
              "      <td>123 min</td>\n",
              "      <td>Dramas</td>\n",
              "      <td>A brilliant group of students become card-coun...</td>\n",
              "    </tr>\n",
              "  </tbody>\n",
              "</table>\n",
              "</div>\n",
              "      <button class=\"colab-df-convert\" onclick=\"convertToInteractive('df-99888ce1-98e4-4414-9d42-24e6ee888bb1')\"\n",
              "              title=\"Convert this dataframe to an interactive table.\"\n",
              "              style=\"display:none;\">\n",
              "        \n",
              "  <svg xmlns=\"http://www.w3.org/2000/svg\" height=\"24px\"viewBox=\"0 0 24 24\"\n",
              "       width=\"24px\">\n",
              "    <path d=\"M0 0h24v24H0V0z\" fill=\"none\"/>\n",
              "    <path d=\"M18.56 5.44l.94 2.06.94-2.06 2.06-.94-2.06-.94-.94-2.06-.94 2.06-2.06.94zm-11 1L8.5 8.5l.94-2.06 2.06-.94-2.06-.94L8.5 2.5l-.94 2.06-2.06.94zm10 10l.94 2.06.94-2.06 2.06-.94-2.06-.94-.94-2.06-.94 2.06-2.06.94z\"/><path d=\"M17.41 7.96l-1.37-1.37c-.4-.4-.92-.59-1.43-.59-.52 0-1.04.2-1.43.59L10.3 9.45l-7.72 7.72c-.78.78-.78 2.05 0 2.83L4 21.41c.39.39.9.59 1.41.59.51 0 1.02-.2 1.41-.59l7.78-7.78 2.81-2.81c.8-.78.8-2.07 0-2.86zM5.41 20L4 18.59l7.72-7.72 1.47 1.35L5.41 20z\"/>\n",
              "  </svg>\n",
              "      </button>\n",
              "      \n",
              "  <style>\n",
              "    .colab-df-container {\n",
              "      display:flex;\n",
              "      flex-wrap:wrap;\n",
              "      gap: 12px;\n",
              "    }\n",
              "\n",
              "    .colab-df-convert {\n",
              "      background-color: #E8F0FE;\n",
              "      border: none;\n",
              "      border-radius: 50%;\n",
              "      cursor: pointer;\n",
              "      display: none;\n",
              "      fill: #1967D2;\n",
              "      height: 32px;\n",
              "      padding: 0 0 0 0;\n",
              "      width: 32px;\n",
              "    }\n",
              "\n",
              "    .colab-df-convert:hover {\n",
              "      background-color: #E2EBFA;\n",
              "      box-shadow: 0px 1px 2px rgba(60, 64, 67, 0.3), 0px 1px 3px 1px rgba(60, 64, 67, 0.15);\n",
              "      fill: #174EA6;\n",
              "    }\n",
              "\n",
              "    [theme=dark] .colab-df-convert {\n",
              "      background-color: #3B4455;\n",
              "      fill: #D2E3FC;\n",
              "    }\n",
              "\n",
              "    [theme=dark] .colab-df-convert:hover {\n",
              "      background-color: #434B5C;\n",
              "      box-shadow: 0px 1px 3px 1px rgba(0, 0, 0, 0.15);\n",
              "      filter: drop-shadow(0px 1px 2px rgba(0, 0, 0, 0.3));\n",
              "      fill: #FFFFFF;\n",
              "    }\n",
              "  </style>\n",
              "\n",
              "      <script>\n",
              "        const buttonEl =\n",
              "          document.querySelector('#df-99888ce1-98e4-4414-9d42-24e6ee888bb1 button.colab-df-convert');\n",
              "        buttonEl.style.display =\n",
              "          google.colab.kernel.accessAllowed ? 'block' : 'none';\n",
              "\n",
              "        async function convertToInteractive(key) {\n",
              "          const element = document.querySelector('#df-99888ce1-98e4-4414-9d42-24e6ee888bb1');\n",
              "          const dataTable =\n",
              "            await google.colab.kernel.invokeFunction('convertToInteractive',\n",
              "                                                     [key], {});\n",
              "          if (!dataTable) return;\n",
              "\n",
              "          const docLinkHtml = 'Like what you see? Visit the ' +\n",
              "            '<a target=\"_blank\" href=https://colab.research.google.com/notebooks/data_table.ipynb>data table notebook</a>'\n",
              "            + ' to learn more about interactive tables.';\n",
              "          element.innerHTML = '';\n",
              "          dataTable['output_type'] = 'display_data';\n",
              "          await google.colab.output.renderOutput(dataTable, element);\n",
              "          const docLink = document.createElement('div');\n",
              "          docLink.innerHTML = docLinkHtml;\n",
              "          element.appendChild(docLink);\n",
              "        }\n",
              "      </script>\n",
              "    </div>\n",
              "  </div>\n",
              "  "
            ]
          },
          "metadata": {},
          "execution_count": 3
        }
      ]
    },
    {
      "cell_type": "code",
      "source": [
        "netflix_cp.info()"
      ],
      "metadata": {
        "colab": {
          "base_uri": "https://localhost:8080/"
        },
        "id": "vH-gEQzJwi-J",
        "outputId": "fac79747-5f2b-48ac-e0df-d7e713e81dad"
      },
      "execution_count": 4,
      "outputs": [
        {
          "output_type": "stream",
          "name": "stdout",
          "text": [
            "<class 'pandas.core.frame.DataFrame'>\n",
            "RangeIndex: 7787 entries, 0 to 7786\n",
            "Data columns (total 12 columns):\n",
            " #   Column        Non-Null Count  Dtype \n",
            "---  ------        --------------  ----- \n",
            " 0   show_id       7787 non-null   object\n",
            " 1   type          7787 non-null   object\n",
            " 2   title         7787 non-null   object\n",
            " 3   director      5398 non-null   object\n",
            " 4   cast          7069 non-null   object\n",
            " 5   country       7280 non-null   object\n",
            " 6   date_added    7777 non-null   object\n",
            " 7   release_year  7787 non-null   int64 \n",
            " 8   rating        7780 non-null   object\n",
            " 9   duration      7787 non-null   object\n",
            " 10  listed_in     7787 non-null   object\n",
            " 11  description   7787 non-null   object\n",
            "dtypes: int64(1), object(11)\n",
            "memory usage: 730.2+ KB\n"
          ]
        }
      ]
    },
    {
      "cell_type": "code",
      "source": [
        "netflix_cp.describe(include = \"all\")"
      ],
      "metadata": {
        "colab": {
          "base_uri": "https://localhost:8080/",
          "height": 456
        },
        "id": "f4liM-74wmxZ",
        "outputId": "d50d14eb-c1e1-40b5-c517-3e0c2b02907c"
      },
      "execution_count": 5,
      "outputs": [
        {
          "output_type": "execute_result",
          "data": {
            "text/plain": [
              "       show_id   type title                director                cast  \\\n",
              "count     7787   7787  7787                    5398                7069   \n",
              "unique    7787      2  7787                    4049                6831   \n",
              "top         s1  Movie    3%  Raúl Campos, Jan Suter  David Attenborough   \n",
              "freq         1   5377     1                      18                  18   \n",
              "mean       NaN    NaN   NaN                     NaN                 NaN   \n",
              "std        NaN    NaN   NaN                     NaN                 NaN   \n",
              "min        NaN    NaN   NaN                     NaN                 NaN   \n",
              "25%        NaN    NaN   NaN                     NaN                 NaN   \n",
              "50%        NaN    NaN   NaN                     NaN                 NaN   \n",
              "75%        NaN    NaN   NaN                     NaN                 NaN   \n",
              "max        NaN    NaN   NaN                     NaN                 NaN   \n",
              "\n",
              "              country       date_added  release_year rating  duration  \\\n",
              "count            7280             7777   7787.000000   7780      7787   \n",
              "unique            681             1565           NaN     14       216   \n",
              "top     United States  January 1, 2020           NaN  TV-MA  1 Season   \n",
              "freq             2555              118           NaN   2863      1608   \n",
              "mean              NaN              NaN   2013.932580    NaN       NaN   \n",
              "std               NaN              NaN      8.757395    NaN       NaN   \n",
              "min               NaN              NaN   1925.000000    NaN       NaN   \n",
              "25%               NaN              NaN   2013.000000    NaN       NaN   \n",
              "50%               NaN              NaN   2017.000000    NaN       NaN   \n",
              "75%               NaN              NaN   2018.000000    NaN       NaN   \n",
              "max               NaN              NaN   2021.000000    NaN       NaN   \n",
              "\n",
              "            listed_in                                        description  \n",
              "count            7787                                               7787  \n",
              "unique            492                                               7769  \n",
              "top     Documentaries  Multiple women report their husbands as missin...  \n",
              "freq              334                                                  3  \n",
              "mean              NaN                                                NaN  \n",
              "std               NaN                                                NaN  \n",
              "min               NaN                                                NaN  \n",
              "25%               NaN                                                NaN  \n",
              "50%               NaN                                                NaN  \n",
              "75%               NaN                                                NaN  \n",
              "max               NaN                                                NaN  "
            ],
            "text/html": [
              "\n",
              "  <div id=\"df-6d559104-5a16-404e-a212-3aa2a49c70d7\">\n",
              "    <div class=\"colab-df-container\">\n",
              "      <div>\n",
              "<style scoped>\n",
              "    .dataframe tbody tr th:only-of-type {\n",
              "        vertical-align: middle;\n",
              "    }\n",
              "\n",
              "    .dataframe tbody tr th {\n",
              "        vertical-align: top;\n",
              "    }\n",
              "\n",
              "    .dataframe thead th {\n",
              "        text-align: right;\n",
              "    }\n",
              "</style>\n",
              "<table border=\"1\" class=\"dataframe\">\n",
              "  <thead>\n",
              "    <tr style=\"text-align: right;\">\n",
              "      <th></th>\n",
              "      <th>show_id</th>\n",
              "      <th>type</th>\n",
              "      <th>title</th>\n",
              "      <th>director</th>\n",
              "      <th>cast</th>\n",
              "      <th>country</th>\n",
              "      <th>date_added</th>\n",
              "      <th>release_year</th>\n",
              "      <th>rating</th>\n",
              "      <th>duration</th>\n",
              "      <th>listed_in</th>\n",
              "      <th>description</th>\n",
              "    </tr>\n",
              "  </thead>\n",
              "  <tbody>\n",
              "    <tr>\n",
              "      <th>count</th>\n",
              "      <td>7787</td>\n",
              "      <td>7787</td>\n",
              "      <td>7787</td>\n",
              "      <td>5398</td>\n",
              "      <td>7069</td>\n",
              "      <td>7280</td>\n",
              "      <td>7777</td>\n",
              "      <td>7787.000000</td>\n",
              "      <td>7780</td>\n",
              "      <td>7787</td>\n",
              "      <td>7787</td>\n",
              "      <td>7787</td>\n",
              "    </tr>\n",
              "    <tr>\n",
              "      <th>unique</th>\n",
              "      <td>7787</td>\n",
              "      <td>2</td>\n",
              "      <td>7787</td>\n",
              "      <td>4049</td>\n",
              "      <td>6831</td>\n",
              "      <td>681</td>\n",
              "      <td>1565</td>\n",
              "      <td>NaN</td>\n",
              "      <td>14</td>\n",
              "      <td>216</td>\n",
              "      <td>492</td>\n",
              "      <td>7769</td>\n",
              "    </tr>\n",
              "    <tr>\n",
              "      <th>top</th>\n",
              "      <td>s1</td>\n",
              "      <td>Movie</td>\n",
              "      <td>3%</td>\n",
              "      <td>Raúl Campos, Jan Suter</td>\n",
              "      <td>David Attenborough</td>\n",
              "      <td>United States</td>\n",
              "      <td>January 1, 2020</td>\n",
              "      <td>NaN</td>\n",
              "      <td>TV-MA</td>\n",
              "      <td>1 Season</td>\n",
              "      <td>Documentaries</td>\n",
              "      <td>Multiple women report their husbands as missin...</td>\n",
              "    </tr>\n",
              "    <tr>\n",
              "      <th>freq</th>\n",
              "      <td>1</td>\n",
              "      <td>5377</td>\n",
              "      <td>1</td>\n",
              "      <td>18</td>\n",
              "      <td>18</td>\n",
              "      <td>2555</td>\n",
              "      <td>118</td>\n",
              "      <td>NaN</td>\n",
              "      <td>2863</td>\n",
              "      <td>1608</td>\n",
              "      <td>334</td>\n",
              "      <td>3</td>\n",
              "    </tr>\n",
              "    <tr>\n",
              "      <th>mean</th>\n",
              "      <td>NaN</td>\n",
              "      <td>NaN</td>\n",
              "      <td>NaN</td>\n",
              "      <td>NaN</td>\n",
              "      <td>NaN</td>\n",
              "      <td>NaN</td>\n",
              "      <td>NaN</td>\n",
              "      <td>2013.932580</td>\n",
              "      <td>NaN</td>\n",
              "      <td>NaN</td>\n",
              "      <td>NaN</td>\n",
              "      <td>NaN</td>\n",
              "    </tr>\n",
              "    <tr>\n",
              "      <th>std</th>\n",
              "      <td>NaN</td>\n",
              "      <td>NaN</td>\n",
              "      <td>NaN</td>\n",
              "      <td>NaN</td>\n",
              "      <td>NaN</td>\n",
              "      <td>NaN</td>\n",
              "      <td>NaN</td>\n",
              "      <td>8.757395</td>\n",
              "      <td>NaN</td>\n",
              "      <td>NaN</td>\n",
              "      <td>NaN</td>\n",
              "      <td>NaN</td>\n",
              "    </tr>\n",
              "    <tr>\n",
              "      <th>min</th>\n",
              "      <td>NaN</td>\n",
              "      <td>NaN</td>\n",
              "      <td>NaN</td>\n",
              "      <td>NaN</td>\n",
              "      <td>NaN</td>\n",
              "      <td>NaN</td>\n",
              "      <td>NaN</td>\n",
              "      <td>1925.000000</td>\n",
              "      <td>NaN</td>\n",
              "      <td>NaN</td>\n",
              "      <td>NaN</td>\n",
              "      <td>NaN</td>\n",
              "    </tr>\n",
              "    <tr>\n",
              "      <th>25%</th>\n",
              "      <td>NaN</td>\n",
              "      <td>NaN</td>\n",
              "      <td>NaN</td>\n",
              "      <td>NaN</td>\n",
              "      <td>NaN</td>\n",
              "      <td>NaN</td>\n",
              "      <td>NaN</td>\n",
              "      <td>2013.000000</td>\n",
              "      <td>NaN</td>\n",
              "      <td>NaN</td>\n",
              "      <td>NaN</td>\n",
              "      <td>NaN</td>\n",
              "    </tr>\n",
              "    <tr>\n",
              "      <th>50%</th>\n",
              "      <td>NaN</td>\n",
              "      <td>NaN</td>\n",
              "      <td>NaN</td>\n",
              "      <td>NaN</td>\n",
              "      <td>NaN</td>\n",
              "      <td>NaN</td>\n",
              "      <td>NaN</td>\n",
              "      <td>2017.000000</td>\n",
              "      <td>NaN</td>\n",
              "      <td>NaN</td>\n",
              "      <td>NaN</td>\n",
              "      <td>NaN</td>\n",
              "    </tr>\n",
              "    <tr>\n",
              "      <th>75%</th>\n",
              "      <td>NaN</td>\n",
              "      <td>NaN</td>\n",
              "      <td>NaN</td>\n",
              "      <td>NaN</td>\n",
              "      <td>NaN</td>\n",
              "      <td>NaN</td>\n",
              "      <td>NaN</td>\n",
              "      <td>2018.000000</td>\n",
              "      <td>NaN</td>\n",
              "      <td>NaN</td>\n",
              "      <td>NaN</td>\n",
              "      <td>NaN</td>\n",
              "    </tr>\n",
              "    <tr>\n",
              "      <th>max</th>\n",
              "      <td>NaN</td>\n",
              "      <td>NaN</td>\n",
              "      <td>NaN</td>\n",
              "      <td>NaN</td>\n",
              "      <td>NaN</td>\n",
              "      <td>NaN</td>\n",
              "      <td>NaN</td>\n",
              "      <td>2021.000000</td>\n",
              "      <td>NaN</td>\n",
              "      <td>NaN</td>\n",
              "      <td>NaN</td>\n",
              "      <td>NaN</td>\n",
              "    </tr>\n",
              "  </tbody>\n",
              "</table>\n",
              "</div>\n",
              "      <button class=\"colab-df-convert\" onclick=\"convertToInteractive('df-6d559104-5a16-404e-a212-3aa2a49c70d7')\"\n",
              "              title=\"Convert this dataframe to an interactive table.\"\n",
              "              style=\"display:none;\">\n",
              "        \n",
              "  <svg xmlns=\"http://www.w3.org/2000/svg\" height=\"24px\"viewBox=\"0 0 24 24\"\n",
              "       width=\"24px\">\n",
              "    <path d=\"M0 0h24v24H0V0z\" fill=\"none\"/>\n",
              "    <path d=\"M18.56 5.44l.94 2.06.94-2.06 2.06-.94-2.06-.94-.94-2.06-.94 2.06-2.06.94zm-11 1L8.5 8.5l.94-2.06 2.06-.94-2.06-.94L8.5 2.5l-.94 2.06-2.06.94zm10 10l.94 2.06.94-2.06 2.06-.94-2.06-.94-.94-2.06-.94 2.06-2.06.94z\"/><path d=\"M17.41 7.96l-1.37-1.37c-.4-.4-.92-.59-1.43-.59-.52 0-1.04.2-1.43.59L10.3 9.45l-7.72 7.72c-.78.78-.78 2.05 0 2.83L4 21.41c.39.39.9.59 1.41.59.51 0 1.02-.2 1.41-.59l7.78-7.78 2.81-2.81c.8-.78.8-2.07 0-2.86zM5.41 20L4 18.59l7.72-7.72 1.47 1.35L5.41 20z\"/>\n",
              "  </svg>\n",
              "      </button>\n",
              "      \n",
              "  <style>\n",
              "    .colab-df-container {\n",
              "      display:flex;\n",
              "      flex-wrap:wrap;\n",
              "      gap: 12px;\n",
              "    }\n",
              "\n",
              "    .colab-df-convert {\n",
              "      background-color: #E8F0FE;\n",
              "      border: none;\n",
              "      border-radius: 50%;\n",
              "      cursor: pointer;\n",
              "      display: none;\n",
              "      fill: #1967D2;\n",
              "      height: 32px;\n",
              "      padding: 0 0 0 0;\n",
              "      width: 32px;\n",
              "    }\n",
              "\n",
              "    .colab-df-convert:hover {\n",
              "      background-color: #E2EBFA;\n",
              "      box-shadow: 0px 1px 2px rgba(60, 64, 67, 0.3), 0px 1px 3px 1px rgba(60, 64, 67, 0.15);\n",
              "      fill: #174EA6;\n",
              "    }\n",
              "\n",
              "    [theme=dark] .colab-df-convert {\n",
              "      background-color: #3B4455;\n",
              "      fill: #D2E3FC;\n",
              "    }\n",
              "\n",
              "    [theme=dark] .colab-df-convert:hover {\n",
              "      background-color: #434B5C;\n",
              "      box-shadow: 0px 1px 3px 1px rgba(0, 0, 0, 0.15);\n",
              "      filter: drop-shadow(0px 1px 2px rgba(0, 0, 0, 0.3));\n",
              "      fill: #FFFFFF;\n",
              "    }\n",
              "  </style>\n",
              "\n",
              "      <script>\n",
              "        const buttonEl =\n",
              "          document.querySelector('#df-6d559104-5a16-404e-a212-3aa2a49c70d7 button.colab-df-convert');\n",
              "        buttonEl.style.display =\n",
              "          google.colab.kernel.accessAllowed ? 'block' : 'none';\n",
              "\n",
              "        async function convertToInteractive(key) {\n",
              "          const element = document.querySelector('#df-6d559104-5a16-404e-a212-3aa2a49c70d7');\n",
              "          const dataTable =\n",
              "            await google.colab.kernel.invokeFunction('convertToInteractive',\n",
              "                                                     [key], {});\n",
              "          if (!dataTable) return;\n",
              "\n",
              "          const docLinkHtml = 'Like what you see? Visit the ' +\n",
              "            '<a target=\"_blank\" href=https://colab.research.google.com/notebooks/data_table.ipynb>data table notebook</a>'\n",
              "            + ' to learn more about interactive tables.';\n",
              "          element.innerHTML = '';\n",
              "          dataTable['output_type'] = 'display_data';\n",
              "          await google.colab.output.renderOutput(dataTable, element);\n",
              "          const docLink = document.createElement('div');\n",
              "          docLink.innerHTML = docLinkHtml;\n",
              "          element.appendChild(docLink);\n",
              "        }\n",
              "      </script>\n",
              "    </div>\n",
              "  </div>\n",
              "  "
            ]
          },
          "metadata": {},
          "execution_count": 5
        }
      ]
    },
    {
      "cell_type": "code",
      "source": [
        "print(f\"Netflix datasets shape:{netflix_cp.shape}\")"
      ],
      "metadata": {
        "colab": {
          "base_uri": "https://localhost:8080/"
        },
        "id": "AX7FXdyewpNw",
        "outputId": "23a47ede-735e-4be6-a063-947248ef4111"
      },
      "execution_count": 6,
      "outputs": [
        {
          "output_type": "stream",
          "name": "stdout",
          "text": [
            "Netflix datasets shape:(7787, 12)\n"
          ]
        }
      ]
    },
    {
      "cell_type": "markdown",
      "source": [
        "There are 7787 rows and 12 columns provided in the data."
      ],
      "metadata": {
        "id": "4PmiMfJQwtLA"
      }
    },
    {
      "cell_type": "markdown",
      "source": [
        "#**Data Cleaning & Data Visualization**"
      ],
      "metadata": {
        "id": "n4SfoRwMwwhn"
      }
    },
    {
      "cell_type": "markdown",
      "source": [
        "###**Checking NaN values**"
      ],
      "metadata": {
        "id": "z3yrLIZkwyhA"
      }
    },
    {
      "cell_type": "code",
      "source": [
        "# Check for null values.\n",
        "null_check = pd.DataFrame({\"No Of Total Values\": netflix_cp.shape[0] , \"No of NaN values\": netflix_cp.isnull().sum(),\n",
        "                    \"%age of NaN values\" : round((netflix_cp.isnull().sum()/ netflix_cp.shape[0])*100 , 2) })\n",
        "null_check.sort_values(\"No of NaN values\" , ascending = False)"
      ],
      "metadata": {
        "colab": {
          "base_uri": "https://localhost:8080/",
          "height": 426
        },
        "id": "Q3fmyBdqw0Zw",
        "outputId": "44463573-0a79-45d4-f39e-12fd0c653fdc"
      },
      "execution_count": 7,
      "outputs": [
        {
          "output_type": "execute_result",
          "data": {
            "text/plain": [
              "              No Of Total Values  No of NaN values  %age of NaN values\n",
              "director                    7787              2389               30.68\n",
              "cast                        7787               718                9.22\n",
              "country                     7787               507                6.51\n",
              "date_added                  7787                10                0.13\n",
              "rating                      7787                 7                0.09\n",
              "show_id                     7787                 0                0.00\n",
              "type                        7787                 0                0.00\n",
              "title                       7787                 0                0.00\n",
              "release_year                7787                 0                0.00\n",
              "duration                    7787                 0                0.00\n",
              "listed_in                   7787                 0                0.00\n",
              "description                 7787                 0                0.00"
            ],
            "text/html": [
              "\n",
              "  <div id=\"df-8cecfdbd-b143-4d0e-8ce7-d3c349830b30\">\n",
              "    <div class=\"colab-df-container\">\n",
              "      <div>\n",
              "<style scoped>\n",
              "    .dataframe tbody tr th:only-of-type {\n",
              "        vertical-align: middle;\n",
              "    }\n",
              "\n",
              "    .dataframe tbody tr th {\n",
              "        vertical-align: top;\n",
              "    }\n",
              "\n",
              "    .dataframe thead th {\n",
              "        text-align: right;\n",
              "    }\n",
              "</style>\n",
              "<table border=\"1\" class=\"dataframe\">\n",
              "  <thead>\n",
              "    <tr style=\"text-align: right;\">\n",
              "      <th></th>\n",
              "      <th>No Of Total Values</th>\n",
              "      <th>No of NaN values</th>\n",
              "      <th>%age of NaN values</th>\n",
              "    </tr>\n",
              "  </thead>\n",
              "  <tbody>\n",
              "    <tr>\n",
              "      <th>director</th>\n",
              "      <td>7787</td>\n",
              "      <td>2389</td>\n",
              "      <td>30.68</td>\n",
              "    </tr>\n",
              "    <tr>\n",
              "      <th>cast</th>\n",
              "      <td>7787</td>\n",
              "      <td>718</td>\n",
              "      <td>9.22</td>\n",
              "    </tr>\n",
              "    <tr>\n",
              "      <th>country</th>\n",
              "      <td>7787</td>\n",
              "      <td>507</td>\n",
              "      <td>6.51</td>\n",
              "    </tr>\n",
              "    <tr>\n",
              "      <th>date_added</th>\n",
              "      <td>7787</td>\n",
              "      <td>10</td>\n",
              "      <td>0.13</td>\n",
              "    </tr>\n",
              "    <tr>\n",
              "      <th>rating</th>\n",
              "      <td>7787</td>\n",
              "      <td>7</td>\n",
              "      <td>0.09</td>\n",
              "    </tr>\n",
              "    <tr>\n",
              "      <th>show_id</th>\n",
              "      <td>7787</td>\n",
              "      <td>0</td>\n",
              "      <td>0.00</td>\n",
              "    </tr>\n",
              "    <tr>\n",
              "      <th>type</th>\n",
              "      <td>7787</td>\n",
              "      <td>0</td>\n",
              "      <td>0.00</td>\n",
              "    </tr>\n",
              "    <tr>\n",
              "      <th>title</th>\n",
              "      <td>7787</td>\n",
              "      <td>0</td>\n",
              "      <td>0.00</td>\n",
              "    </tr>\n",
              "    <tr>\n",
              "      <th>release_year</th>\n",
              "      <td>7787</td>\n",
              "      <td>0</td>\n",
              "      <td>0.00</td>\n",
              "    </tr>\n",
              "    <tr>\n",
              "      <th>duration</th>\n",
              "      <td>7787</td>\n",
              "      <td>0</td>\n",
              "      <td>0.00</td>\n",
              "    </tr>\n",
              "    <tr>\n",
              "      <th>listed_in</th>\n",
              "      <td>7787</td>\n",
              "      <td>0</td>\n",
              "      <td>0.00</td>\n",
              "    </tr>\n",
              "    <tr>\n",
              "      <th>description</th>\n",
              "      <td>7787</td>\n",
              "      <td>0</td>\n",
              "      <td>0.00</td>\n",
              "    </tr>\n",
              "  </tbody>\n",
              "</table>\n",
              "</div>\n",
              "      <button class=\"colab-df-convert\" onclick=\"convertToInteractive('df-8cecfdbd-b143-4d0e-8ce7-d3c349830b30')\"\n",
              "              title=\"Convert this dataframe to an interactive table.\"\n",
              "              style=\"display:none;\">\n",
              "        \n",
              "  <svg xmlns=\"http://www.w3.org/2000/svg\" height=\"24px\"viewBox=\"0 0 24 24\"\n",
              "       width=\"24px\">\n",
              "    <path d=\"M0 0h24v24H0V0z\" fill=\"none\"/>\n",
              "    <path d=\"M18.56 5.44l.94 2.06.94-2.06 2.06-.94-2.06-.94-.94-2.06-.94 2.06-2.06.94zm-11 1L8.5 8.5l.94-2.06 2.06-.94-2.06-.94L8.5 2.5l-.94 2.06-2.06.94zm10 10l.94 2.06.94-2.06 2.06-.94-2.06-.94-.94-2.06-.94 2.06-2.06.94z\"/><path d=\"M17.41 7.96l-1.37-1.37c-.4-.4-.92-.59-1.43-.59-.52 0-1.04.2-1.43.59L10.3 9.45l-7.72 7.72c-.78.78-.78 2.05 0 2.83L4 21.41c.39.39.9.59 1.41.59.51 0 1.02-.2 1.41-.59l7.78-7.78 2.81-2.81c.8-.78.8-2.07 0-2.86zM5.41 20L4 18.59l7.72-7.72 1.47 1.35L5.41 20z\"/>\n",
              "  </svg>\n",
              "      </button>\n",
              "      \n",
              "  <style>\n",
              "    .colab-df-container {\n",
              "      display:flex;\n",
              "      flex-wrap:wrap;\n",
              "      gap: 12px;\n",
              "    }\n",
              "\n",
              "    .colab-df-convert {\n",
              "      background-color: #E8F0FE;\n",
              "      border: none;\n",
              "      border-radius: 50%;\n",
              "      cursor: pointer;\n",
              "      display: none;\n",
              "      fill: #1967D2;\n",
              "      height: 32px;\n",
              "      padding: 0 0 0 0;\n",
              "      width: 32px;\n",
              "    }\n",
              "\n",
              "    .colab-df-convert:hover {\n",
              "      background-color: #E2EBFA;\n",
              "      box-shadow: 0px 1px 2px rgba(60, 64, 67, 0.3), 0px 1px 3px 1px rgba(60, 64, 67, 0.15);\n",
              "      fill: #174EA6;\n",
              "    }\n",
              "\n",
              "    [theme=dark] .colab-df-convert {\n",
              "      background-color: #3B4455;\n",
              "      fill: #D2E3FC;\n",
              "    }\n",
              "\n",
              "    [theme=dark] .colab-df-convert:hover {\n",
              "      background-color: #434B5C;\n",
              "      box-shadow: 0px 1px 3px 1px rgba(0, 0, 0, 0.15);\n",
              "      filter: drop-shadow(0px 1px 2px rgba(0, 0, 0, 0.3));\n",
              "      fill: #FFFFFF;\n",
              "    }\n",
              "  </style>\n",
              "\n",
              "      <script>\n",
              "        const buttonEl =\n",
              "          document.querySelector('#df-8cecfdbd-b143-4d0e-8ce7-d3c349830b30 button.colab-df-convert');\n",
              "        buttonEl.style.display =\n",
              "          google.colab.kernel.accessAllowed ? 'block' : 'none';\n",
              "\n",
              "        async function convertToInteractive(key) {\n",
              "          const element = document.querySelector('#df-8cecfdbd-b143-4d0e-8ce7-d3c349830b30');\n",
              "          const dataTable =\n",
              "            await google.colab.kernel.invokeFunction('convertToInteractive',\n",
              "                                                     [key], {});\n",
              "          if (!dataTable) return;\n",
              "\n",
              "          const docLinkHtml = 'Like what you see? Visit the ' +\n",
              "            '<a target=\"_blank\" href=https://colab.research.google.com/notebooks/data_table.ipynb>data table notebook</a>'\n",
              "            + ' to learn more about interactive tables.';\n",
              "          element.innerHTML = '';\n",
              "          dataTable['output_type'] = 'display_data';\n",
              "          await google.colab.output.renderOutput(dataTable, element);\n",
              "          const docLink = document.createElement('div');\n",
              "          docLink.innerHTML = docLinkHtml;\n",
              "          element.appendChild(docLink);\n",
              "        }\n",
              "      </script>\n",
              "    </div>\n",
              "  </div>\n",
              "  "
            ]
          },
          "metadata": {},
          "execution_count": 7
        }
      ]
    },
    {
      "cell_type": "markdown",
      "source": [
        "here, we found NaN values in some columns director,cast,country,date_added,rating."
      ],
      "metadata": {
        "id": "H8_l4g1Nw35n"
      }
    },
    {
      "cell_type": "markdown",
      "source": [
        "Let's plot the null values present in the dataset."
      ],
      "metadata": {
        "id": "Uqr_5r7Hw8Rn"
      }
    },
    {
      "cell_type": "code",
      "source": [
        "Nan_value = netflix_cp.isna()\n",
        "plt.figure(figsize = (10,5))\n",
        "sns.heatmap(Nan_value,cmap=\"YlGnBu\").set_title(\"Missing values in Colmuns\")"
      ],
      "metadata": {
        "colab": {
          "base_uri": "https://localhost:8080/",
          "height": 406
        },
        "id": "_M2FrfDGw3r4",
        "outputId": "39a765cb-3a60-4772-8985-9f575073246c"
      },
      "execution_count": 8,
      "outputs": [
        {
          "output_type": "execute_result",
          "data": {
            "text/plain": [
              "Text(0.5, 1.0, 'Missing values in Colmuns')"
            ]
          },
          "metadata": {},
          "execution_count": 8
        },
        {
          "output_type": "display_data",
          "data": {
            "text/plain": [
              "<Figure size 720x360 with 2 Axes>"
            ],
            "image/png": "[encoded data removed]"
          },
          "metadata": {
            "needs_background": "light"
          }
        }
      ]
    },
    {
      "cell_type": "markdown",
      "source": [
        "A Columns which have Null values are director, cast, country, date_added, and rating."
      ],
      "metadata": {
        "id": "HCt_0PaRxKzn"
      }
    },
    {
      "cell_type": "markdown",
      "source": [
        "####**Lets clean the data before we go any further.**\n",
        "\n",
        "**First replace few null values.**"
      ],
      "metadata": {
        "id": "xVbVqAw5xNSo"
      }
    },
    {
      "cell_type": "code",
      "source": [
        "# Number of null values in rating.\n",
        "netflix_cp.rating.isnull().sum()"
      ],
      "metadata": {
        "colab": {
          "base_uri": "https://localhost:8080/"
        },
        "id": "TlKNTK1ZxPWf",
        "outputId": "81f11381-ae8d-42e3-d929-b47625b30cb2"
      },
      "execution_count": 9,
      "outputs": [
        {
          "output_type": "execute_result",
          "data": {
            "text/plain": [
              "7"
            ]
          },
          "metadata": {},
          "execution_count": 9
        }
      ]
    },
    {
      "cell_type": "code",
      "source": [
        "netflix_cp.date_added.isnull().sum()"
      ],
      "metadata": {
        "colab": {
          "base_uri": "https://localhost:8080/"
        },
        "id": "Q1A2L9MDxRnJ",
        "outputId": "4a0555a3-0537-4b57-c47e-d21bc2a21c4c"
      },
      "execution_count": 10,
      "outputs": [
        {
          "output_type": "execute_result",
          "data": {
            "text/plain": [
              "10"
            ]
          },
          "metadata": {},
          "execution_count": 10
        }
      ]
    },
    {
      "cell_type": "code",
      "source": [
        "# Remove null values in rating.\n",
        "netflix_cp.dropna(subset=['rating'], inplace=True)\n",
        "netflix_cp.rating.isnull().sum()"
      ],
      "metadata": {
        "colab": {
          "base_uri": "https://localhost:8080/"
        },
        "id": "CfSdYzTZxTyX",
        "outputId": "a9732f36-006e-4f2e-c11b-2da354b23f60"
      },
      "execution_count": 11,
      "outputs": [
        {
          "output_type": "execute_result",
          "data": {
            "text/plain": [
              "0"
            ]
          },
          "metadata": {},
          "execution_count": 11
        }
      ]
    },
    {
      "cell_type": "code",
      "source": [
        "netflix_cp.dropna(subset=['date_added'], inplace=True)\n",
        "netflix_cp.date_added.isnull().sum()"
      ],
      "metadata": {
        "colab": {
          "base_uri": "https://localhost:8080/"
        },
        "id": "TkRAlZ03xVhe",
        "outputId": "9fc80e90-689a-4b49-e247-e5d0002f0bce"
      },
      "execution_count": 12,
      "outputs": [
        {
          "output_type": "execute_result",
          "data": {
            "text/plain": [
              "0"
            ]
          },
          "metadata": {},
          "execution_count": 12
        }
      ]
    },
    {
      "cell_type": "markdown",
      "source": [
        "After dropping rating null value."
      ],
      "metadata": {
        "id": "HnnIJzsRxYzo"
      }
    },
    {
      "cell_type": "code",
      "source": [
        "print(f\"Netflix datasets shape:{netflix_cp.shape}\")"
      ],
      "metadata": {
        "colab": {
          "base_uri": "https://localhost:8080/"
        },
        "id": "z03vwM5OxYl_",
        "outputId": "29d1972f-4b34-41af-c3d0-d9edef5f4528"
      },
      "execution_count": 13,
      "outputs": [
        {
          "output_type": "stream",
          "name": "stdout",
          "text": [
            "Netflix datasets shape:(7770, 12)\n"
          ]
        }
      ]
    },
    {
      "cell_type": "markdown",
      "source": [
        "Since there are only few null values present in date_added and rating (10 & 7 respectively) we will remove them from the data."
      ],
      "metadata": {
        "id": "YzvXyYZ2xez_"
      }
    },
    {
      "cell_type": "markdown",
      "source": [
        "##**No duplicate values exist.**"
      ],
      "metadata": {
        "id": "oiPPDl3qxhgK"
      }
    },
    {
      "cell_type": "code",
      "source": [
        "# Check for duplicated entries.\n",
        "print(f\"Total number of duplicated entries : {netflix_cp.duplicated().sum()}.\")"
      ],
      "metadata": {
        "colab": {
          "base_uri": "https://localhost:8080/"
        },
        "id": "LOcdz8UExd6X",
        "outputId": "5c0896ce-d262-49c5-ad40-b0bce079f576"
      },
      "execution_count": 14,
      "outputs": [
        {
          "output_type": "stream",
          "name": "stdout",
          "text": [
            "Total number of duplicated entries : 0.\n"
          ]
        }
      ]
    },
    {
      "cell_type": "markdown",
      "source": [
        "###**Extract more data from `data_added`.**"
      ],
      "metadata": {
        "id": "fLoxoJTxxs0V"
      }
    },
    {
      "cell_type": "code",
      "source": [
        "# Create new features to store date, day, month and year seperately.\n",
        "netflix_cp['date_added'] = pd.to_datetime(netflix_cp['date_added'])\n",
        "netflix_cp['days'] = netflix_cp['date_added'].dt.day\n",
        "netflix_cp['months'] = netflix_cp['date_added'].dt.month\n",
        "netflix_cp['years'] = netflix_cp['date_added'].dt.year"
      ],
      "metadata": {
        "id": "iT77BDbFxvFu"
      },
      "execution_count": 15,
      "outputs": []
    },
    {
      "cell_type": "code",
      "source": [
        "netflix_cp['years'].max()"
      ],
      "metadata": {
        "colab": {
          "base_uri": "https://localhost:8080/"
        },
        "id": "TLqMfQjZxxOW",
        "outputId": "2f3995ff-302b-48a5-8da9-abbf7a398fb5"
      },
      "execution_count": 16,
      "outputs": [
        {
          "output_type": "execute_result",
          "data": {
            "text/plain": [
              "2021"
            ]
          },
          "metadata": {},
          "execution_count": 16
        }
      ]
    },
    {
      "cell_type": "code",
      "source": [
        "netflix_cp.drop('date_added',axis = 1,inplace = True)"
      ],
      "metadata": {
        "id": "mNcEjC9xxzTt"
      },
      "execution_count": 17,
      "outputs": []
    },
    {
      "cell_type": "code",
      "source": [
        "netflix_cp.info()"
      ],
      "metadata": {
        "colab": {
          "base_uri": "https://localhost:8080/"
        },
        "id": "al7Y6Fl3x1gd",
        "outputId": "3ef821be-1531-4d91-ea12-7ff3c62dfd3e"
      },
      "execution_count": 18,
      "outputs": [
        {
          "output_type": "stream",
          "name": "stdout",
          "text": [
            "<class 'pandas.core.frame.DataFrame'>\n",
            "Int64Index: 7770 entries, 0 to 7786\n",
            "Data columns (total 14 columns):\n",
            " #   Column        Non-Null Count  Dtype \n",
            "---  ------        --------------  ----- \n",
            " 0   show_id       7770 non-null   object\n",
            " 1   type          7770 non-null   object\n",
            " 2   title         7770 non-null   object\n",
            " 3   director      5394 non-null   object\n",
            " 4   cast          7052 non-null   object\n",
            " 5   country       7265 non-null   object\n",
            " 6   release_year  7770 non-null   int64 \n",
            " 7   rating        7770 non-null   object\n",
            " 8   duration      7770 non-null   object\n",
            " 9   listed_in     7770 non-null   object\n",
            " 10  description   7770 non-null   object\n",
            " 11  days          7770 non-null   int64 \n",
            " 12  months        7770 non-null   int64 \n",
            " 13  years         7770 non-null   int64 \n",
            "dtypes: int64(4), object(10)\n",
            "memory usage: 910.5+ KB\n"
          ]
        }
      ]
    },
    {
      "cell_type": "code",
      "source": [
        "from collections import Counter\n",
        "\n",
        "#Define displayed years:\n",
        "years = list(range(2008,2020,1))\n",
        "\n",
        "#separate movies and tv_shows:\n",
        "movie_rows = netflix_cp.loc[netflix_cp[\"type\"] == \"Movie\"]\n",
        "tv_rows = netflix_cp.loc[netflix_cp[\"type\"] == \"TV Show\"]\n",
        "\n",
        "#Count movies / tv shows per year\n",
        "movies_counts = movie_rows.release_year.value_counts()\n",
        "tv_counts = tv_rows.release_year.value_counts()\n",
        "\n",
        "index_years_mov = movies_counts.index.isin(years)\n",
        "index_years_tv = tv_counts.index.isin(years)\n",
        "\n",
        "#select movies / tv shows between chosen years:\n",
        "movies = movies_counts[index_years_mov]\n",
        "tv_shows = tv_counts[index_years_tv]\n",
        "\n",
        "# Calculate percentages of movies and tv shows:\n",
        "movies_per = round(movie_rows.shape[0] / netflix_cp[\"type\"].shape[0] * 100, 2)\n",
        "tvshows_per = round(tv_rows.shape[0] / netflix_cp[\"type\"].shape[0] * 100, 2)\n",
        "\n",
        "#Top most commen Actors an directors (Movies and tv shows):\n",
        "casts = \", \".join(netflix_cp.copy().fillna(\"\")['cast']).split(\", \")\n",
        "counter_list = Counter(casts).most_common(5)\n",
        "most_commen_actors = [i for i in counter_list if i[0] != \"\"]\n",
        "labels = [i[0] for i in most_commen_actors][::-1]\n",
        "values = [i[1] for i in most_commen_actors][::-1]"
      ],
      "metadata": {
        "id": "F9zgBgrrx7ht"
      },
      "execution_count": 19,
      "outputs": []
    },
    {
      "cell_type": "markdown",
      "source": [
        "##**1. What type of content is available on Netflix.**"
      ],
      "metadata": {
        "id": "Od4_XR-RHgSO"
      }
    },
    {
      "cell_type": "code",
      "source": [
        "# Pie chart of type percentages\n",
        "plt.figure(figsize = (10,5))\n",
        "plt.pie([movies_per, tvshows_per], explode=(0, 0.3,), labels=[\"Movies\", \"TV Shows\"], autopct='%1.1f%%',shadow=True, startangle=90)\n",
        "plt.title('Percentage of Movies and Tv Shows')\n",
        "plt.tight_layout()\n",
        "\n",
        "plt.show()"
      ],
      "metadata": {
        "colab": {
          "base_uri": "https://localhost:8080/",
          "height": 369
        },
        "id": "YbDEvfEsHZDK",
        "outputId": "4b41aaa7-2384-4917-d2cb-55b61ee68c92"
      },
      "execution_count": 20,
      "outputs": [
        {
          "output_type": "display_data",
          "data": {
            "text/plain": [
              "<Figure size 720x360 with 1 Axes>"
            ],
            "image/png": "[encoded data removed]"
          },
          "metadata": {}
        }
      ]
    },
    {
      "cell_type": "markdown",
      "source": [
        "**69.1% of the content available on Netflix are movies, and 30.9% are TV Shows.**"
      ],
      "metadata": {
        "id": "s4FfT-UUHnCu"
      }
    },
    {
      "cell_type": "markdown",
      "source": [
        "##**2. How many Movie/TV shows are released per year.**"
      ],
      "metadata": {
        "id": "zysk1TbjHrsw"
      }
    },
    {
      "cell_type": "code",
      "source": [
        "sns.lineplot(data=movies, color=\"b\", label=\"Movies / year\")\n",
        "sns.lineplot(data=tv_shows, color=\"c\", label=\"TV Shows / year\")\n",
        "plt.ylabel('Publications')\n",
        "plt.title('Movies / Tv Shows relesed per year')\n",
        "plt.tight_layout()\n",
        "\n",
        "plt.show()"
      ],
      "metadata": {
        "colab": {
          "base_uri": "https://localhost:8080/",
          "height": 297
        },
        "id": "2rdTIj7VHuoo",
        "outputId": "e4798769-3d9c-45e7-ef86-cdcaa520d594"
      },
      "execution_count": 21,
      "outputs": [
        {
          "output_type": "display_data",
          "data": {
            "text/plain": [
              "<Figure size 432x288 with 1 Axes>"
            ],
            "image/png": "[encoded data removed]"
          },
          "metadata": {
            "needs_background": "light"
          }
        }
      ]
    },
    {
      "cell_type": "markdown",
      "source": [
        "**From 2014 to 2019 the release of movies is greater than TV-shows.**"
      ],
      "metadata": {
        "id": "DAj3ukKdH0gA"
      }
    },
    {
      "cell_type": "markdown",
      "source": [
        "##**3. In Which year most of the content was added.**"
      ],
      "metadata": {
        "id": "-pLyqbehH32I"
      }
    },
    {
      "cell_type": "code",
      "source": [
        "# Put the data into bins.\n",
        "release_year = pd.cut(netflix_cp.release_year, [1924, 1999, 2010, 2021])\n",
        "release_year.value_counts()\n",
        "release_year = pd.DataFrame(release_year.value_counts()).reset_index()\n",
        "release_year.rename(columns={'index':'Most_content_year', 'release_year':'count'}, inplace=True)\n",
        "release_year['Most_content_year'] = release_year['Most_content_year'].astype('string')\n",
        "release_year"
      ],
      "metadata": {
        "colab": {
          "base_uri": "https://localhost:8080/",
          "height": 143
        },
        "id": "Bafur55jH5qJ",
        "outputId": "9adcd538-11e0-4e83-ccc7-c09b087af89e"
      },
      "execution_count": 22,
      "outputs": [
        {
          "output_type": "execute_result",
          "data": {
            "text/plain": [
              "  Most_content_year  count\n",
              "0      (2010, 2021]   6425\n",
              "1      (1999, 2010]    896\n",
              "2      (1924, 1999]    449"
            ],
            "text/html": [
              "\n",
              "  <div id=\"df-3fe04fe5-0f45-450b-aa88-3a537a527fff\">\n",
              "    <div class=\"colab-df-container\">\n",
              "      <div>\n",
              "<style scoped>\n",
              "    .dataframe tbody tr th:only-of-type {\n",
              "        vertical-align: middle;\n",
              "    }\n",
              "\n",
              "    .dataframe tbody tr th {\n",
              "        vertical-align: top;\n",
              "    }\n",
              "\n",
              "    .dataframe thead th {\n",
              "        text-align: right;\n",
              "    }\n",
              "</style>\n",
              "<table border=\"1\" class=\"dataframe\">\n",
              "  <thead>\n",
              "    <tr style=\"text-align: right;\">\n",
              "      <th></th>\n",
              "      <th>Most_content_year</th>\n",
              "      <th>count</th>\n",
              "    </tr>\n",
              "  </thead>\n",
              "  <tbody>\n",
              "    <tr>\n",
              "      <th>0</th>\n",
              "      <td>(2010, 2021]</td>\n",
              "      <td>6425</td>\n",
              "    </tr>\n",
              "    <tr>\n",
              "      <th>1</th>\n",
              "      <td>(1999, 2010]</td>\n",
              "      <td>896</td>\n",
              "    </tr>\n",
              "    <tr>\n",
              "      <th>2</th>\n",
              "      <td>(1924, 1999]</td>\n",
              "      <td>449</td>\n",
              "    </tr>\n",
              "  </tbody>\n",
              "</table>\n",
              "</div>\n",
              "      <button class=\"colab-df-convert\" onclick=\"convertToInteractive('df-3fe04fe5-0f45-450b-aa88-3a537a527fff')\"\n",
              "              title=\"Convert this dataframe to an interactive table.\"\n",
              "              style=\"display:none;\">\n",
              "        \n",
              "  <svg xmlns=\"http://www.w3.org/2000/svg\" height=\"24px\"viewBox=\"0 0 24 24\"\n",
              "       width=\"24px\">\n",
              "    <path d=\"M0 0h24v24H0V0z\" fill=\"none\"/>\n",
              "    <path d=\"M18.56 5.44l.94 2.06.94-2.06 2.06-.94-2.06-.94-.94-2.06-.94 2.06-2.06.94zm-11 1L8.5 8.5l.94-2.06 2.06-.94-2.06-.94L8.5 2.5l-.94 2.06-2.06.94zm10 10l.94 2.06.94-2.06 2.06-.94-2.06-.94-.94-2.06-.94 2.06-2.06.94z\"/><path d=\"M17.41 7.96l-1.37-1.37c-.4-.4-.92-.59-1.43-.59-.52 0-1.04.2-1.43.59L10.3 9.45l-7.72 7.72c-.78.78-.78 2.05 0 2.83L4 21.41c.39.39.9.59 1.41.59.51 0 1.02-.2 1.41-.59l7.78-7.78 2.81-2.81c.8-.78.8-2.07 0-2.86zM5.41 20L4 18.59l7.72-7.72 1.47 1.35L5.41 20z\"/>\n",
              "  </svg>\n",
              "      </button>\n",
              "      \n",
              "  <style>\n",
              "    .colab-df-container {\n",
              "      display:flex;\n",
              "      flex-wrap:wrap;\n",
              "      gap: 12px;\n",
              "    }\n",
              "\n",
              "    .colab-df-convert {\n",
              "      background-color: #E8F0FE;\n",
              "      border: none;\n",
              "      border-radius: 50%;\n",
              "      cursor: pointer;\n",
              "      display: none;\n",
              "      fill: #1967D2;\n",
              "      height: 32px;\n",
              "      padding: 0 0 0 0;\n",
              "      width: 32px;\n",
              "    }\n",
              "\n",
              "    .colab-df-convert:hover {\n",
              "      background-color: #E2EBFA;\n",
              "      box-shadow: 0px 1px 2px rgba(60, 64, 67, 0.3), 0px 1px 3px 1px rgba(60, 64, 67, 0.15);\n",
              "      fill: #174EA6;\n",
              "    }\n",
              "\n",
              "    [theme=dark] .colab-df-convert {\n",
              "      background-color: #3B4455;\n",
              "      fill: #D2E3FC;\n",
              "    }\n",
              "\n",
              "    [theme=dark] .colab-df-convert:hover {\n",
              "      background-color: #434B5C;\n",
              "      box-shadow: 0px 1px 3px 1px rgba(0, 0, 0, 0.15);\n",
              "      filter: drop-shadow(0px 1px 2px rgba(0, 0, 0, 0.3));\n",
              "      fill: #FFFFFF;\n",
              "    }\n",
              "  </style>\n",
              "\n",
              "      <script>\n",
              "        const buttonEl =\n",
              "          document.querySelector('#df-3fe04fe5-0f45-450b-aa88-3a537a527fff button.colab-df-convert');\n",
              "        buttonEl.style.display =\n",
              "          google.colab.kernel.accessAllowed ? 'block' : 'none';\n",
              "\n",
              "        async function convertToInteractive(key) {\n",
              "          const element = document.querySelector('#df-3fe04fe5-0f45-450b-aa88-3a537a527fff');\n",
              "          const dataTable =\n",
              "            await google.colab.kernel.invokeFunction('convertToInteractive',\n",
              "                                                     [key], {});\n",
              "          if (!dataTable) return;\n",
              "\n",
              "          const docLinkHtml = 'Like what you see? Visit the ' +\n",
              "            '<a target=\"_blank\" href=https://colab.research.google.com/notebooks/data_table.ipynb>data table notebook</a>'\n",
              "            + ' to learn more about interactive tables.';\n",
              "          element.innerHTML = '';\n",
              "          dataTable['output_type'] = 'display_data';\n",
              "          await google.colab.output.renderOutput(dataTable, element);\n",
              "          const docLink = document.createElement('div');\n",
              "          docLink.innerHTML = docLinkHtml;\n",
              "          element.appendChild(docLink);\n",
              "        }\n",
              "      </script>\n",
              "    </div>\n",
              "  </div>\n",
              "  "
            ]
          },
          "metadata": {},
          "execution_count": 22
        }
      ]
    },
    {
      "cell_type": "code",
      "source": [
        "# Plot it.\n",
        "px.pie(release_year, values='count', names='Most_content_year', color_discrete_sequence=px.colors.sequential.Plasma_r, title='Which was most content released.',height=500, width=500)\n"
      ],
      "metadata": {
        "colab": {
          "base_uri": "https://localhost:8080/",
          "height": 517
        },
        "id": "EbtXr4qPH9TR",
        "outputId": "5681a10b-d34e-48e5-d78f-841bd41f6c43"
      },
      "execution_count": 23,
      "outputs": [
        {
          "output_type": "display_data",
          "data": {
            "text/html": [
              "<html>\n",
              "<head><meta charset=\"utf-8\" /></head>\n",
              "<body>\n",
              "    <div>            <script src=\"https://cdnjs.cloudflare.com/ajax/libs/mathjax/2.7.5/MathJax.js?config=TeX-AMS-MML_SVG\"></script><script type=\"text/javascript\">if (window.MathJax) {MathJax.Hub.Config({SVG: {font: \"STIX-Web\"}});}</script>                <script type=\"text/javascript\">window.PlotlyConfig = {MathJaxConfig: 'local'};</script>\n",
              "        <script src=\"https://cdn.plot.ly/plotly-2.8.3.min.js\"></script>                <div id=\"87a4edde-23f2-4604-b39e-135fb46a339b\" class=\"plotly-graph-div\" style=\"height:500px; width:500px;\"></div>            <script type=\"text/javascript\">                                    window.PLOTLYENV=window.PLOTLYENV || {};                                    if (document.getElementById(\"87a4edde-23f2-4604-b39e-135fb46a339b\")) {                    Plotly.newPlot(                        \"87a4edde-23f2-4604-b39e-135fb46a339b\",                        [{\"domain\":{\"x\":[0.0,1.0],\"y\":[0.0,1.0]},\"hovertemplate\":\"Most_content_year=%{label}<br>count=%{value}<extra></extra>\",\"labels\":[\"(2010, 2021]\",\"(1999, 2010]\",\"(1924, 1999]\"],\"legendgroup\":\"\",\"name\":\"\",\"showlegend\":true,\"values\":[6425,896,449],\"type\":\"pie\"}],                        {\"template\":{\"data\":{\"bar\":[{\"error_x\":{\"color\":\"#2a3f5f\"},\"error_y\":{\"color\":\"#2a3f5f\"},\"marker\":{\"line\":{\"color\":\"#E5ECF6\",\"width\":0.5},\"pattern\":{\"fillmode\":\"overlay\",\"size\":10,\"solidity\":0.2}},\"type\":\"bar\"}],\"barpolar\":[{\"marker\":{\"line\":{\"color\":\"#E5ECF6\",\"width\":0.5},\"pattern\":{\"fillmode\":\"overlay\",\"size\":10,\"solidity\":0.2}},\"type\":\"barpolar\"}],\"carpet\":[{\"aaxis\":{\"endlinecolor\":\"#2a3f5f\",\"gridcolor\":\"white\",\"linecolor\":\"white\",\"minorgridcolor\":\"white\",\"startlinecolor\":\"#2a3f5f\"},\"baxis\":{\"endlinecolor\":\"#2a3f5f\",\"gridcolor\":\"white\",\"linecolor\":\"white\",\"minorgridcolor\":\"white\",\"startlinecolor\":\"#2a3f5f\"},\"type\":\"carpet\"}],\"choropleth\":[{\"colorbar\":{\"outlinewidth\":0,\"ticks\":\"\"},\"type\":\"choropleth\"}],\"contour\":[{\"colorbar\":{\"outlinewidth\":0,\"ticks\":\"\"},\"colorscale\":[[0.0,\"#0d0887\"],[0.1111111111111111,\"#46039f\"],[0.2222222222222222,\"#7201a8\"],[0.3333333333333333,\"#9c179e\"],[0.4444444444444444,\"#bd3786\"],[0.5555555555555556,\"#d8576b\"],[0.6666666666666666,\"#ed7953\"],[0.7777777777777778,\"#fb9f3a\"],[0.8888888888888888,\"#fdca26\"],[1.0,\"#f0f921\"]],\"type\":\"contour\"}],\"contourcarpet\":[{\"colorbar\":{\"outlinewidth\":0,\"ticks\":\"\"},\"type\":\"contourcarpet\"}],\"heatmap\":[{\"colorbar\":{\"outlinewidth\":0,\"ticks\":\"\"},\"colorscale\":[[0.0,\"#0d0887\"],[0.1111111111111111,\"#46039f\"],[0.2222222222222222,\"#7201a8\"],[0.3333333333333333,\"#9c179e\"],[0.4444444444444444,\"#bd3786\"],[0.5555555555555556,\"#d8576b\"],[0.6666666666666666,\"#ed7953\"],[0.7777777777777778,\"#fb9f3a\"],[0.8888888888888888,\"#fdca26\"],[1.0,\"#f0f921\"]],\"type\":\"heatmap\"}],\"heatmapgl\":[{\"colorbar\":{\"outlinewidth\":0,\"ticks\":\"\"},\"colorscale\":[[0.0,\"#0d0887\"],[0.1111111111111111,\"#46039f\"],[0.2222222222222222,\"#7201a8\"],[0.3333333333333333,\"#9c179e\"],[0.4444444444444444,\"#bd3786\"],[0.5555555555555556,\"#d8576b\"],[0.6666666666666666,\"#ed7953\"],[0.7777777777777778,\"#fb9f3a\"],[0.8888888888888888,\"#fdca26\"],[1.0,\"#f0f921\"]],\"type\":\"heatmapgl\"}],\"histogram\":[{\"marker\":{\"pattern\":{\"fillmode\":\"overlay\",\"size\":10,\"solidity\":0.2}},\"type\":\"histogram\"}],\"histogram2d\":[{\"colorbar\":{\"outlinewidth\":0,\"ticks\":\"\"},\"colorscale\":[[0.0,\"#0d0887\"],[0.1111111111111111,\"#46039f\"],[0.2222222222222222,\"#7201a8\"],[0.3333333333333333,\"#9c179e\"],[0.4444444444444444,\"#bd3786\"],[0.5555555555555556,\"#d8576b\"],[0.6666666666666666,\"#ed7953\"],[0.7777777777777778,\"#fb9f3a\"],[0.8888888888888888,\"#fdca26\"],[1.0,\"#f0f921\"]],\"type\":\"histogram2d\"}],\"histogram2dcontour\":[{\"colorbar\":{\"outlinewidth\":0,\"ticks\":\"\"},\"colorscale\":[[0.0,\"#0d0887\"],[0.1111111111111111,\"#46039f\"],[0.2222222222222222,\"#7201a8\"],[0.3333333333333333,\"#9c179e\"],[0.4444444444444444,\"#bd3786\"],[0.5555555555555556,\"#d8576b\"],[0.6666666666666666,\"#ed7953\"],[0.7777777777777778,\"#fb9f3a\"],[0.8888888888888888,\"#fdca26\"],[1.0,\"#f0f921\"]],\"type\":\"histogram2dcontour\"}],\"mesh3d\":[{\"colorbar\":{\"outlinewidth\":0,\"ticks\":\"\"},\"type\":\"mesh3d\"}],\"parcoords\":[{\"line\":{\"colorbar\":{\"outlinewidth\":0,\"ticks\":\"\"}},\"type\":\"parcoords\"}],\"pie\":[{\"automargin\":true,\"type\":\"pie\"}],\"scatter\":[{\"marker\":{\"colorbar\":{\"outlinewidth\":0,\"ticks\":\"\"}},\"type\":\"scatter\"}],\"scatter3d\":[{\"line\":{\"colorbar\":{\"outlinewidth\":0,\"ticks\":\"\"}},\"marker\":{\"colorbar\":{\"outlinewidth\":0,\"ticks\":\"\"}},\"type\":\"scatter3d\"}],\"scattercarpet\":[{\"marker\":{\"colorbar\":{\"outlinewidth\":0,\"ticks\":\"\"}},\"type\":\"scattercarpet\"}],\"scattergeo\":[{\"marker\":{\"colorbar\":{\"outlinewidth\":0,\"ticks\":\"\"}},\"type\":\"scattergeo\"}],\"scattergl\":[{\"marker\":{\"colorbar\":{\"outlinewidth\":0,\"ticks\":\"\"}},\"type\":\"scattergl\"}],\"scattermapbox\":[{\"marker\":{\"colorbar\":{\"outlinewidth\":0,\"ticks\":\"\"}},\"type\":\"scattermapbox\"}],\"scatterpolar\":[{\"marker\":{\"colorbar\":{\"outlinewidth\":0,\"ticks\":\"\"}},\"type\":\"scatterpolar\"}],\"scatterpolargl\":[{\"marker\":{\"colorbar\":{\"outlinewidth\":0,\"ticks\":\"\"}},\"type\":\"scatterpolargl\"}],\"scatterternary\":[{\"marker\":{\"colorbar\":{\"outlinewidth\":0,\"ticks\":\"\"}},\"type\":\"scatterternary\"}],\"surface\":[{\"colorbar\":{\"outlinewidth\":0,\"ticks\":\"\"},\"colorscale\":[[0.0,\"#0d0887\"],[0.1111111111111111,\"#46039f\"],[0.2222222222222222,\"#7201a8\"],[0.3333333333333333,\"#9c179e\"],[0.4444444444444444,\"#bd3786\"],[0.5555555555555556,\"#d8576b\"],[0.6666666666666666,\"#ed7953\"],[0.7777777777777778,\"#fb9f3a\"],[0.8888888888888888,\"#fdca26\"],[1.0,\"#f0f921\"]],\"type\":\"surface\"}],\"table\":[{\"cells\":{\"fill\":{\"color\":\"#EBF0F8\"},\"line\":{\"color\":\"white\"}},\"header\":{\"fill\":{\"color\":\"#C8D4E3\"},\"line\":{\"color\":\"white\"}},\"type\":\"table\"}]},\"layout\":{\"annotationdefaults\":{\"arrowcolor\":\"#2a3f5f\",\"arrowhead\":0,\"arrowwidth\":1},\"autotypenumbers\":\"strict\",\"coloraxis\":{\"colorbar\":{\"outlinewidth\":0,\"ticks\":\"\"}},\"colorscale\":{\"diverging\":[[0,\"#8e0152\"],[0.1,\"#c51b7d\"],[0.2,\"#de77ae\"],[0.3,\"#f1b6da\"],[0.4,\"#fde0ef\"],[0.5,\"#f7f7f7\"],[0.6,\"#e6f5d0\"],[0.7,\"#b8e186\"],[0.8,\"#7fbc41\"],[0.9,\"#4d9221\"],[1,\"#276419\"]],\"sequential\":[[0.0,\"#0d0887\"],[0.1111111111111111,\"#46039f\"],[0.2222222222222222,\"#7201a8\"],[0.3333333333333333,\"#9c179e\"],[0.4444444444444444,\"#bd3786\"],[0.5555555555555556,\"#d8576b\"],[0.6666666666666666,\"#ed7953\"],[0.7777777777777778,\"#fb9f3a\"],[0.8888888888888888,\"#fdca26\"],[1.0,\"#f0f921\"]],\"sequentialminus\":[[0.0,\"#0d0887\"],[0.1111111111111111,\"#46039f\"],[0.2222222222222222,\"#7201a8\"],[0.3333333333333333,\"#9c179e\"],[0.4444444444444444,\"#bd3786\"],[0.5555555555555556,\"#d8576b\"],[0.6666666666666666,\"#ed7953\"],[0.7777777777777778,\"#fb9f3a\"],[0.8888888888888888,\"#fdca26\"],[1.0,\"#f0f921\"]]},\"colorway\":[\"#636efa\",\"#EF553B\",\"#00cc96\",\"#ab63fa\",\"#FFA15A\",\"#19d3f3\",\"#FF6692\",\"#B6E880\",\"#FF97FF\",\"#FECB52\"],\"font\":{\"color\":\"#2a3f5f\"},\"geo\":{\"bgcolor\":\"white\",\"lakecolor\":\"white\",\"landcolor\":\"#E5ECF6\",\"showlakes\":true,\"showland\":true,\"subunitcolor\":\"white\"},\"hoverlabel\":{\"align\":\"left\"},\"hovermode\":\"closest\",\"mapbox\":{\"style\":\"light\"},\"paper_bgcolor\":\"white\",\"plot_bgcolor\":\"#E5ECF6\",\"polar\":{\"angularaxis\":{\"gridcolor\":\"white\",\"linecolor\":\"white\",\"ticks\":\"\"},\"bgcolor\":\"#E5ECF6\",\"radialaxis\":{\"gridcolor\":\"white\",\"linecolor\":\"white\",\"ticks\":\"\"}},\"scene\":{\"xaxis\":{\"backgroundcolor\":\"#E5ECF6\",\"gridcolor\":\"white\",\"gridwidth\":2,\"linecolor\":\"white\",\"showbackground\":true,\"ticks\":\"\",\"zerolinecolor\":\"white\"},\"yaxis\":{\"backgroundcolor\":\"#E5ECF6\",\"gridcolor\":\"white\",\"gridwidth\":2,\"linecolor\":\"white\",\"showbackground\":true,\"ticks\":\"\",\"zerolinecolor\":\"white\"},\"zaxis\":{\"backgroundcolor\":\"#E5ECF6\",\"gridcolor\":\"white\",\"gridwidth\":2,\"linecolor\":\"white\",\"showbackground\":true,\"ticks\":\"\",\"zerolinecolor\":\"white\"}},\"shapedefaults\":{\"line\":{\"color\":\"#2a3f5f\"}},\"ternary\":{\"aaxis\":{\"gridcolor\":\"white\",\"linecolor\":\"white\",\"ticks\":\"\"},\"baxis\":{\"gridcolor\":\"white\",\"linecolor\":\"white\",\"ticks\":\"\"},\"bgcolor\":\"#E5ECF6\",\"caxis\":{\"gridcolor\":\"white\",\"linecolor\":\"white\",\"ticks\":\"\"}},\"title\":{\"x\":0.05},\"xaxis\":{\"automargin\":true,\"gridcolor\":\"white\",\"linecolor\":\"white\",\"ticks\":\"\",\"title\":{\"standoff\":15},\"zerolinecolor\":\"white\",\"zerolinewidth\":2},\"yaxis\":{\"automargin\":true,\"gridcolor\":\"white\",\"linecolor\":\"white\",\"ticks\":\"\",\"title\":{\"standoff\":15},\"zerolinecolor\":\"white\",\"zerolinewidth\":2}}},\"legend\":{\"tracegroupgap\":0},\"title\":{\"text\":\"Which was most content released.\"},\"piecolorway\":[\"#f0f921\",\"#fdca26\",\"#fb9f3a\",\"#ed7953\",\"#d8576b\",\"#bd3786\",\"#9c179e\",\"#7201a8\",\"#46039f\",\"#0d0887\"],\"height\":500,\"width\":500},                        {\"responsive\": true}                    ).then(function(){\n",
              "                            \n",
              "var gd = document.getElementById('87a4edde-23f2-4604-b39e-135fb46a339b');\n",
              "var x = new MutationObserver(function (mutations, observer) {{\n",
              "        var display = window.getComputedStyle(gd).display;\n",
              "        if (!display || display === 'none') {{\n",
              "            console.log([gd, 'removed!']);\n",
              "            Plotly.purge(gd);\n",
              "            observer.disconnect();\n",
              "        }}\n",
              "}});\n",
              "\n",
              "// Listen for the removal of the full notebook cells\n",
              "var notebookContainer = gd.closest('#notebook-container');\n",
              "if (notebookContainer) {{\n",
              "    x.observe(notebookContainer, {childList: true});\n",
              "}}\n",
              "\n",
              "// Listen for the clearing of the current output cell\n",
              "var outputEl = gd.closest('.output');\n",
              "if (outputEl) {{\n",
              "    x.observe(outputEl, {childList: true});\n",
              "}}\n",
              "\n",
              "                        })                };                            </script>        </div>\n",
              "</body>\n",
              "</html>"
            ]
          },
          "metadata": {}
        }
      ]
    },
    {
      "cell_type": "markdown",
      "source": [
        "**82% of the content available was released between 2010 and 2021.**\n",
        "\n",
        "**17.28% of the content available was released before 2010.**"
      ],
      "metadata": {
        "id": "nWGsM3IzIQ0I"
      }
    },
    {
      "cell_type": "markdown",
      "source": [
        "# **4. In which months do most movies and TV shows are added?**"
      ],
      "metadata": {
        "id": "Odk5FQUgIZB4"
      }
    },
    {
      "cell_type": "code",
      "source": [
        "# Create dataframe to store manth values and counts.\n",
        "months_df = pd.DataFrame(netflix_cp.months.value_counts())\n",
        "months_df.reset_index(inplace=True)\n",
        "months_df.rename(columns={'index':'month', 'months':'count'}, inplace=True)\n",
        "\n",
        "fig = px.bar(months_df, x=\"month\", y=\"count\", text_auto=True, color='count', color_continuous_scale=['#000000', '#564dbd'])\n",
        "fig.update_layout(\n",
        "    title={\n",
        "        'text': 'Month wise addition of movies and shows to the platform',\n",
        "        'y':0.95,\n",
        "        'x':0.5,\n",
        "        'xanchor': 'center',\n",
        "        'yanchor': 'top'},\n",
        "        autosize=False,\n",
        "        width=1000,\n",
        "        height=500)"
      ],
      "metadata": {
        "colab": {
          "base_uri": "https://localhost:8080/",
          "height": 517
        },
        "id": "_ZbmG60IIQiq",
        "outputId": "66816447-5a8d-4352-e676-ee56ab637199"
      },
      "execution_count": 24,
      "outputs": [
        {
          "output_type": "display_data",
          "data": {
            "text/html": [
              "<html>\n",
              "<head><meta charset=\"utf-8\" /></head>\n",
              "<body>\n",
              "    <div>            <script src=\"https://cdnjs.cloudflare.com/ajax/libs/mathjax/2.7.5/MathJax.js?config=TeX-AMS-MML_SVG\"></script><script type=\"text/javascript\">if (window.MathJax) {MathJax.Hub.Config({SVG: {font: \"STIX-Web\"}});}</script>                <script type=\"text/javascript\">window.PlotlyConfig = {MathJaxConfig: 'local'};</script>\n",
              "        <script src=\"https://cdn.plot.ly/plotly-2.8.3.min.js\"></script>                <div id=\"641b6a03-2758-4e46-a64c-e9a687e8b7db\" class=\"plotly-graph-div\" style=\"height:500px; width:1000px;\"></div>            <script type=\"text/javascript\">                                    window.PLOTLYENV=window.PLOTLYENV || {};                                    if (document.getElementById(\"641b6a03-2758-4e46-a64c-e9a687e8b7db\")) {                    Plotly.newPlot(                        \"641b6a03-2758-4e46-a64c-e9a687e8b7db\",                        [{\"alignmentgroup\":\"True\",\"hovertemplate\":\"month=%{x}<br>count=%{marker.color}<extra></extra>\",\"legendgroup\":\"\",\"marker\":{\"color\":[832,785,756,738,668,618,617,600,600,543,542,471],\"coloraxis\":\"coloraxis\",\"pattern\":{\"shape\":\"\"}},\"name\":\"\",\"offsetgroup\":\"\",\"orientation\":\"v\",\"showlegend\":false,\"textposition\":\"auto\",\"texttemplate\":\"%{y}\",\"x\":[12,10,1,11,3,9,8,7,4,5,6,2],\"xaxis\":\"x\",\"y\":[832,785,756,738,668,618,617,600,600,543,542,471],\"yaxis\":\"y\",\"type\":\"bar\"}],                        {\"template\":{\"data\":{\"bar\":[{\"error_x\":{\"color\":\"#2a3f5f\"},\"error_y\":{\"color\":\"#2a3f5f\"},\"marker\":{\"line\":{\"color\":\"#E5ECF6\",\"width\":0.5},\"pattern\":{\"fillmode\":\"overlay\",\"size\":10,\"solidity\":0.2}},\"type\":\"bar\"}],\"barpolar\":[{\"marker\":{\"line\":{\"color\":\"#E5ECF6\",\"width\":0.5},\"pattern\":{\"fillmode\":\"overlay\",\"size\":10,\"solidity\":0.2}},\"type\":\"barpolar\"}],\"carpet\":[{\"aaxis\":{\"endlinecolor\":\"#2a3f5f\",\"gridcolor\":\"white\",\"linecolor\":\"white\",\"minorgridcolor\":\"white\",\"startlinecolor\":\"#2a3f5f\"},\"baxis\":{\"endlinecolor\":\"#2a3f5f\",\"gridcolor\":\"white\",\"linecolor\":\"white\",\"minorgridcolor\":\"white\",\"startlinecolor\":\"#2a3f5f\"},\"type\":\"carpet\"}],\"choropleth\":[{\"colorbar\":{\"outlinewidth\":0,\"ticks\":\"\"},\"type\":\"choropleth\"}],\"contour\":[{\"colorbar\":{\"outlinewidth\":0,\"ticks\":\"\"},\"colorscale\":[[0.0,\"#0d0887\"],[0.1111111111111111,\"#46039f\"],[0.2222222222222222,\"#7201a8\"],[0.3333333333333333,\"#9c179e\"],[0.4444444444444444,\"#bd3786\"],[0.5555555555555556,\"#d8576b\"],[0.6666666666666666,\"#ed7953\"],[0.7777777777777778,\"#fb9f3a\"],[0.8888888888888888,\"#fdca26\"],[1.0,\"#f0f921\"]],\"type\":\"contour\"}],\"contourcarpet\":[{\"colorbar\":{\"outlinewidth\":0,\"ticks\":\"\"},\"type\":\"contourcarpet\"}],\"heatmap\":[{\"colorbar\":{\"outlinewidth\":0,\"ticks\":\"\"},\"colorscale\":[[0.0,\"#0d0887\"],[0.1111111111111111,\"#46039f\"],[0.2222222222222222,\"#7201a8\"],[0.3333333333333333,\"#9c179e\"],[0.4444444444444444,\"#bd3786\"],[0.5555555555555556,\"#d8576b\"],[0.6666666666666666,\"#ed7953\"],[0.7777777777777778,\"#fb9f3a\"],[0.8888888888888888,\"#fdca26\"],[1.0,\"#f0f921\"]],\"type\":\"heatmap\"}],\"heatmapgl\":[{\"colorbar\":{\"outlinewidth\":0,\"ticks\":\"\"},\"colorscale\":[[0.0,\"#0d0887\"],[0.1111111111111111,\"#46039f\"],[0.2222222222222222,\"#7201a8\"],[0.3333333333333333,\"#9c179e\"],[0.4444444444444444,\"#bd3786\"],[0.5555555555555556,\"#d8576b\"],[0.6666666666666666,\"#ed7953\"],[0.7777777777777778,\"#fb9f3a\"],[0.8888888888888888,\"#fdca26\"],[1.0,\"#f0f921\"]],\"type\":\"heatmapgl\"}],\"histogram\":[{\"marker\":{\"pattern\":{\"fillmode\":\"overlay\",\"size\":10,\"solidity\":0.2}},\"type\":\"histogram\"}],\"histogram2d\":[{\"colorbar\":{\"outlinewidth\":0,\"ticks\":\"\"},\"colorscale\":[[0.0,\"#0d0887\"],[0.1111111111111111,\"#46039f\"],[0.2222222222222222,\"#7201a8\"],[0.3333333333333333,\"#9c179e\"],[0.4444444444444444,\"#bd3786\"],[0.5555555555555556,\"#d8576b\"],[0.6666666666666666,\"#ed7953\"],[0.7777777777777778,\"#fb9f3a\"],[0.8888888888888888,\"#fdca26\"],[1.0,\"#f0f921\"]],\"type\":\"histogram2d\"}],\"histogram2dcontour\":[{\"colorbar\":{\"outlinewidth\":0,\"ticks\":\"\"},\"colorscale\":[[0.0,\"#0d0887\"],[0.1111111111111111,\"#46039f\"],[0.2222222222222222,\"#7201a8\"],[0.3333333333333333,\"#9c179e\"],[0.4444444444444444,\"#bd3786\"],[0.5555555555555556,\"#d8576b\"],[0.6666666666666666,\"#ed7953\"],[0.7777777777777778,\"#fb9f3a\"],[0.8888888888888888,\"#fdca26\"],[1.0,\"#f0f921\"]],\"type\":\"histogram2dcontour\"}],\"mesh3d\":[{\"colorbar\":{\"outlinewidth\":0,\"ticks\":\"\"},\"type\":\"mesh3d\"}],\"parcoords\":[{\"line\":{\"colorbar\":{\"outlinewidth\":0,\"ticks\":\"\"}},\"type\":\"parcoords\"}],\"pie\":[{\"automargin\":true,\"type\":\"pie\"}],\"scatter\":[{\"marker\":{\"colorbar\":{\"outlinewidth\":0,\"ticks\":\"\"}},\"type\":\"scatter\"}],\"scatter3d\":[{\"line\":{\"colorbar\":{\"outlinewidth\":0,\"ticks\":\"\"}},\"marker\":{\"colorbar\":{\"outlinewidth\":0,\"ticks\":\"\"}},\"type\":\"scatter3d\"}],\"scattercarpet\":[{\"marker\":{\"colorbar\":{\"outlinewidth\":0,\"ticks\":\"\"}},\"type\":\"scattercarpet\"}],\"scattergeo\":[{\"marker\":{\"colorbar\":{\"outlinewidth\":0,\"ticks\":\"\"}},\"type\":\"scattergeo\"}],\"scattergl\":[{\"marker\":{\"colorbar\":{\"outlinewidth\":0,\"ticks\":\"\"}},\"type\":\"scattergl\"}],\"scattermapbox\":[{\"marker\":{\"colorbar\":{\"outlinewidth\":0,\"ticks\":\"\"}},\"type\":\"scattermapbox\"}],\"scatterpolar\":[{\"marker\":{\"colorbar\":{\"outlinewidth\":0,\"ticks\":\"\"}},\"type\":\"scatterpolar\"}],\"scatterpolargl\":[{\"marker\":{\"colorbar\":{\"outlinewidth\":0,\"ticks\":\"\"}},\"type\":\"scatterpolargl\"}],\"scatterternary\":[{\"marker\":{\"colorbar\":{\"outlinewidth\":0,\"ticks\":\"\"}},\"type\":\"scatterternary\"}],\"surface\":[{\"colorbar\":{\"outlinewidth\":0,\"ticks\":\"\"},\"colorscale\":[[0.0,\"#0d0887\"],[0.1111111111111111,\"#46039f\"],[0.2222222222222222,\"#7201a8\"],[0.3333333333333333,\"#9c179e\"],[0.4444444444444444,\"#bd3786\"],[0.5555555555555556,\"#d8576b\"],[0.6666666666666666,\"#ed7953\"],[0.7777777777777778,\"#fb9f3a\"],[0.8888888888888888,\"#fdca26\"],[1.0,\"#f0f921\"]],\"type\":\"surface\"}],\"table\":[{\"cells\":{\"fill\":{\"color\":\"#EBF0F8\"},\"line\":{\"color\":\"white\"}},\"header\":{\"fill\":{\"color\":\"#C8D4E3\"},\"line\":{\"color\":\"white\"}},\"type\":\"table\"}]},\"layout\":{\"annotationdefaults\":{\"arrowcolor\":\"#2a3f5f\",\"arrowhead\":0,\"arrowwidth\":1},\"autotypenumbers\":\"strict\",\"coloraxis\":{\"colorbar\":{\"outlinewidth\":0,\"ticks\":\"\"}},\"colorscale\":{\"diverging\":[[0,\"#8e0152\"],[0.1,\"#c51b7d\"],[0.2,\"#de77ae\"],[0.3,\"#f1b6da\"],[0.4,\"#fde0ef\"],[0.5,\"#f7f7f7\"],[0.6,\"#e6f5d0\"],[0.7,\"#b8e186\"],[0.8,\"#7fbc41\"],[0.9,\"#4d9221\"],[1,\"#276419\"]],\"sequential\":[[0.0,\"#0d0887\"],[0.1111111111111111,\"#46039f\"],[0.2222222222222222,\"#7201a8\"],[0.3333333333333333,\"#9c179e\"],[0.4444444444444444,\"#bd3786\"],[0.5555555555555556,\"#d8576b\"],[0.6666666666666666,\"#ed7953\"],[0.7777777777777778,\"#fb9f3a\"],[0.8888888888888888,\"#fdca26\"],[1.0,\"#f0f921\"]],\"sequentialminus\":[[0.0,\"#0d0887\"],[0.1111111111111111,\"#46039f\"],[0.2222222222222222,\"#7201a8\"],[0.3333333333333333,\"#9c179e\"],[0.4444444444444444,\"#bd3786\"],[0.5555555555555556,\"#d8576b\"],[0.6666666666666666,\"#ed7953\"],[0.7777777777777778,\"#fb9f3a\"],[0.8888888888888888,\"#fdca26\"],[1.0,\"#f0f921\"]]},\"colorway\":[\"#636efa\",\"#EF553B\",\"#00cc96\",\"#ab63fa\",\"#FFA15A\",\"#19d3f3\",\"#FF6692\",\"#B6E880\",\"#FF97FF\",\"#FECB52\"],\"font\":{\"color\":\"#2a3f5f\"},\"geo\":{\"bgcolor\":\"white\",\"lakecolor\":\"white\",\"landcolor\":\"#E5ECF6\",\"showlakes\":true,\"showland\":true,\"subunitcolor\":\"white\"},\"hoverlabel\":{\"align\":\"left\"},\"hovermode\":\"closest\",\"mapbox\":{\"style\":\"light\"},\"paper_bgcolor\":\"white\",\"plot_bgcolor\":\"#E5ECF6\",\"polar\":{\"angularaxis\":{\"gridcolor\":\"white\",\"linecolor\":\"white\",\"ticks\":\"\"},\"bgcolor\":\"#E5ECF6\",\"radialaxis\":{\"gridcolor\":\"white\",\"linecolor\":\"white\",\"ticks\":\"\"}},\"scene\":{\"xaxis\":{\"backgroundcolor\":\"#E5ECF6\",\"gridcolor\":\"white\",\"gridwidth\":2,\"linecolor\":\"white\",\"showbackground\":true,\"ticks\":\"\",\"zerolinecolor\":\"white\"},\"yaxis\":{\"backgroundcolor\":\"#E5ECF6\",\"gridcolor\":\"white\",\"gridwidth\":2,\"linecolor\":\"white\",\"showbackground\":true,\"ticks\":\"\",\"zerolinecolor\":\"white\"},\"zaxis\":{\"backgroundcolor\":\"#E5ECF6\",\"gridcolor\":\"white\",\"gridwidth\":2,\"linecolor\":\"white\",\"showbackground\":true,\"ticks\":\"\",\"zerolinecolor\":\"white\"}},\"shapedefaults\":{\"line\":{\"color\":\"#2a3f5f\"}},\"ternary\":{\"aaxis\":{\"gridcolor\":\"white\",\"linecolor\":\"white\",\"ticks\":\"\"},\"baxis\":{\"gridcolor\":\"white\",\"linecolor\":\"white\",\"ticks\":\"\"},\"bgcolor\":\"#E5ECF6\",\"caxis\":{\"gridcolor\":\"white\",\"linecolor\":\"white\",\"ticks\":\"\"}},\"title\":{\"x\":0.05},\"xaxis\":{\"automargin\":true,\"gridcolor\":\"white\",\"linecolor\":\"white\",\"ticks\":\"\",\"title\":{\"standoff\":15},\"zerolinecolor\":\"white\",\"zerolinewidth\":2},\"yaxis\":{\"automargin\":true,\"gridcolor\":\"white\",\"linecolor\":\"white\",\"ticks\":\"\",\"title\":{\"standoff\":15},\"zerolinecolor\":\"white\",\"zerolinewidth\":2}}},\"xaxis\":{\"anchor\":\"y\",\"domain\":[0.0,1.0],\"title\":{\"text\":\"month\"}},\"yaxis\":{\"anchor\":\"x\",\"domain\":[0.0,1.0],\"title\":{\"text\":\"count\"}},\"coloraxis\":{\"colorbar\":{\"title\":{\"text\":\"count\"}},\"colorscale\":[[0.0,\"#000000\"],[1.0,\"#564dbd\"]]},\"legend\":{\"tracegroupgap\":0},\"margin\":{\"t\":60},\"barmode\":\"relative\",\"title\":{\"text\":\"Month wise addition of movies and shows to the platform\",\"y\":0.95,\"x\":0.5,\"xanchor\":\"center\",\"yanchor\":\"top\"},\"autosize\":false,\"width\":1000,\"height\":500},                        {\"responsive\": true}                    ).then(function(){\n",
              "                            \n",
              "var gd = document.getElementById('641b6a03-2758-4e46-a64c-e9a687e8b7db');\n",
              "var x = new MutationObserver(function (mutations, observer) {{\n",
              "        var display = window.getComputedStyle(gd).display;\n",
              "        if (!display || display === 'none') {{\n",
              "            console.log([gd, 'removed!']);\n",
              "            Plotly.purge(gd);\n",
              "            observer.disconnect();\n",
              "        }}\n",
              "}});\n",
              "\n",
              "// Listen for the removal of the full notebook cells\n",
              "var notebookContainer = gd.closest('#notebook-container');\n",
              "if (notebookContainer) {{\n",
              "    x.observe(notebookContainer, {childList: true});\n",
              "}}\n",
              "\n",
              "// Listen for the clearing of the current output cell\n",
              "var outputEl = gd.closest('.output');\n",
              "if (outputEl) {{\n",
              "    x.observe(outputEl, {childList: true});\n",
              "}}\n",
              "\n",
              "                        })                };                            </script>        </div>\n",
              "</body>\n",
              "</html>"
            ]
          },
          "metadata": {}
        }
      ]
    },
    {
      "cell_type": "markdown",
      "source": [
        "#####**1. It's Clearly see that content is uploaded either by year ending or beginning.**\n",
        "\n",
        "#####**2. November, December, and January are months in which many shows and movies get uploaded to the platform.**"
      ],
      "metadata": {
        "id": "_z4_PAlhIf63"
      }
    },
    {
      "cell_type": "markdown",
      "source": [
        "##**5. Which Days are Outstanding?**"
      ],
      "metadata": {
        "id": "dpdsLLGpIk-4"
      }
    },
    {
      "cell_type": "code",
      "source": [
        "# Create dataframe to store day values and count.\n",
        "days_df = pd.DataFrame(netflix_cp.days.value_counts())\n",
        "days_df.reset_index(inplace=True)\n",
        "days_df.rename(columns={'index':'day', 'days':'count'}, inplace=True)\n",
        "\n",
        "fig = px.bar(days_df, x=\"day\",y='count', text_auto=True, color='count', color_continuous_scale=['#000000', '#564dbd'])\n",
        "fig.update_layout(\n",
        "    title={\n",
        "        'text': 'Day wise addition of movies and shows to the platform',\n",
        "        'y':0.95,\n",
        "        'x':0.5,\n",
        "        'xanchor': 'center',\n",
        "        'yanchor': 'top'},\n",
        "        autosize=False,\n",
        "        width=800,\n",
        "        height=500)"
      ],
      "metadata": {
        "colab": {
          "base_uri": "https://localhost:8080/",
          "height": 517
        },
        "id": "gsDcyvsLImvF",
        "outputId": "2fe2bf68-3d2b-4b2c-ab18-bff80ae9d34a"
      },
      "execution_count": 25,
      "outputs": [
        {
          "output_type": "display_data",
          "data": {
            "text/html": [
              "<html>\n",
              "<head><meta charset=\"utf-8\" /></head>\n",
              "<body>\n",
              "    <div>            <script src=\"https://cdnjs.cloudflare.com/ajax/libs/mathjax/2.7.5/MathJax.js?config=TeX-AMS-MML_SVG\"></script><script type=\"text/javascript\">if (window.MathJax) {MathJax.Hub.Config({SVG: {font: \"STIX-Web\"}});}</script>                <script type=\"text/javascript\">window.PlotlyConfig = {MathJaxConfig: 'local'};</script>\n",
              "        <script src=\"https://cdn.plot.ly/plotly-2.8.3.min.js\"></script>                <div id=\"4e934025-c447-4b24-9d37-6276a36662c7\" class=\"plotly-graph-div\" style=\"height:500px; width:800px;\"></div>            <script type=\"text/javascript\">                                    window.PLOTLYENV=window.PLOTLYENV || {};                                    if (document.getElementById(\"4e934025-c447-4b24-9d37-6276a36662c7\")) {                    Plotly.newPlot(                        \"4e934025-c447-4b24-9d37-6276a36662c7\",                        [{\"alignmentgroup\":\"True\",\"hovertemplate\":\"day=%{x}<br>count=%{marker.color}<extra></extra>\",\"legendgroup\":\"\",\"marker\":{\"color\":[2066,643,274,247,239,219,213,207,203,190,185,182,180,178,173,172,172,165,162,161,156,153,153,153,150,138,136,130,127,123,120],\"coloraxis\":\"coloraxis\",\"pattern\":{\"shape\":\"\"}},\"name\":\"\",\"offsetgroup\":\"\",\"orientation\":\"v\",\"showlegend\":false,\"textposition\":\"auto\",\"texttemplate\":\"%{y}\",\"x\":[1,15,31,2,16,20,10,5,19,8,22,30,25,18,26,28,21,6,7,14,12,27,13,17,4,23,24,29,3,11,9],\"xaxis\":\"x\",\"y\":[2066,643,274,247,239,219,213,207,203,190,185,182,180,178,173,172,172,165,162,161,156,153,153,153,150,138,136,130,127,123,120],\"yaxis\":\"y\",\"type\":\"bar\"}],                        {\"template\":{\"data\":{\"bar\":[{\"error_x\":{\"color\":\"#2a3f5f\"},\"error_y\":{\"color\":\"#2a3f5f\"},\"marker\":{\"line\":{\"color\":\"#E5ECF6\",\"width\":0.5},\"pattern\":{\"fillmode\":\"overlay\",\"size\":10,\"solidity\":0.2}},\"type\":\"bar\"}],\"barpolar\":[{\"marker\":{\"line\":{\"color\":\"#E5ECF6\",\"width\":0.5},\"pattern\":{\"fillmode\":\"overlay\",\"size\":10,\"solidity\":0.2}},\"type\":\"barpolar\"}],\"carpet\":[{\"aaxis\":{\"endlinecolor\":\"#2a3f5f\",\"gridcolor\":\"white\",\"linecolor\":\"white\",\"minorgridcolor\":\"white\",\"startlinecolor\":\"#2a3f5f\"},\"baxis\":{\"endlinecolor\":\"#2a3f5f\",\"gridcolor\":\"white\",\"linecolor\":\"white\",\"minorgridcolor\":\"white\",\"startlinecolor\":\"#2a3f5f\"},\"type\":\"carpet\"}],\"choropleth\":[{\"colorbar\":{\"outlinewidth\":0,\"ticks\":\"\"},\"type\":\"choropleth\"}],\"contour\":[{\"colorbar\":{\"outlinewidth\":0,\"ticks\":\"\"},\"colorscale\":[[0.0,\"#0d0887\"],[0.1111111111111111,\"#46039f\"],[0.2222222222222222,\"#7201a8\"],[0.3333333333333333,\"#9c179e\"],[0.4444444444444444,\"#bd3786\"],[0.5555555555555556,\"#d8576b\"],[0.6666666666666666,\"#ed7953\"],[0.7777777777777778,\"#fb9f3a\"],[0.8888888888888888,\"#fdca26\"],[1.0,\"#f0f921\"]],\"type\":\"contour\"}],\"contourcarpet\":[{\"colorbar\":{\"outlinewidth\":0,\"ticks\":\"\"},\"type\":\"contourcarpet\"}],\"heatmap\":[{\"colorbar\":{\"outlinewidth\":0,\"ticks\":\"\"},\"colorscale\":[[0.0,\"#0d0887\"],[0.1111111111111111,\"#46039f\"],[0.2222222222222222,\"#7201a8\"],[0.3333333333333333,\"#9c179e\"],[0.4444444444444444,\"#bd3786\"],[0.5555555555555556,\"#d8576b\"],[0.6666666666666666,\"#ed7953\"],[0.7777777777777778,\"#fb9f3a\"],[0.8888888888888888,\"#fdca26\"],[1.0,\"#f0f921\"]],\"type\":\"heatmap\"}],\"heatmapgl\":[{\"colorbar\":{\"outlinewidth\":0,\"ticks\":\"\"},\"colorscale\":[[0.0,\"#0d0887\"],[0.1111111111111111,\"#46039f\"],[0.2222222222222222,\"#7201a8\"],[0.3333333333333333,\"#9c179e\"],[0.4444444444444444,\"#bd3786\"],[0.5555555555555556,\"#d8576b\"],[0.6666666666666666,\"#ed7953\"],[0.7777777777777778,\"#fb9f3a\"],[0.8888888888888888,\"#fdca26\"],[1.0,\"#f0f921\"]],\"type\":\"heatmapgl\"}],\"histogram\":[{\"marker\":{\"pattern\":{\"fillmode\":\"overlay\",\"size\":10,\"solidity\":0.2}},\"type\":\"histogram\"}],\"histogram2d\":[{\"colorbar\":{\"outlinewidth\":0,\"ticks\":\"\"},\"colorscale\":[[0.0,\"#0d0887\"],[0.1111111111111111,\"#46039f\"],[0.2222222222222222,\"#7201a8\"],[0.3333333333333333,\"#9c179e\"],[0.4444444444444444,\"#bd3786\"],[0.5555555555555556,\"#d8576b\"],[0.6666666666666666,\"#ed7953\"],[0.7777777777777778,\"#fb9f3a\"],[0.8888888888888888,\"#fdca26\"],[1.0,\"#f0f921\"]],\"type\":\"histogram2d\"}],\"histogram2dcontour\":[{\"colorbar\":{\"outlinewidth\":0,\"ticks\":\"\"},\"colorscale\":[[0.0,\"#0d0887\"],[0.1111111111111111,\"#46039f\"],[0.2222222222222222,\"#7201a8\"],[0.3333333333333333,\"#9c179e\"],[0.4444444444444444,\"#bd3786\"],[0.5555555555555556,\"#d8576b\"],[0.6666666666666666,\"#ed7953\"],[0.7777777777777778,\"#fb9f3a\"],[0.8888888888888888,\"#fdca26\"],[1.0,\"#f0f921\"]],\"type\":\"histogram2dcontour\"}],\"mesh3d\":[{\"colorbar\":{\"outlinewidth\":0,\"ticks\":\"\"},\"type\":\"mesh3d\"}],\"parcoords\":[{\"line\":{\"colorbar\":{\"outlinewidth\":0,\"ticks\":\"\"}},\"type\":\"parcoords\"}],\"pie\":[{\"automargin\":true,\"type\":\"pie\"}],\"scatter\":[{\"marker\":{\"colorbar\":{\"outlinewidth\":0,\"ticks\":\"\"}},\"type\":\"scatter\"}],\"scatter3d\":[{\"line\":{\"colorbar\":{\"outlinewidth\":0,\"ticks\":\"\"}},\"marker\":{\"colorbar\":{\"outlinewidth\":0,\"ticks\":\"\"}},\"type\":\"scatter3d\"}],\"scattercarpet\":[{\"marker\":{\"colorbar\":{\"outlinewidth\":0,\"ticks\":\"\"}},\"type\":\"scattercarpet\"}],\"scattergeo\":[{\"marker\":{\"colorbar\":{\"outlinewidth\":0,\"ticks\":\"\"}},\"type\":\"scattergeo\"}],\"scattergl\":[{\"marker\":{\"colorbar\":{\"outlinewidth\":0,\"ticks\":\"\"}},\"type\":\"scattergl\"}],\"scattermapbox\":[{\"marker\":{\"colorbar\":{\"outlinewidth\":0,\"ticks\":\"\"}},\"type\":\"scattermapbox\"}],\"scatterpolar\":[{\"marker\":{\"colorbar\":{\"outlinewidth\":0,\"ticks\":\"\"}},\"type\":\"scatterpolar\"}],\"scatterpolargl\":[{\"marker\":{\"colorbar\":{\"outlinewidth\":0,\"ticks\":\"\"}},\"type\":\"scatterpolargl\"}],\"scatterternary\":[{\"marker\":{\"colorbar\":{\"outlinewidth\":0,\"ticks\":\"\"}},\"type\":\"scatterternary\"}],\"surface\":[{\"colorbar\":{\"outlinewidth\":0,\"ticks\":\"\"},\"colorscale\":[[0.0,\"#0d0887\"],[0.1111111111111111,\"#46039f\"],[0.2222222222222222,\"#7201a8\"],[0.3333333333333333,\"#9c179e\"],[0.4444444444444444,\"#bd3786\"],[0.5555555555555556,\"#d8576b\"],[0.6666666666666666,\"#ed7953\"],[0.7777777777777778,\"#fb9f3a\"],[0.8888888888888888,\"#fdca26\"],[1.0,\"#f0f921\"]],\"type\":\"surface\"}],\"table\":[{\"cells\":{\"fill\":{\"color\":\"#EBF0F8\"},\"line\":{\"color\":\"white\"}},\"header\":{\"fill\":{\"color\":\"#C8D4E3\"},\"line\":{\"color\":\"white\"}},\"type\":\"table\"}]},\"layout\":{\"annotationdefaults\":{\"arrowcolor\":\"#2a3f5f\",\"arrowhead\":0,\"arrowwidth\":1},\"autotypenumbers\":\"strict\",\"coloraxis\":{\"colorbar\":{\"outlinewidth\":0,\"ticks\":\"\"}},\"colorscale\":{\"diverging\":[[0,\"#8e0152\"],[0.1,\"#c51b7d\"],[0.2,\"#de77ae\"],[0.3,\"#f1b6da\"],[0.4,\"#fde0ef\"],[0.5,\"#f7f7f7\"],[0.6,\"#e6f5d0\"],[0.7,\"#b8e186\"],[0.8,\"#7fbc41\"],[0.9,\"#4d9221\"],[1,\"#276419\"]],\"sequential\":[[0.0,\"#0d0887\"],[0.1111111111111111,\"#46039f\"],[0.2222222222222222,\"#7201a8\"],[0.3333333333333333,\"#9c179e\"],[0.4444444444444444,\"#bd3786\"],[0.5555555555555556,\"#d8576b\"],[0.6666666666666666,\"#ed7953\"],[0.7777777777777778,\"#fb9f3a\"],[0.8888888888888888,\"#fdca26\"],[1.0,\"#f0f921\"]],\"sequentialminus\":[[0.0,\"#0d0887\"],[0.1111111111111111,\"#46039f\"],[0.2222222222222222,\"#7201a8\"],[0.3333333333333333,\"#9c179e\"],[0.4444444444444444,\"#bd3786\"],[0.5555555555555556,\"#d8576b\"],[0.6666666666666666,\"#ed7953\"],[0.7777777777777778,\"#fb9f3a\"],[0.8888888888888888,\"#fdca26\"],[1.0,\"#f0f921\"]]},\"colorway\":[\"#636efa\",\"#EF553B\",\"#00cc96\",\"#ab63fa\",\"#FFA15A\",\"#19d3f3\",\"#FF6692\",\"#B6E880\",\"#FF97FF\",\"#FECB52\"],\"font\":{\"color\":\"#2a3f5f\"},\"geo\":{\"bgcolor\":\"white\",\"lakecolor\":\"white\",\"landcolor\":\"#E5ECF6\",\"showlakes\":true,\"showland\":true,\"subunitcolor\":\"white\"},\"hoverlabel\":{\"align\":\"left\"},\"hovermode\":\"closest\",\"mapbox\":{\"style\":\"light\"},\"paper_bgcolor\":\"white\",\"plot_bgcolor\":\"#E5ECF6\",\"polar\":{\"angularaxis\":{\"gridcolor\":\"white\",\"linecolor\":\"white\",\"ticks\":\"\"},\"bgcolor\":\"#E5ECF6\",\"radialaxis\":{\"gridcolor\":\"white\",\"linecolor\":\"white\",\"ticks\":\"\"}},\"scene\":{\"xaxis\":{\"backgroundcolor\":\"#E5ECF6\",\"gridcolor\":\"white\",\"gridwidth\":2,\"linecolor\":\"white\",\"showbackground\":true,\"ticks\":\"\",\"zerolinecolor\":\"white\"},\"yaxis\":{\"backgroundcolor\":\"#E5ECF6\",\"gridcolor\":\"white\",\"gridwidth\":2,\"linecolor\":\"white\",\"showbackground\":true,\"ticks\":\"\",\"zerolinecolor\":\"white\"},\"zaxis\":{\"backgroundcolor\":\"#E5ECF6\",\"gridcolor\":\"white\",\"gridwidth\":2,\"linecolor\":\"white\",\"showbackground\":true,\"ticks\":\"\",\"zerolinecolor\":\"white\"}},\"shapedefaults\":{\"line\":{\"color\":\"#2a3f5f\"}},\"ternary\":{\"aaxis\":{\"gridcolor\":\"white\",\"linecolor\":\"white\",\"ticks\":\"\"},\"baxis\":{\"gridcolor\":\"white\",\"linecolor\":\"white\",\"ticks\":\"\"},\"bgcolor\":\"#E5ECF6\",\"caxis\":{\"gridcolor\":\"white\",\"linecolor\":\"white\",\"ticks\":\"\"}},\"title\":{\"x\":0.05},\"xaxis\":{\"automargin\":true,\"gridcolor\":\"white\",\"linecolor\":\"white\",\"ticks\":\"\",\"title\":{\"standoff\":15},\"zerolinecolor\":\"white\",\"zerolinewidth\":2},\"yaxis\":{\"automargin\":true,\"gridcolor\":\"white\",\"linecolor\":\"white\",\"ticks\":\"\",\"title\":{\"standoff\":15},\"zerolinecolor\":\"white\",\"zerolinewidth\":2}}},\"xaxis\":{\"anchor\":\"y\",\"domain\":[0.0,1.0],\"title\":{\"text\":\"day\"}},\"yaxis\":{\"anchor\":\"x\",\"domain\":[0.0,1.0],\"title\":{\"text\":\"count\"}},\"coloraxis\":{\"colorbar\":{\"title\":{\"text\":\"count\"}},\"colorscale\":[[0.0,\"#000000\"],[1.0,\"#564dbd\"]]},\"legend\":{\"tracegroupgap\":0},\"margin\":{\"t\":60},\"barmode\":\"relative\",\"title\":{\"text\":\"Day wise addition of movies and shows to the platform\",\"y\":0.95,\"x\":0.5,\"xanchor\":\"center\",\"yanchor\":\"top\"},\"autosize\":false,\"width\":800,\"height\":500},                        {\"responsive\": true}                    ).then(function(){\n",
              "                            \n",
              "var gd = document.getElementById('4e934025-c447-4b24-9d37-6276a36662c7');\n",
              "var x = new MutationObserver(function (mutations, observer) {{\n",
              "        var display = window.getComputedStyle(gd).display;\n",
              "        if (!display || display === 'none') {{\n",
              "            console.log([gd, 'removed!']);\n",
              "            Plotly.purge(gd);\n",
              "            observer.disconnect();\n",
              "        }}\n",
              "}});\n",
              "\n",
              "// Listen for the removal of the full notebook cells\n",
              "var notebookContainer = gd.closest('#notebook-container');\n",
              "if (notebookContainer) {{\n",
              "    x.observe(notebookContainer, {childList: true});\n",
              "}}\n",
              "\n",
              "// Listen for the clearing of the current output cell\n",
              "var outputEl = gd.closest('.output');\n",
              "if (outputEl) {{\n",
              "    x.observe(outputEl, {childList: true});\n",
              "}}\n",
              "\n",
              "                        })                };                            </script>        </div>\n",
              "</body>\n",
              "</html>"
            ]
          },
          "metadata": {}
        }
      ]
    },
    {
      "cell_type": "markdown",
      "source": [
        "####**Here, we clearly see that most of content is uploaded at the beginning,middle,or at the end of a month.**"
      ],
      "metadata": {
        "id": "Y0ah3m6tIpuy"
      }
    },
    {
      "cell_type": "markdown",
      "source": [
        "##**6. How many no of categories are present there in each content**"
      ],
      "metadata": {
        "id": "EwEleEYKIsZi"
      }
    },
    {
      "cell_type": "code",
      "source": [
        "type(netflix_cp['listed_in'])"
      ],
      "metadata": {
        "colab": {
          "base_uri": "https://localhost:8080/"
        },
        "id": "oNw2l-NhIuX3",
        "outputId": "af8f806c-9251-44e6-914f-0cd607b150b6"
      },
      "execution_count": 26,
      "outputs": [
        {
          "output_type": "execute_result",
          "data": {
            "text/plain": [
              "pandas.core.series.Series"
            ]
          },
          "metadata": {},
          "execution_count": 26
        }
      ]
    },
    {
      "cell_type": "code",
      "source": [
        "netflix_cp['listed_in'].iloc[0]"
      ],
      "metadata": {
        "colab": {
          "base_uri": "https://localhost:8080/",
          "height": 35
        },
        "id": "dukB7sxhIwMi",
        "outputId": "866ea77a-90f8-43ed-fa0a-5cc08e9f4492"
      },
      "execution_count": 27,
      "outputs": [
        {
          "output_type": "execute_result",
          "data": {
            "text/plain": [
              "'International TV Shows, TV Dramas, TV Sci-Fi & Fantasy'"
            ],
            "application/vnd.google.colaboratory.intrinsic+json": {
              "type": "string"
            }
          },
          "metadata": {},
          "execution_count": 27
        }
      ]
    },
    {
      "cell_type": "code",
      "source": [
        "(netflix_cp['listed_in'].iloc[0]).split(',')"
      ],
      "metadata": {
        "colab": {
          "base_uri": "https://localhost:8080/"
        },
        "id": "gzLZdzGmIyHG",
        "outputId": "849ae33e-0a9e-41b0-f385-d522a1e86636"
      },
      "execution_count": 28,
      "outputs": [
        {
          "output_type": "execute_result",
          "data": {
            "text/plain": [
              "['International TV Shows', ' TV Dramas', ' TV Sci-Fi & Fantasy']"
            ]
          },
          "metadata": {},
          "execution_count": 28
        }
      ]
    },
    {
      "cell_type": "code",
      "source": [
        "no_of_categories = []\n",
        "for catergory in netflix_cp.listed_in.values:\n",
        "  len_cat = len(catergory.split(\",\"))\n",
        "  no_of_categories.append(len_cat)"
      ],
      "metadata": {
        "id": "0-X1ReUrIzzX"
      },
      "execution_count": 29,
      "outputs": []
    },
    {
      "cell_type": "code",
      "source": [
        "netflix_cp['no_of_category_listed_in'] = no_of_categories\n",
        "netflix_cp['no_of_category_listed_in'].unique()"
      ],
      "metadata": {
        "colab": {
          "base_uri": "https://localhost:8080/"
        },
        "id": "dmgGl4U4I2Jv",
        "outputId": "42c3d7e3-2edc-4915-ea77-535763f992e7"
      },
      "execution_count": 30,
      "outputs": [
        {
          "output_type": "execute_result",
          "data": {
            "text/plain": [
              "array([3, 2, 1])"
            ]
          },
          "metadata": {},
          "execution_count": 30
        }
      ]
    },
    {
      "cell_type": "code",
      "source": [
        "netflix_cp['no_of_category_listed_in'].value_counts()"
      ],
      "metadata": {
        "colab": {
          "base_uri": "https://localhost:8080/"
        },
        "id": "soIrri7DI4Eu",
        "outputId": "ecc9dba3-0488-4713-d372-f11dcea53781"
      },
      "execution_count": 31,
      "outputs": [
        {
          "output_type": "execute_result",
          "data": {
            "text/plain": [
              "3    3295\n",
              "2    2682\n",
              "1    1793\n",
              "Name: no_of_category_listed_in, dtype: int64"
            ]
          },
          "metadata": {},
          "execution_count": 31
        }
      ]
    },
    {
      "cell_type": "code",
      "source": [
        "sns.set(style=\"darkgrid\")\n",
        "plt.figure(figsize = (8,5))\n",
        "plt.hist(netflix_cp.no_of_category_listed_in , bins=[1,2,3,4] , range = (1 ,4) , rwidth = 0.85, color ='lightblue')\n",
        "plt.xlabel(\"No of categories\")\n",
        "plt.ylabel(\"Count\")"
      ],
      "metadata": {
        "colab": {
          "base_uri": "https://localhost:8080/",
          "height": 356
        },
        "id": "AXzuzjlcI6GG",
        "outputId": "164a9fd4-6f4c-49e9-aeaf-4bbcf28841fd"
      },
      "execution_count": 32,
      "outputs": [
        {
          "output_type": "execute_result",
          "data": {
            "text/plain": [
              "Text(0, 0.5, 'Count')"
            ]
          },
          "metadata": {},
          "execution_count": 32
        },
        {
          "output_type": "display_data",
          "data": {
            "text/plain": [
              "<Figure size 576x360 with 1 Axes>"
            ],
            "image/png": "[encoded data removed]"
          },
          "metadata": {}
        }
      ]
    },
    {
      "cell_type": "markdown",
      "source": [
        "###**7. Which director has directed the most movies and TV shows?**"
      ],
      "metadata": {
        "id": "YhVygNE9I9qF"
      }
    },
    {
      "cell_type": "code",
      "source": [
        "#replace null values in director.\n",
        "netflix_cp['director'] = netflix_cp['director'].fillna('')\n",
        "\n",
        "directors_list = netflix_cp.director.value_counts().reset_index().head(15)[1:]  # We will exclude the null values.\n",
        "directors_list.rename(columns={'index':'Directors name', 'director':'Count'}, inplace=True)\n",
        "fig = px.bar(directors_list, x='Directors name', y='Count', text_auto=True,\n",
        "             color='Count', color_continuous_scale=['#db74ca', '#563a4d'])\n",
        "\n",
        "fig.update_traces(textangle=0, cliponaxis=False)\n",
        "fig.update_layout(\n",
        "    title={\n",
        "        'text': 'Top 25 directors with highest number of Movies and Tv Shows.',\n",
        "        'y':0.95,\n",
        "        'x':0.5,\n",
        "        'xanchor': 'center',\n",
        "        'yanchor': 'top'},\n",
        "        autosize=False,\n",
        "        width=1200,\n",
        "        height=500)"
      ],
      "metadata": {
        "colab": {
          "base_uri": "https://localhost:8080/",
          "height": 517
        },
        "id": "8nCuXYuPJAJ2",
        "outputId": "8db6b3b7-8a37-40b1-9613-a35825a155ce"
      },
      "execution_count": 33,
      "outputs": [
        {
          "output_type": "display_data",
          "data": {
            "text/html": [
              "<html>\n",
              "<head><meta charset=\"utf-8\" /></head>\n",
              "<body>\n",
              "    <div>            <script src=\"https://cdnjs.cloudflare.com/ajax/libs/mathjax/2.7.5/MathJax.js?config=TeX-AMS-MML_SVG\"></script><script type=\"text/javascript\">if (window.MathJax) {MathJax.Hub.Config({SVG: {font: \"STIX-Web\"}});}</script>                <script type=\"text/javascript\">window.PlotlyConfig = {MathJaxConfig: 'local'};</script>\n",
              "        <script src=\"https://cdn.plot.ly/plotly-2.8.3.min.js\"></script>                <div id=\"c8628399-39c3-4c49-800c-e7f042a2f46f\" class=\"plotly-graph-div\" style=\"height:500px; width:1200px;\"></div>            <script type=\"text/javascript\">                                    window.PLOTLYENV=window.PLOTLYENV || {};                                    if (document.getElementById(\"c8628399-39c3-4c49-800c-e7f042a2f46f\")) {                    Plotly.newPlot(                        \"c8628399-39c3-4c49-800c-e7f042a2f46f\",                        [{\"alignmentgroup\":\"True\",\"hovertemplate\":\"Directors name=%{x}<br>Count=%{marker.color}<extra></extra>\",\"legendgroup\":\"\",\"marker\":{\"color\":[18,16,14,13,12,12,12,10,9,8,8,8,8,8],\"coloraxis\":\"coloraxis\",\"pattern\":{\"shape\":\"\"}},\"name\":\"\",\"offsetgroup\":\"\",\"orientation\":\"v\",\"showlegend\":false,\"textposition\":\"auto\",\"texttemplate\":\"%{y}\",\"x\":[\"Ra\\u00fal Campos, Jan Suter\",\"Marcus Raboy\",\"Jay Karas\",\"Cathy Garcia-Molina\",\"Martin Scorsese\",\"Youssef Chahine\",\"Jay Chapman\",\"Steven Spielberg\",\"David Dhawan\",\"Robert Rodriguez\",\"Quentin Tarantino\",\"Johnnie To\",\"Hakan Alg\\u00fcl\",\"Ryan Polito\"],\"xaxis\":\"x\",\"y\":[18,16,14,13,12,12,12,10,9,8,8,8,8,8],\"yaxis\":\"y\",\"type\":\"bar\",\"cliponaxis\":false,\"textangle\":0}],                        {\"template\":{\"data\":{\"bar\":[{\"error_x\":{\"color\":\"#2a3f5f\"},\"error_y\":{\"color\":\"#2a3f5f\"},\"marker\":{\"line\":{\"color\":\"#E5ECF6\",\"width\":0.5},\"pattern\":{\"fillmode\":\"overlay\",\"size\":10,\"solidity\":0.2}},\"type\":\"bar\"}],\"barpolar\":[{\"marker\":{\"line\":{\"color\":\"#E5ECF6\",\"width\":0.5},\"pattern\":{\"fillmode\":\"overlay\",\"size\":10,\"solidity\":0.2}},\"type\":\"barpolar\"}],\"carpet\":[{\"aaxis\":{\"endlinecolor\":\"#2a3f5f\",\"gridcolor\":\"white\",\"linecolor\":\"white\",\"minorgridcolor\":\"white\",\"startlinecolor\":\"#2a3f5f\"},\"baxis\":{\"endlinecolor\":\"#2a3f5f\",\"gridcolor\":\"white\",\"linecolor\":\"white\",\"minorgridcolor\":\"white\",\"startlinecolor\":\"#2a3f5f\"},\"type\":\"carpet\"}],\"choropleth\":[{\"colorbar\":{\"outlinewidth\":0,\"ticks\":\"\"},\"type\":\"choropleth\"}],\"contour\":[{\"colorbar\":{\"outlinewidth\":0,\"ticks\":\"\"},\"colorscale\":[[0.0,\"#0d0887\"],[0.1111111111111111,\"#46039f\"],[0.2222222222222222,\"#7201a8\"],[0.3333333333333333,\"#9c179e\"],[0.4444444444444444,\"#bd3786\"],[0.5555555555555556,\"#d8576b\"],[0.6666666666666666,\"#ed7953\"],[0.7777777777777778,\"#fb9f3a\"],[0.8888888888888888,\"#fdca26\"],[1.0,\"#f0f921\"]],\"type\":\"contour\"}],\"contourcarpet\":[{\"colorbar\":{\"outlinewidth\":0,\"ticks\":\"\"},\"type\":\"contourcarpet\"}],\"heatmap\":[{\"colorbar\":{\"outlinewidth\":0,\"ticks\":\"\"},\"colorscale\":[[0.0,\"#0d0887\"],[0.1111111111111111,\"#46039f\"],[0.2222222222222222,\"#7201a8\"],[0.3333333333333333,\"#9c179e\"],[0.4444444444444444,\"#bd3786\"],[0.5555555555555556,\"#d8576b\"],[0.6666666666666666,\"#ed7953\"],[0.7777777777777778,\"#fb9f3a\"],[0.8888888888888888,\"#fdca26\"],[1.0,\"#f0f921\"]],\"type\":\"heatmap\"}],\"heatmapgl\":[{\"colorbar\":{\"outlinewidth\":0,\"ticks\":\"\"},\"colorscale\":[[0.0,\"#0d0887\"],[0.1111111111111111,\"#46039f\"],[0.2222222222222222,\"#7201a8\"],[0.3333333333333333,\"#9c179e\"],[0.4444444444444444,\"#bd3786\"],[0.5555555555555556,\"#d8576b\"],[0.6666666666666666,\"#ed7953\"],[0.7777777777777778,\"#fb9f3a\"],[0.8888888888888888,\"#fdca26\"],[1.0,\"#f0f921\"]],\"type\":\"heatmapgl\"}],\"histogram\":[{\"marker\":{\"pattern\":{\"fillmode\":\"overlay\",\"size\":10,\"solidity\":0.2}},\"type\":\"histogram\"}],\"histogram2d\":[{\"colorbar\":{\"outlinewidth\":0,\"ticks\":\"\"},\"colorscale\":[[0.0,\"#0d0887\"],[0.1111111111111111,\"#46039f\"],[0.2222222222222222,\"#7201a8\"],[0.3333333333333333,\"#9c179e\"],[0.4444444444444444,\"#bd3786\"],[0.5555555555555556,\"#d8576b\"],[0.6666666666666666,\"#ed7953\"],[0.7777777777777778,\"#fb9f3a\"],[0.8888888888888888,\"#fdca26\"],[1.0,\"#f0f921\"]],\"type\":\"histogram2d\"}],\"histogram2dcontour\":[{\"colorbar\":{\"outlinewidth\":0,\"ticks\":\"\"},\"colorscale\":[[0.0,\"#0d0887\"],[0.1111111111111111,\"#46039f\"],[0.2222222222222222,\"#7201a8\"],[0.3333333333333333,\"#9c179e\"],[0.4444444444444444,\"#bd3786\"],[0.5555555555555556,\"#d8576b\"],[0.6666666666666666,\"#ed7953\"],[0.7777777777777778,\"#fb9f3a\"],[0.8888888888888888,\"#fdca26\"],[1.0,\"#f0f921\"]],\"type\":\"histogram2dcontour\"}],\"mesh3d\":[{\"colorbar\":{\"outlinewidth\":0,\"ticks\":\"\"},\"type\":\"mesh3d\"}],\"parcoords\":[{\"line\":{\"colorbar\":{\"outlinewidth\":0,\"ticks\":\"\"}},\"type\":\"parcoords\"}],\"pie\":[{\"automargin\":true,\"type\":\"pie\"}],\"scatter\":[{\"marker\":{\"colorbar\":{\"outlinewidth\":0,\"ticks\":\"\"}},\"type\":\"scatter\"}],\"scatter3d\":[{\"line\":{\"colorbar\":{\"outlinewidth\":0,\"ticks\":\"\"}},\"marker\":{\"colorbar\":{\"outlinewidth\":0,\"ticks\":\"\"}},\"type\":\"scatter3d\"}],\"scattercarpet\":[{\"marker\":{\"colorbar\":{\"outlinewidth\":0,\"ticks\":\"\"}},\"type\":\"scattercarpet\"}],\"scattergeo\":[{\"marker\":{\"colorbar\":{\"outlinewidth\":0,\"ticks\":\"\"}},\"type\":\"scattergeo\"}],\"scattergl\":[{\"marker\":{\"colorbar\":{\"outlinewidth\":0,\"ticks\":\"\"}},\"type\":\"scattergl\"}],\"scattermapbox\":[{\"marker\":{\"colorbar\":{\"outlinewidth\":0,\"ticks\":\"\"}},\"type\":\"scattermapbox\"}],\"scatterpolar\":[{\"marker\":{\"colorbar\":{\"outlinewidth\":0,\"ticks\":\"\"}},\"type\":\"scatterpolar\"}],\"scatterpolargl\":[{\"marker\":{\"colorbar\":{\"outlinewidth\":0,\"ticks\":\"\"}},\"type\":\"scatterpolargl\"}],\"scatterternary\":[{\"marker\":{\"colorbar\":{\"outlinewidth\":0,\"ticks\":\"\"}},\"type\":\"scatterternary\"}],\"surface\":[{\"colorbar\":{\"outlinewidth\":0,\"ticks\":\"\"},\"colorscale\":[[0.0,\"#0d0887\"],[0.1111111111111111,\"#46039f\"],[0.2222222222222222,\"#7201a8\"],[0.3333333333333333,\"#9c179e\"],[0.4444444444444444,\"#bd3786\"],[0.5555555555555556,\"#d8576b\"],[0.6666666666666666,\"#ed7953\"],[0.7777777777777778,\"#fb9f3a\"],[0.8888888888888888,\"#fdca26\"],[1.0,\"#f0f921\"]],\"type\":\"surface\"}],\"table\":[{\"cells\":{\"fill\":{\"color\":\"#EBF0F8\"},\"line\":{\"color\":\"white\"}},\"header\":{\"fill\":{\"color\":\"#C8D4E3\"},\"line\":{\"color\":\"white\"}},\"type\":\"table\"}]},\"layout\":{\"annotationdefaults\":{\"arrowcolor\":\"#2a3f5f\",\"arrowhead\":0,\"arrowwidth\":1},\"autotypenumbers\":\"strict\",\"coloraxis\":{\"colorbar\":{\"outlinewidth\":0,\"ticks\":\"\"}},\"colorscale\":{\"diverging\":[[0,\"#8e0152\"],[0.1,\"#c51b7d\"],[0.2,\"#de77ae\"],[0.3,\"#f1b6da\"],[0.4,\"#fde0ef\"],[0.5,\"#f7f7f7\"],[0.6,\"#e6f5d0\"],[0.7,\"#b8e186\"],[0.8,\"#7fbc41\"],[0.9,\"#4d9221\"],[1,\"#276419\"]],\"sequential\":[[0.0,\"#0d0887\"],[0.1111111111111111,\"#46039f\"],[0.2222222222222222,\"#7201a8\"],[0.3333333333333333,\"#9c179e\"],[0.4444444444444444,\"#bd3786\"],[0.5555555555555556,\"#d8576b\"],[0.6666666666666666,\"#ed7953\"],[0.7777777777777778,\"#fb9f3a\"],[0.8888888888888888,\"#fdca26\"],[1.0,\"#f0f921\"]],\"sequentialminus\":[[0.0,\"#0d0887\"],[0.1111111111111111,\"#46039f\"],[0.2222222222222222,\"#7201a8\"],[0.3333333333333333,\"#9c179e\"],[0.4444444444444444,\"#bd3786\"],[0.5555555555555556,\"#d8576b\"],[0.6666666666666666,\"#ed7953\"],[0.7777777777777778,\"#fb9f3a\"],[0.8888888888888888,\"#fdca26\"],[1.0,\"#f0f921\"]]},\"colorway\":[\"#636efa\",\"#EF553B\",\"#00cc96\",\"#ab63fa\",\"#FFA15A\",\"#19d3f3\",\"#FF6692\",\"#B6E880\",\"#FF97FF\",\"#FECB52\"],\"font\":{\"color\":\"#2a3f5f\"},\"geo\":{\"bgcolor\":\"white\",\"lakecolor\":\"white\",\"landcolor\":\"#E5ECF6\",\"showlakes\":true,\"showland\":true,\"subunitcolor\":\"white\"},\"hoverlabel\":{\"align\":\"left\"},\"hovermode\":\"closest\",\"mapbox\":{\"style\":\"light\"},\"paper_bgcolor\":\"white\",\"plot_bgcolor\":\"#E5ECF6\",\"polar\":{\"angularaxis\":{\"gridcolor\":\"white\",\"linecolor\":\"white\",\"ticks\":\"\"},\"bgcolor\":\"#E5ECF6\",\"radialaxis\":{\"gridcolor\":\"white\",\"linecolor\":\"white\",\"ticks\":\"\"}},\"scene\":{\"xaxis\":{\"backgroundcolor\":\"#E5ECF6\",\"gridcolor\":\"white\",\"gridwidth\":2,\"linecolor\":\"white\",\"showbackground\":true,\"ticks\":\"\",\"zerolinecolor\":\"white\"},\"yaxis\":{\"backgroundcolor\":\"#E5ECF6\",\"gridcolor\":\"white\",\"gridwidth\":2,\"linecolor\":\"white\",\"showbackground\":true,\"ticks\":\"\",\"zerolinecolor\":\"white\"},\"zaxis\":{\"backgroundcolor\":\"#E5ECF6\",\"gridcolor\":\"white\",\"gridwidth\":2,\"linecolor\":\"white\",\"showbackground\":true,\"ticks\":\"\",\"zerolinecolor\":\"white\"}},\"shapedefaults\":{\"line\":{\"color\":\"#2a3f5f\"}},\"ternary\":{\"aaxis\":{\"gridcolor\":\"white\",\"linecolor\":\"white\",\"ticks\":\"\"},\"baxis\":{\"gridcolor\":\"white\",\"linecolor\":\"white\",\"ticks\":\"\"},\"bgcolor\":\"#E5ECF6\",\"caxis\":{\"gridcolor\":\"white\",\"linecolor\":\"white\",\"ticks\":\"\"}},\"title\":{\"x\":0.05},\"xaxis\":{\"automargin\":true,\"gridcolor\":\"white\",\"linecolor\":\"white\",\"ticks\":\"\",\"title\":{\"standoff\":15},\"zerolinecolor\":\"white\",\"zerolinewidth\":2},\"yaxis\":{\"automargin\":true,\"gridcolor\":\"white\",\"linecolor\":\"white\",\"ticks\":\"\",\"title\":{\"standoff\":15},\"zerolinecolor\":\"white\",\"zerolinewidth\":2}}},\"xaxis\":{\"anchor\":\"y\",\"domain\":[0.0,1.0],\"title\":{\"text\":\"Directors name\"}},\"yaxis\":{\"anchor\":\"x\",\"domain\":[0.0,1.0],\"title\":{\"text\":\"Count\"}},\"coloraxis\":{\"colorbar\":{\"title\":{\"text\":\"Count\"}},\"colorscale\":[[0.0,\"#db74ca\"],[1.0,\"#563a4d\"]]},\"legend\":{\"tracegroupgap\":0},\"margin\":{\"t\":60},\"barmode\":\"relative\",\"title\":{\"text\":\"Top 25 directors with highest number of Movies and Tv Shows.\",\"y\":0.95,\"x\":0.5,\"xanchor\":\"center\",\"yanchor\":\"top\"},\"autosize\":false,\"width\":1200,\"height\":500},                        {\"responsive\": true}                    ).then(function(){\n",
              "                            \n",
              "var gd = document.getElementById('c8628399-39c3-4c49-800c-e7f042a2f46f');\n",
              "var x = new MutationObserver(function (mutations, observer) {{\n",
              "        var display = window.getComputedStyle(gd).display;\n",
              "        if (!display || display === 'none') {{\n",
              "            console.log([gd, 'removed!']);\n",
              "            Plotly.purge(gd);\n",
              "            observer.disconnect();\n",
              "        }}\n",
              "}});\n",
              "\n",
              "// Listen for the removal of the full notebook cells\n",
              "var notebookContainer = gd.closest('#notebook-container');\n",
              "if (notebookContainer) {{\n",
              "    x.observe(notebookContainer, {childList: true});\n",
              "}}\n",
              "\n",
              "// Listen for the clearing of the current output cell\n",
              "var outputEl = gd.closest('.output');\n",
              "if (outputEl) {{\n",
              "    x.observe(outputEl, {childList: true});\n",
              "}}\n",
              "\n",
              "                        })                };                            </script>        </div>\n",
              "</body>\n",
              "</html>"
            ]
          },
          "metadata": {}
        }
      ]
    },
    {
      "cell_type": "markdown",
      "source": [
        "#####**Raúl Campos, Jan Suter, Marcus Raboy, Jay Karas, Cathy Garcia-Molina, Jay Chapman are the top 5 directors which highest number of movies and tv shows.**"
      ],
      "metadata": {
        "id": "jVssLwh6JJtH"
      }
    },
    {
      "cell_type": "markdown",
      "source": [
        "###**8. Which Actor/Actress have been cast in most of the movies and TV shows?**"
      ],
      "metadata": {
        "id": "ZXAacagHf_A2"
      }
    },
    {
      "cell_type": "code",
      "source": [
        "#create list of all the actors in the data.\n",
        "def data2list(data):\n",
        "  actor = {}\n",
        "  temp = []\n",
        "  cast = list(data['cast'])\n",
        "  for i in range(len(cast)):\n",
        "    temp.extend(str(cast[i]).split(','))\n",
        "  for i in temp:\n",
        "    if i not in actor:\n",
        "      actor[i] = temp.count(i)\n",
        "  return actor\n",
        "\n",
        "#create dataframe for list of actors\n",
        "\n",
        "actor_list = pd.DataFrame([data2list(netflix_cp)]).T.reset_index()\n",
        "actor_list = actor_list.sort_values(0,ascending = False).drop(106)"
      ],
      "metadata": {
        "id": "8AQNxYrZgDe1"
      },
      "execution_count": 34,
      "outputs": []
    },
    {
      "cell_type": "code",
      "source": [
        "# Plot it.\n",
        "top_actors = actor_list.head(10)\n",
        "top_actors.rename(columns={'index':'Actors name', 0:'Count'}, inplace=True)\n",
        "\n",
        "fig = px.bar(top_actors, x='Actors name', y='Count', text_auto=True,\n",
        "             color='Count', color_continuous_scale=['#16334d', '#db0450'])\n",
        "\n",
        "fig.update_traces(textangle=0, cliponaxis=False)\n",
        "fig.update_layout(\n",
        "    title={\n",
        "        'text': 'Actors with most content on platform.',\n",
        "        'y':0.95,\n",
        "        'x':0.5,\n",
        "        'xanchor': 'center',\n",
        "        'yanchor': 'top'},\n",
        "        autosize=False,\n",
        "        width=1200,\n",
        "        height=500)"
      ],
      "metadata": {
        "colab": {
          "base_uri": "https://localhost:8080/",
          "height": 639
        },
        "id": "Dd9aDyxUgLbs",
        "outputId": "9b1bc6ad-51f8-4e31-d639-9db9db453fb8"
      },
      "execution_count": 35,
      "outputs": [
        {
          "output_type": "stream",
          "name": "stderr",
          "text": [
            "/usr/local/lib/python3.7/dist-packages/pandas/core/frame.py:5047: SettingWithCopyWarning:\n",
            "\n",
            "\n",
            "A value is trying to be set on a copy of a slice from a DataFrame\n",
            "\n",
            "See the caveats in the documentation: https://pandas.pydata.org/pandas-docs/stable/user_guide/indexing.html#returning-a-view-versus-a-copy\n",
            "\n"
          ]
        },
        {
          "output_type": "display_data",
          "data": {
            "text/html": [
              "<html>\n",
              "<head><meta charset=\"utf-8\" /></head>\n",
              "<body>\n",
              "    <div>            <script src=\"https://cdnjs.cloudflare.com/ajax/libs/mathjax/2.7.5/MathJax.js?config=TeX-AMS-MML_SVG\"></script><script type=\"text/javascript\">if (window.MathJax) {MathJax.Hub.Config({SVG: {font: \"STIX-Web\"}});}</script>                <script type=\"text/javascript\">window.PlotlyConfig = {MathJaxConfig: 'local'};</script>\n",
              "        <script src=\"https://cdn.plot.ly/plotly-2.8.3.min.js\"></script>                <div id=\"41bc76de-26ea-4436-8811-793811cdcd18\" class=\"plotly-graph-div\" style=\"height:500px; width:1200px;\"></div>            <script type=\"text/javascript\">                                    window.PLOTLYENV=window.PLOTLYENV || {};                                    if (document.getElementById(\"41bc76de-26ea-4436-8811-793811cdcd18\")) {                    Plotly.newPlot(                        \"41bc76de-26ea-4436-8811-793811cdcd18\",                        [{\"alignmentgroup\":\"True\",\"hovertemplate\":\"Actors name=%{x}<br>Count=%{marker.color}<extra></extra>\",\"legendgroup\":\"\",\"marker\":{\"color\":[38,28,27,27,25,24,24,23,22,22],\"coloraxis\":\"coloraxis\",\"pattern\":{\"shape\":\"\"}},\"name\":\"\",\"offsetgroup\":\"\",\"orientation\":\"v\",\"showlegend\":false,\"textposition\":\"auto\",\"texttemplate\":\"%{y}\",\"x\":[\" Anupam Kher\",\" Takahiro Sakurai\",\" Om Puri\",\"Shah Rukh Khan\",\" Boman Irani\",\" Paresh Rawal\",\" Andrea Libman\",\" Yuki Kaji\",\" Vincent Tong\",\"Akshay Kumar\"],\"xaxis\":\"x\",\"y\":[38,28,27,27,25,24,24,23,22,22],\"yaxis\":\"y\",\"type\":\"bar\",\"cliponaxis\":false,\"textangle\":0}],                        {\"template\":{\"data\":{\"bar\":[{\"error_x\":{\"color\":\"#2a3f5f\"},\"error_y\":{\"color\":\"#2a3f5f\"},\"marker\":{\"line\":{\"color\":\"#E5ECF6\",\"width\":0.5},\"pattern\":{\"fillmode\":\"overlay\",\"size\":10,\"solidity\":0.2}},\"type\":\"bar\"}],\"barpolar\":[{\"marker\":{\"line\":{\"color\":\"#E5ECF6\",\"width\":0.5},\"pattern\":{\"fillmode\":\"overlay\",\"size\":10,\"solidity\":0.2}},\"type\":\"barpolar\"}],\"carpet\":[{\"aaxis\":{\"endlinecolor\":\"#2a3f5f\",\"gridcolor\":\"white\",\"linecolor\":\"white\",\"minorgridcolor\":\"white\",\"startlinecolor\":\"#2a3f5f\"},\"baxis\":{\"endlinecolor\":\"#2a3f5f\",\"gridcolor\":\"white\",\"linecolor\":\"white\",\"minorgridcolor\":\"white\",\"startlinecolor\":\"#2a3f5f\"},\"type\":\"carpet\"}],\"choropleth\":[{\"colorbar\":{\"outlinewidth\":0,\"ticks\":\"\"},\"type\":\"choropleth\"}],\"contour\":[{\"colorbar\":{\"outlinewidth\":0,\"ticks\":\"\"},\"colorscale\":[[0.0,\"#0d0887\"],[0.1111111111111111,\"#46039f\"],[0.2222222222222222,\"#7201a8\"],[0.3333333333333333,\"#9c179e\"],[0.4444444444444444,\"#bd3786\"],[0.5555555555555556,\"#d8576b\"],[0.6666666666666666,\"#ed7953\"],[0.7777777777777778,\"#fb9f3a\"],[0.8888888888888888,\"#fdca26\"],[1.0,\"#f0f921\"]],\"type\":\"contour\"}],\"contourcarpet\":[{\"colorbar\":{\"outlinewidth\":0,\"ticks\":\"\"},\"type\":\"contourcarpet\"}],\"heatmap\":[{\"colorbar\":{\"outlinewidth\":0,\"ticks\":\"\"},\"colorscale\":[[0.0,\"#0d0887\"],[0.1111111111111111,\"#46039f\"],[0.2222222222222222,\"#7201a8\"],[0.3333333333333333,\"#9c179e\"],[0.4444444444444444,\"#bd3786\"],[0.5555555555555556,\"#d8576b\"],[0.6666666666666666,\"#ed7953\"],[0.7777777777777778,\"#fb9f3a\"],[0.8888888888888888,\"#fdca26\"],[1.0,\"#f0f921\"]],\"type\":\"heatmap\"}],\"heatmapgl\":[{\"colorbar\":{\"outlinewidth\":0,\"ticks\":\"\"},\"colorscale\":[[0.0,\"#0d0887\"],[0.1111111111111111,\"#46039f\"],[0.2222222222222222,\"#7201a8\"],[0.3333333333333333,\"#9c179e\"],[0.4444444444444444,\"#bd3786\"],[0.5555555555555556,\"#d8576b\"],[0.6666666666666666,\"#ed7953\"],[0.7777777777777778,\"#fb9f3a\"],[0.8888888888888888,\"#fdca26\"],[1.0,\"#f0f921\"]],\"type\":\"heatmapgl\"}],\"histogram\":[{\"marker\":{\"pattern\":{\"fillmode\":\"overlay\",\"size\":10,\"solidity\":0.2}},\"type\":\"histogram\"}],\"histogram2d\":[{\"colorbar\":{\"outlinewidth\":0,\"ticks\":\"\"},\"colorscale\":[[0.0,\"#0d0887\"],[0.1111111111111111,\"#46039f\"],[0.2222222222222222,\"#7201a8\"],[0.3333333333333333,\"#9c179e\"],[0.4444444444444444,\"#bd3786\"],[0.5555555555555556,\"#d8576b\"],[0.6666666666666666,\"#ed7953\"],[0.7777777777777778,\"#fb9f3a\"],[0.8888888888888888,\"#fdca26\"],[1.0,\"#f0f921\"]],\"type\":\"histogram2d\"}],\"histogram2dcontour\":[{\"colorbar\":{\"outlinewidth\":0,\"ticks\":\"\"},\"colorscale\":[[0.0,\"#0d0887\"],[0.1111111111111111,\"#46039f\"],[0.2222222222222222,\"#7201a8\"],[0.3333333333333333,\"#9c179e\"],[0.4444444444444444,\"#bd3786\"],[0.5555555555555556,\"#d8576b\"],[0.6666666666666666,\"#ed7953\"],[0.7777777777777778,\"#fb9f3a\"],[0.8888888888888888,\"#fdca26\"],[1.0,\"#f0f921\"]],\"type\":\"histogram2dcontour\"}],\"mesh3d\":[{\"colorbar\":{\"outlinewidth\":0,\"ticks\":\"\"},\"type\":\"mesh3d\"}],\"parcoords\":[{\"line\":{\"colorbar\":{\"outlinewidth\":0,\"ticks\":\"\"}},\"type\":\"parcoords\"}],\"pie\":[{\"automargin\":true,\"type\":\"pie\"}],\"scatter\":[{\"marker\":{\"colorbar\":{\"outlinewidth\":0,\"ticks\":\"\"}},\"type\":\"scatter\"}],\"scatter3d\":[{\"line\":{\"colorbar\":{\"outlinewidth\":0,\"ticks\":\"\"}},\"marker\":{\"colorbar\":{\"outlinewidth\":0,\"ticks\":\"\"}},\"type\":\"scatter3d\"}],\"scattercarpet\":[{\"marker\":{\"colorbar\":{\"outlinewidth\":0,\"ticks\":\"\"}},\"type\":\"scattercarpet\"}],\"scattergeo\":[{\"marker\":{\"colorbar\":{\"outlinewidth\":0,\"ticks\":\"\"}},\"type\":\"scattergeo\"}],\"scattergl\":[{\"marker\":{\"colorbar\":{\"outlinewidth\":0,\"ticks\":\"\"}},\"type\":\"scattergl\"}],\"scattermapbox\":[{\"marker\":{\"colorbar\":{\"outlinewidth\":0,\"ticks\":\"\"}},\"type\":\"scattermapbox\"}],\"scatterpolar\":[{\"marker\":{\"colorbar\":{\"outlinewidth\":0,\"ticks\":\"\"}},\"type\":\"scatterpolar\"}],\"scatterpolargl\":[{\"marker\":{\"colorbar\":{\"outlinewidth\":0,\"ticks\":\"\"}},\"type\":\"scatterpolargl\"}],\"scatterternary\":[{\"marker\":{\"colorbar\":{\"outlinewidth\":0,\"ticks\":\"\"}},\"type\":\"scatterternary\"}],\"surface\":[{\"colorbar\":{\"outlinewidth\":0,\"ticks\":\"\"},\"colorscale\":[[0.0,\"#0d0887\"],[0.1111111111111111,\"#46039f\"],[0.2222222222222222,\"#7201a8\"],[0.3333333333333333,\"#9c179e\"],[0.4444444444444444,\"#bd3786\"],[0.5555555555555556,\"#d8576b\"],[0.6666666666666666,\"#ed7953\"],[0.7777777777777778,\"#fb9f3a\"],[0.8888888888888888,\"#fdca26\"],[1.0,\"#f0f921\"]],\"type\":\"surface\"}],\"table\":[{\"cells\":{\"fill\":{\"color\":\"#EBF0F8\"},\"line\":{\"color\":\"white\"}},\"header\":{\"fill\":{\"color\":\"#C8D4E3\"},\"line\":{\"color\":\"white\"}},\"type\":\"table\"}]},\"layout\":{\"annotationdefaults\":{\"arrowcolor\":\"#2a3f5f\",\"arrowhead\":0,\"arrowwidth\":1},\"autotypenumbers\":\"strict\",\"coloraxis\":{\"colorbar\":{\"outlinewidth\":0,\"ticks\":\"\"}},\"colorscale\":{\"diverging\":[[0,\"#8e0152\"],[0.1,\"#c51b7d\"],[0.2,\"#de77ae\"],[0.3,\"#f1b6da\"],[0.4,\"#fde0ef\"],[0.5,\"#f7f7f7\"],[0.6,\"#e6f5d0\"],[0.7,\"#b8e186\"],[0.8,\"#7fbc41\"],[0.9,\"#4d9221\"],[1,\"#276419\"]],\"sequential\":[[0.0,\"#0d0887\"],[0.1111111111111111,\"#46039f\"],[0.2222222222222222,\"#7201a8\"],[0.3333333333333333,\"#9c179e\"],[0.4444444444444444,\"#bd3786\"],[0.5555555555555556,\"#d8576b\"],[0.6666666666666666,\"#ed7953\"],[0.7777777777777778,\"#fb9f3a\"],[0.8888888888888888,\"#fdca26\"],[1.0,\"#f0f921\"]],\"sequentialminus\":[[0.0,\"#0d0887\"],[0.1111111111111111,\"#46039f\"],[0.2222222222222222,\"#7201a8\"],[0.3333333333333333,\"#9c179e\"],[0.4444444444444444,\"#bd3786\"],[0.5555555555555556,\"#d8576b\"],[0.6666666666666666,\"#ed7953\"],[0.7777777777777778,\"#fb9f3a\"],[0.8888888888888888,\"#fdca26\"],[1.0,\"#f0f921\"]]},\"colorway\":[\"#636efa\",\"#EF553B\",\"#00cc96\",\"#ab63fa\",\"#FFA15A\",\"#19d3f3\",\"#FF6692\",\"#B6E880\",\"#FF97FF\",\"#FECB52\"],\"font\":{\"color\":\"#2a3f5f\"},\"geo\":{\"bgcolor\":\"white\",\"lakecolor\":\"white\",\"landcolor\":\"#E5ECF6\",\"showlakes\":true,\"showland\":true,\"subunitcolor\":\"white\"},\"hoverlabel\":{\"align\":\"left\"},\"hovermode\":\"closest\",\"mapbox\":{\"style\":\"light\"},\"paper_bgcolor\":\"white\",\"plot_bgcolor\":\"#E5ECF6\",\"polar\":{\"angularaxis\":{\"gridcolor\":\"white\",\"linecolor\":\"white\",\"ticks\":\"\"},\"bgcolor\":\"#E5ECF6\",\"radialaxis\":{\"gridcolor\":\"white\",\"linecolor\":\"white\",\"ticks\":\"\"}},\"scene\":{\"xaxis\":{\"backgroundcolor\":\"#E5ECF6\",\"gridcolor\":\"white\",\"gridwidth\":2,\"linecolor\":\"white\",\"showbackground\":true,\"ticks\":\"\",\"zerolinecolor\":\"white\"},\"yaxis\":{\"backgroundcolor\":\"#E5ECF6\",\"gridcolor\":\"white\",\"gridwidth\":2,\"linecolor\":\"white\",\"showbackground\":true,\"ticks\":\"\",\"zerolinecolor\":\"white\"},\"zaxis\":{\"backgroundcolor\":\"#E5ECF6\",\"gridcolor\":\"white\",\"gridwidth\":2,\"linecolor\":\"white\",\"showbackground\":true,\"ticks\":\"\",\"zerolinecolor\":\"white\"}},\"shapedefaults\":{\"line\":{\"color\":\"#2a3f5f\"}},\"ternary\":{\"aaxis\":{\"gridcolor\":\"white\",\"linecolor\":\"white\",\"ticks\":\"\"},\"baxis\":{\"gridcolor\":\"white\",\"linecolor\":\"white\",\"ticks\":\"\"},\"bgcolor\":\"#E5ECF6\",\"caxis\":{\"gridcolor\":\"white\",\"linecolor\":\"white\",\"ticks\":\"\"}},\"title\":{\"x\":0.05},\"xaxis\":{\"automargin\":true,\"gridcolor\":\"white\",\"linecolor\":\"white\",\"ticks\":\"\",\"title\":{\"standoff\":15},\"zerolinecolor\":\"white\",\"zerolinewidth\":2},\"yaxis\":{\"automargin\":true,\"gridcolor\":\"white\",\"linecolor\":\"white\",\"ticks\":\"\",\"title\":{\"standoff\":15},\"zerolinecolor\":\"white\",\"zerolinewidth\":2}}},\"xaxis\":{\"anchor\":\"y\",\"domain\":[0.0,1.0],\"title\":{\"text\":\"Actors name\"}},\"yaxis\":{\"anchor\":\"x\",\"domain\":[0.0,1.0],\"title\":{\"text\":\"Count\"}},\"coloraxis\":{\"colorbar\":{\"title\":{\"text\":\"Count\"}},\"colorscale\":[[0.0,\"#16334d\"],[1.0,\"#db0450\"]]},\"legend\":{\"tracegroupgap\":0},\"margin\":{\"t\":60},\"barmode\":\"relative\",\"title\":{\"text\":\"Actors with most content on platform.\",\"y\":0.95,\"x\":0.5,\"xanchor\":\"center\",\"yanchor\":\"top\"},\"autosize\":false,\"width\":1200,\"height\":500},                        {\"responsive\": true}                    ).then(function(){\n",
              "                            \n",
              "var gd = document.getElementById('41bc76de-26ea-4436-8811-793811cdcd18');\n",
              "var x = new MutationObserver(function (mutations, observer) {{\n",
              "        var display = window.getComputedStyle(gd).display;\n",
              "        if (!display || display === 'none') {{\n",
              "            console.log([gd, 'removed!']);\n",
              "            Plotly.purge(gd);\n",
              "            observer.disconnect();\n",
              "        }}\n",
              "}});\n",
              "\n",
              "// Listen for the removal of the full notebook cells\n",
              "var notebookContainer = gd.closest('#notebook-container');\n",
              "if (notebookContainer) {{\n",
              "    x.observe(notebookContainer, {childList: true});\n",
              "}}\n",
              "\n",
              "// Listen for the clearing of the current output cell\n",
              "var outputEl = gd.closest('.output');\n",
              "if (outputEl) {{\n",
              "    x.observe(outputEl, {childList: true});\n",
              "}}\n",
              "\n",
              "                        })                };                            </script>        </div>\n",
              "</body>\n",
              "</html>"
            ]
          },
          "metadata": {}
        }
      ]
    },
    {
      "cell_type": "markdown",
      "source": [
        "**Happy to see 6 of the actors in the top 10 list of most numbers tv shows and movies are from India.**"
      ],
      "metadata": {
        "id": "cASTHFDkgAkk"
      }
    },
    {
      "cell_type": "markdown",
      "source": [
        "###**9. Which Genre is more popular in these countries?.**"
      ],
      "metadata": {
        "id": "t5ODc_dagXCs"
      }
    },
    {
      "cell_type": "code",
      "source": [
        "conuntry_vs_genre = netflix_cp[['country', 'listed_in']]\n",
        "def country_wise_genre(country):\n",
        "  country_genre = conuntry_vs_genre[conuntry_vs_genre['country'] == country]\n",
        "  country_genre = \", \".join(country_genre['listed_in'].dropna()).split(\", \")\n",
        "  country_genre_dict = dict(Counter(country_genre))\n",
        "  return country_genre_dict\n",
        "# Define list of top ten countries.\n",
        "country_list = ['India', 'United Kingdom', 'Spain', 'Japan', 'France', 'United States','South Korea', 'Mexico', 'Australia','Canada']\n",
        "# Create an empty dict to store values of each genre for each country.\n",
        "country_wise_genre_dict = {}\n",
        "# Iterate through all values in country_list.\n",
        "for i in country_list:\n",
        "  genre_data = country_wise_genre(i)\n",
        "  country_wise_genre_dict[i] = genre_data\n",
        "  country_genre_count_df = pd.DataFrame(country_wise_genre_dict).reset_index()\n",
        "  country_genre_count_df.rename({'index':'Genre'}, inplace=True, axis=1)\n",
        "\n",
        "\n",
        "df = country_genre_count_df\n",
        "\n",
        "# Define colours to be used.\n",
        "colors = ['aliceblue', 'brown', 'crimson', 'cyan', 'darkblue', 'darkmagenta', 'darkolivegreen', 'darkorange', 'darkturquoise', 'darkviolet', 'deeppink', 'forestgreen',\n",
        "          'fuchsia', 'gainsboro', 'goldenrod', 'gray','maroon', 'mediumaquamarine', 'mediumvioletred', 'midnightblue', 'orchid', 'palegoldenrod', 'palegreen', 'paleturquoise',\n",
        "          'plum', 'powderblue', 'purple', 'red', 'rosybrown', 'royalblue', 'saddlebrown', 'salmon', 'sandybrown','seagreen', 'seashell', 'sienna', 'silver', 'slategray', 'snow',\n",
        "          'springgreen', 'tomato','yellow', 'yellowgreen']\n",
        "\n",
        "# Create subplots, using 'domain' type for pie charts\n",
        "specs = [[{'type':'domain'}, {'type':'domain'}, {'type':'domain'}, {'type':'domain'}, {'type':'domain'}], [{'type':'domain'}, {'type':'domain'}, {'type':'domain'}, {'type':'domain'}, {'type':'domain'}]]\n",
        "fig = make_subplots(rows=2, cols=5, specs=specs, subplot_titles=['India', 'United Kingdom', 'Spain', 'Japan', 'France', 'United States','South Korea', 'Mexico', 'Australia','Canada'])\n",
        "\n",
        "# Define traces.\n",
        "fig.add_trace(go.Pie(labels=df['Genre'], values=df['India'], name='India'),1,1)\n",
        "fig.add_trace(go.Pie(labels=df['Genre'], values=df['United Kingdom'],  name='United Kingdom'),1,2)\n",
        "fig.add_trace(go.Pie(labels=df['Genre'], values=df['Spain'],  name='United Kingdom'),1,3)\n",
        "fig.add_trace(go.Pie(labels=df['Genre'], values=df['Japan'],  name='Japan'),1,4)\n",
        "fig.add_trace(go.Pie(labels=df['Genre'], values=df['France'],  name='France'),1,5)\n",
        "fig.add_trace(go.Pie(labels=df['Genre'], values=df['United States'],  name='United States'),2,1)\n",
        "fig.add_trace(go.Pie(labels=df['Genre'], values=df['South Korea'],  name='South Korea'),2,2)\n",
        "fig.add_trace(go.Pie(labels=df['Genre'], values=df['Mexico'],  name='Mexico'),2,3)\n",
        "fig.add_trace(go.Pie(labels=df['Genre'], values=df['Australia'],  name='Australia'),2,4)\n",
        "fig.add_trace(go.Pie(labels=df['Genre'], values=df['Canada'],  name='Canada'),2,5)\n",
        "\n",
        "# Tune layout and hover info\n",
        "fig.update_traces(hoverinfo='label+percent+name', textinfo='none', marker=dict(colors=colors))\n",
        "fig.update_layout(title={'text': 'Top ten countries and the content they provide.',\n",
        "                          'y':0.97,\n",
        "                          'x':0.5,\n",
        "                          'font_size':25,\n",
        "                          'xanchor': 'center',\n",
        "                          'yanchor': 'top'},height=650, width=1550,paper_bgcolor='white',\n",
        "                  legend=dict(x=0.099,orientation=\"h\")\n",
        "                          )\n"
      ],
      "metadata": {
        "colab": {
          "base_uri": "https://localhost:8080/",
          "height": 687
        },
        "id": "FtPvUjXkgSLk",
        "outputId": "b84905e4-9e74-42de-ce64-6f11a680b588"
      },
      "execution_count": 36,
      "outputs": [
        {
          "output_type": "display_data",
          "data": {
            "text/html": [
              "<html>\n",
              "<head><meta charset=\"utf-8\" /></head>\n",
              "<body>\n",
              "    <div>            <script src=\"https://cdnjs.cloudflare.com/ajax/libs/mathjax/2.7.5/MathJax.js?config=TeX-AMS-MML_SVG\"></script><script type=\"text/javascript\">if (window.MathJax) {MathJax.Hub.Config({SVG: {font: \"STIX-Web\"}});}</script>                <script type=\"text/javascript\">window.PlotlyConfig = {MathJaxConfig: 'local'};</script>\n",
              "        <script src=\"https://cdn.plot.ly/plotly-2.8.3.min.js\"></script>                <div id=\"966e6c49-42b3-49b4-8230-892fdcbf6367\" class=\"plotly-graph-div\" style=\"height:650px; width:1550px;\"></div>            <script type=\"text/javascript\">                                    window.PLOTLYENV=window.PLOTLYENV || {};                                    if (document.getElementById(\"966e6c49-42b3-49b4-8230-892fdcbf6367\")) {                    Plotly.newPlot(                        \"966e6c49-42b3-49b4-8230-892fdcbf6367\",                        [{\"labels\":[\"Horror Movies\",\"International Movies\",\"Thrillers\",\"Comedies\",\"Dramas\",\"Independent Movies\",\"Action & Adventure\",\"International TV Shows\",\"TV Dramas\",\"TV Shows\",\"Music & Musicals\",\"Sci-Fi & Fantasy\",\"Children & Family Movies\",\"Stand-Up Comedy\",\"Crime TV Shows\",\"TV Action & Adventure\",\"Romantic Movies\",\"Kids' TV\",\"TV Comedies\",\"Classic Movies\",\"Documentaries\",\"Cult Movies\",\"TV Horror\",\"TV Thrillers\",\"TV Mysteries\",\"Sports Movies\",\"British TV Shows\",\"Docuseries\",\"Romantic TV Shows\",\"LGBTQ Movies\",\"Faith & Spirituality\",\"TV Sci-Fi & Fantasy\",\"Reality TV\",\"Stand-Up Comedy & Talk Shows\",\"Teen TV Shows\",\"Science & Nature TV\",\"Classic & Cult TV\",\"Movies\",\"Spanish-Language TV Shows\",\"Anime Series\",\"Anime Features\",\"Korean TV Shows\"],\"name\":\"India\",\"values\":[31.0,785.0,85.0,293.0,589.0,129.0,124.0,59.0,24.0,2.0,90.0,10.0,16.0,6.0,8.0,5.0,111.0,10.0,25.0,11.0,18.0,5.0,7.0,3.0,3.0,15.0,1.0,7.0,9.0,2.0,3.0,3.0,3.0,3.0,1.0,null,null,null,null,null,null,null],\"type\":\"pie\",\"domain\":{\"x\":[0.0,0.16799999999999998],\"y\":[0.625,1.0]},\"marker\":{\"colors\":[\"aliceblue\",\"brown\",\"crimson\",\"cyan\",\"darkblue\",\"darkmagenta\",\"darkolivegreen\",\"darkorange\",\"darkturquoise\",\"darkviolet\",\"deeppink\",\"forestgreen\",\"fuchsia\",\"gainsboro\",\"goldenrod\",\"gray\",\"maroon\",\"mediumaquamarine\",\"mediumvioletred\",\"midnightblue\",\"orchid\",\"palegoldenrod\",\"palegreen\",\"paleturquoise\",\"plum\",\"powderblue\",\"purple\",\"red\",\"rosybrown\",\"royalblue\",\"saddlebrown\",\"salmon\",\"sandybrown\",\"seagreen\",\"seashell\",\"sienna\",\"silver\",\"slategray\",\"snow\",\"springgreen\",\"tomato\",\"yellow\",\"yellowgreen\"]},\"hoverinfo\":\"label+percent+name\",\"textinfo\":\"none\"},{\"labels\":[\"Horror Movies\",\"International Movies\",\"Thrillers\",\"Comedies\",\"Dramas\",\"Independent Movies\",\"Action & Adventure\",\"International TV Shows\",\"TV Dramas\",\"TV Shows\",\"Music & Musicals\",\"Sci-Fi & Fantasy\",\"Children & Family Movies\",\"Stand-Up Comedy\",\"Crime TV Shows\",\"TV Action & Adventure\",\"Romantic Movies\",\"Kids' TV\",\"TV Comedies\",\"Classic Movies\",\"Documentaries\",\"Cult Movies\",\"TV Horror\",\"TV Thrillers\",\"TV Mysteries\",\"Sports Movies\",\"British TV Shows\",\"Docuseries\",\"Romantic TV Shows\",\"LGBTQ Movies\",\"Faith & Spirituality\",\"TV Sci-Fi & Fantasy\",\"Reality TV\",\"Stand-Up Comedy & Talk Shows\",\"Teen TV Shows\",\"Science & Nature TV\",\"Classic & Cult TV\",\"Movies\",\"Spanish-Language TV Shows\",\"Anime Series\",\"Anime Features\",\"Korean TV Shows\"],\"name\":\"United Kingdom\",\"values\":[9.0,61.0,15.0,31.0,37.0,24.0,19.0,102.0,20.0,null,13.0,6.0,7.0,20.0,36.0,3.0,3.0,18.0,36.0,3.0,79.0,3.0,1.0,1.0,1.0,13.0,186.0,79.0,9.0,3.0,null,1.0,32.0,1.0,null,21.0,6.0,2.0,null,null,null,null],\"type\":\"pie\",\"domain\":{\"x\":[0.208,0.376],\"y\":[0.625,1.0]},\"marker\":{\"colors\":[\"aliceblue\",\"brown\",\"crimson\",\"cyan\",\"darkblue\",\"darkmagenta\",\"darkolivegreen\",\"darkorange\",\"darkturquoise\",\"darkviolet\",\"deeppink\",\"forestgreen\",\"fuchsia\",\"gainsboro\",\"goldenrod\",\"gray\",\"maroon\",\"mediumaquamarine\",\"mediumvioletred\",\"midnightblue\",\"orchid\",\"palegoldenrod\",\"palegreen\",\"paleturquoise\",\"plum\",\"powderblue\",\"purple\",\"red\",\"rosybrown\",\"royalblue\",\"saddlebrown\",\"salmon\",\"sandybrown\",\"seagreen\",\"seashell\",\"sienna\",\"silver\",\"slategray\",\"snow\",\"springgreen\",\"tomato\",\"yellow\",\"yellowgreen\"]},\"hoverinfo\":\"label+percent+name\",\"textinfo\":\"none\"},{\"labels\":[\"Horror Movies\",\"International Movies\",\"Thrillers\",\"Comedies\",\"Dramas\",\"Independent Movies\",\"Action & Adventure\",\"International TV Shows\",\"TV Dramas\",\"TV Shows\",\"Music & Musicals\",\"Sci-Fi & Fantasy\",\"Children & Family Movies\",\"Stand-Up Comedy\",\"Crime TV Shows\",\"TV Action & Adventure\",\"Romantic Movies\",\"Kids' TV\",\"TV Comedies\",\"Classic Movies\",\"Documentaries\",\"Cult Movies\",\"TV Horror\",\"TV Thrillers\",\"TV Mysteries\",\"Sports Movies\",\"British TV Shows\",\"Docuseries\",\"Romantic TV Shows\",\"LGBTQ Movies\",\"Faith & Spirituality\",\"TV Sci-Fi & Fantasy\",\"Reality TV\",\"Stand-Up Comedy & Talk Shows\",\"Teen TV Shows\",\"Science & Nature TV\",\"Classic & Cult TV\",\"Movies\",\"Spanish-Language TV Shows\",\"Anime Series\",\"Anime Features\",\"Korean TV Shows\"],\"name\":\"United Kingdom\",\"values\":[3.0,83.0,18.0,31.0,35.0,11.0,3.0,43.0,9.0,null,4.0,2.0,1.0,null,20.0,2.0,9.0,2.0,5.0,null,16.0,null,null,null,null,3.0,null,4.0,9.0,2.0,2.0,null,2.0,null,1.0,null,null,1.0,34.0,1.0,null,null],\"type\":\"pie\",\"domain\":{\"x\":[0.416,0.584],\"y\":[0.625,1.0]},\"marker\":{\"colors\":[\"aliceblue\",\"brown\",\"crimson\",\"cyan\",\"darkblue\",\"darkmagenta\",\"darkolivegreen\",\"darkorange\",\"darkturquoise\",\"darkviolet\",\"deeppink\",\"forestgreen\",\"fuchsia\",\"gainsboro\",\"goldenrod\",\"gray\",\"maroon\",\"mediumaquamarine\",\"mediumvioletred\",\"midnightblue\",\"orchid\",\"palegoldenrod\",\"palegreen\",\"paleturquoise\",\"plum\",\"powderblue\",\"purple\",\"red\",\"rosybrown\",\"royalblue\",\"saddlebrown\",\"salmon\",\"sandybrown\",\"seagreen\",\"seashell\",\"sienna\",\"silver\",\"slategray\",\"snow\",\"springgreen\",\"tomato\",\"yellow\",\"yellowgreen\"]},\"hoverinfo\":\"label+percent+name\",\"textinfo\":\"none\"},{\"labels\":[\"Horror Movies\",\"International Movies\",\"Thrillers\",\"Comedies\",\"Dramas\",\"Independent Movies\",\"Action & Adventure\",\"International TV Shows\",\"TV Dramas\",\"TV Shows\",\"Music & Musicals\",\"Sci-Fi & Fantasy\",\"Children & Family Movies\",\"Stand-Up Comedy\",\"Crime TV Shows\",\"TV Action & Adventure\",\"Romantic Movies\",\"Kids' TV\",\"TV Comedies\",\"Classic Movies\",\"Documentaries\",\"Cult Movies\",\"TV Horror\",\"TV Thrillers\",\"TV Mysteries\",\"Sports Movies\",\"British TV Shows\",\"Docuseries\",\"Romantic TV Shows\",\"LGBTQ Movies\",\"Faith & Spirituality\",\"TV Sci-Fi & Fantasy\",\"Reality TV\",\"Stand-Up Comedy & Talk Shows\",\"Teen TV Shows\",\"Science & Nature TV\",\"Classic & Cult TV\",\"Movies\",\"Spanish-Language TV Shows\",\"Anime Series\",\"Anime Features\",\"Korean TV Shows\"],\"name\":\"Japan\",\"values\":[1.0,48.0,1.0,null,9.0,null,42.0,128.0,20.0,1.0,3.0,7.0,11.0,null,13.0,4.0,3.0,12.0,6.0,1.0,null,null,4.0,4.0,4.0,null,null,1.0,20.0,null,null,null,6.0,1.0,14.0,null,null,1.0,null,119.0,52.0,null],\"type\":\"pie\",\"domain\":{\"x\":[0.624,0.792],\"y\":[0.625,1.0]},\"marker\":{\"colors\":[\"aliceblue\",\"brown\",\"crimson\",\"cyan\",\"darkblue\",\"darkmagenta\",\"darkolivegreen\",\"darkorange\",\"darkturquoise\",\"darkviolet\",\"deeppink\",\"forestgreen\",\"fuchsia\",\"gainsboro\",\"goldenrod\",\"gray\",\"maroon\",\"mediumaquamarine\",\"mediumvioletred\",\"midnightblue\",\"orchid\",\"palegoldenrod\",\"palegreen\",\"paleturquoise\",\"plum\",\"powderblue\",\"purple\",\"red\",\"rosybrown\",\"royalblue\",\"saddlebrown\",\"salmon\",\"sandybrown\",\"seagreen\",\"seashell\",\"sienna\",\"silver\",\"slategray\",\"snow\",\"springgreen\",\"tomato\",\"yellow\",\"yellowgreen\"]},\"hoverinfo\":\"label+percent+name\",\"textinfo\":\"none\"},{\"labels\":[\"Horror Movies\",\"International Movies\",\"Thrillers\",\"Comedies\",\"Dramas\",\"Independent Movies\",\"Action & Adventure\",\"International TV Shows\",\"TV Dramas\",\"TV Shows\",\"Music & Musicals\",\"Sci-Fi & Fantasy\",\"Children & Family Movies\",\"Stand-Up Comedy\",\"Crime TV Shows\",\"TV Action & Adventure\",\"Romantic Movies\",\"Kids' TV\",\"TV Comedies\",\"Classic Movies\",\"Documentaries\",\"Cult Movies\",\"TV Horror\",\"TV Thrillers\",\"TV Mysteries\",\"Sports Movies\",\"British TV Shows\",\"Docuseries\",\"Romantic TV Shows\",\"LGBTQ Movies\",\"Faith & Spirituality\",\"TV Sci-Fi & Fantasy\",\"Reality TV\",\"Stand-Up Comedy & Talk Shows\",\"Teen TV Shows\",\"Science & Nature TV\",\"Classic & Cult TV\",\"Movies\",\"Spanish-Language TV Shows\",\"Anime Series\",\"Anime Features\",\"Korean TV Shows\"],\"name\":\"France\",\"values\":[null,63.0,3.0,17.0,29.0,8.0,12.0,30.0,19.0,null,5.0,1.0,1.0,4.0,12.0,2.0,4.0,15.0,14.0,null,22.0,null,3.0,2.0,2.0,7.0,null,5.0,2.0,1.0,null,null,2.0,1.0,null,null,null,null,null,null,null,null],\"type\":\"pie\",\"domain\":{\"x\":[0.832,1.0],\"y\":[0.625,1.0]},\"marker\":{\"colors\":[\"aliceblue\",\"brown\",\"crimson\",\"cyan\",\"darkblue\",\"darkmagenta\",\"darkolivegreen\",\"darkorange\",\"darkturquoise\",\"darkviolet\",\"deeppink\",\"forestgreen\",\"fuchsia\",\"gainsboro\",\"goldenrod\",\"gray\",\"maroon\",\"mediumaquamarine\",\"mediumvioletred\",\"midnightblue\",\"orchid\",\"palegoldenrod\",\"palegreen\",\"paleturquoise\",\"plum\",\"powderblue\",\"purple\",\"red\",\"rosybrown\",\"royalblue\",\"saddlebrown\",\"salmon\",\"sandybrown\",\"seagreen\",\"seashell\",\"sienna\",\"silver\",\"slategray\",\"snow\",\"springgreen\",\"tomato\",\"yellow\",\"yellowgreen\"]},\"hoverinfo\":\"label+percent+name\",\"textinfo\":\"none\"},{\"labels\":[\"Horror Movies\",\"International Movies\",\"Thrillers\",\"Comedies\",\"Dramas\",\"Independent Movies\",\"Action & Adventure\",\"International TV Shows\",\"TV Dramas\",\"TV Shows\",\"Music & Musicals\",\"Sci-Fi & Fantasy\",\"Children & Family Movies\",\"Stand-Up Comedy\",\"Crime TV Shows\",\"TV Action & Adventure\",\"Romantic Movies\",\"Kids' TV\",\"TV Comedies\",\"Classic Movies\",\"Documentaries\",\"Cult Movies\",\"TV Horror\",\"TV Thrillers\",\"TV Mysteries\",\"Sports Movies\",\"British TV Shows\",\"Docuseries\",\"Romantic TV Shows\",\"LGBTQ Movies\",\"Faith & Spirituality\",\"TV Sci-Fi & Fantasy\",\"Reality TV\",\"Stand-Up Comedy & Talk Shows\",\"Teen TV Shows\",\"Science & Nature TV\",\"Classic & Cult TV\",\"Movies\",\"Spanish-Language TV Shows\",\"Anime Series\",\"Anime Features\",\"Korean TV Shows\"],\"name\":\"United States\",\"values\":[126,17,168,458,517,284,196,25,181,3,100,101,252,211,105,66,147,132,214,53,381,32,27,21,37,82,4,162,33,52,28,41,103,33,29,38,12,19,11,5,1,1],\"type\":\"pie\",\"domain\":{\"x\":[0.0,0.16799999999999998],\"y\":[0.0,0.375]},\"marker\":{\"colors\":[\"aliceblue\",\"brown\",\"crimson\",\"cyan\",\"darkblue\",\"darkmagenta\",\"darkolivegreen\",\"darkorange\",\"darkturquoise\",\"darkviolet\",\"deeppink\",\"forestgreen\",\"fuchsia\",\"gainsboro\",\"goldenrod\",\"gray\",\"maroon\",\"mediumaquamarine\",\"mediumvioletred\",\"midnightblue\",\"orchid\",\"palegoldenrod\",\"palegreen\",\"paleturquoise\",\"plum\",\"powderblue\",\"purple\",\"red\",\"rosybrown\",\"royalblue\",\"saddlebrown\",\"salmon\",\"sandybrown\",\"seagreen\",\"seashell\",\"sienna\",\"silver\",\"slategray\",\"snow\",\"springgreen\",\"tomato\",\"yellow\",\"yellowgreen\"]},\"hoverinfo\":\"label+percent+name\",\"textinfo\":\"none\"},{\"labels\":[\"Horror Movies\",\"International Movies\",\"Thrillers\",\"Comedies\",\"Dramas\",\"Independent Movies\",\"Action & Adventure\",\"International TV Shows\",\"TV Dramas\",\"TV Shows\",\"Music & Musicals\",\"Sci-Fi & Fantasy\",\"Children & Family Movies\",\"Stand-Up Comedy\",\"Crime TV Shows\",\"TV Action & Adventure\",\"Romantic Movies\",\"Kids' TV\",\"TV Comedies\",\"Classic Movies\",\"Documentaries\",\"Cult Movies\",\"TV Horror\",\"TV Thrillers\",\"TV Mysteries\",\"Sports Movies\",\"British TV Shows\",\"Docuseries\",\"Romantic TV Shows\",\"LGBTQ Movies\",\"Faith & Spirituality\",\"TV Sci-Fi & Fantasy\",\"Reality TV\",\"Stand-Up Comedy & Talk Shows\",\"Teen TV Shows\",\"Science & Nature TV\",\"Classic & Cult TV\",\"Movies\",\"Spanish-Language TV Shows\",\"Anime Series\",\"Anime Features\",\"Korean TV Shows\"],\"name\":\"South Korea\",\"values\":[3.0,33.0,12.0,5.0,18.0,null,13.0,138.0,28.0,null,1.0,3.0,1.0,2.0,23.0,6.0,1.0,9.0,13.0,null,1.0,null,3.0,null,3.0,null,null,null,72.0,null,null,null,3.0,3.0,null,null,null,null,null,null,null,130.0],\"type\":\"pie\",\"domain\":{\"x\":[0.208,0.376],\"y\":[0.0,0.375]},\"marker\":{\"colors\":[\"aliceblue\",\"brown\",\"crimson\",\"cyan\",\"darkblue\",\"darkmagenta\",\"darkolivegreen\",\"darkorange\",\"darkturquoise\",\"darkviolet\",\"deeppink\",\"forestgreen\",\"fuchsia\",\"gainsboro\",\"goldenrod\",\"gray\",\"maroon\",\"mediumaquamarine\",\"mediumvioletred\",\"midnightblue\",\"orchid\",\"palegoldenrod\",\"palegreen\",\"paleturquoise\",\"plum\",\"powderblue\",\"purple\",\"red\",\"rosybrown\",\"royalblue\",\"saddlebrown\",\"salmon\",\"sandybrown\",\"seagreen\",\"seashell\",\"sienna\",\"silver\",\"slategray\",\"snow\",\"springgreen\",\"tomato\",\"yellow\",\"yellowgreen\"]},\"hoverinfo\":\"label+percent+name\",\"textinfo\":\"none\"},{\"labels\":[\"Horror Movies\",\"International Movies\",\"Thrillers\",\"Comedies\",\"Dramas\",\"Independent Movies\",\"Action & Adventure\",\"International TV Shows\",\"TV Dramas\",\"TV Shows\",\"Music & Musicals\",\"Sci-Fi & Fantasy\",\"Children & Family Movies\",\"Stand-Up Comedy\",\"Crime TV Shows\",\"TV Action & Adventure\",\"Romantic Movies\",\"Kids' TV\",\"TV Comedies\",\"Classic Movies\",\"Documentaries\",\"Cult Movies\",\"TV Horror\",\"TV Thrillers\",\"TV Mysteries\",\"Sports Movies\",\"British TV Shows\",\"Docuseries\",\"Romantic TV Shows\",\"LGBTQ Movies\",\"Faith & Spirituality\",\"TV Sci-Fi & Fantasy\",\"Reality TV\",\"Stand-Up Comedy & Talk Shows\",\"Teen TV Shows\",\"Science & Nature TV\",\"Classic & Cult TV\",\"Movies\",\"Spanish-Language TV Shows\",\"Anime Series\",\"Anime Features\",\"Korean TV Shows\"],\"name\":\"Mexico\",\"values\":[4.0,46.0,1.0,16.0,22.0,12.0,2.0,32.0,5.0,null,3.0,2.0,1.0,17.0,18.0,1.0,6.0,3.0,3.0,1.0,10.0,null,null,null,null,1.0,null,2.0,4.0,1.0,null,null,null,1.0,null,null,2.0,null,29.0,null,null,null],\"type\":\"pie\",\"domain\":{\"x\":[0.416,0.584],\"y\":[0.0,0.375]},\"marker\":{\"colors\":[\"aliceblue\",\"brown\",\"crimson\",\"cyan\",\"darkblue\",\"darkmagenta\",\"darkolivegreen\",\"darkorange\",\"darkturquoise\",\"darkviolet\",\"deeppink\",\"forestgreen\",\"fuchsia\",\"gainsboro\",\"goldenrod\",\"gray\",\"maroon\",\"mediumaquamarine\",\"mediumvioletred\",\"midnightblue\",\"orchid\",\"palegoldenrod\",\"palegreen\",\"paleturquoise\",\"plum\",\"powderblue\",\"purple\",\"red\",\"rosybrown\",\"royalblue\",\"saddlebrown\",\"salmon\",\"sandybrown\",\"seagreen\",\"seashell\",\"sienna\",\"silver\",\"slategray\",\"snow\",\"springgreen\",\"tomato\",\"yellow\",\"yellowgreen\"]},\"hoverinfo\":\"label+percent+name\",\"textinfo\":\"none\"},{\"labels\":[\"Horror Movies\",\"International Movies\",\"Thrillers\",\"Comedies\",\"Dramas\",\"Independent Movies\",\"Action & Adventure\",\"International TV Shows\",\"TV Dramas\",\"TV Shows\",\"Music & Musicals\",\"Sci-Fi & Fantasy\",\"Children & Family Movies\",\"Stand-Up Comedy\",\"Crime TV Shows\",\"TV Action & Adventure\",\"Romantic Movies\",\"Kids' TV\",\"TV Comedies\",\"Classic Movies\",\"Documentaries\",\"Cult Movies\",\"TV Horror\",\"TV Thrillers\",\"TV Mysteries\",\"Sports Movies\",\"British TV Shows\",\"Docuseries\",\"Romantic TV Shows\",\"LGBTQ Movies\",\"Faith & Spirituality\",\"TV Sci-Fi & Fantasy\",\"Reality TV\",\"Stand-Up Comedy & Talk Shows\",\"Teen TV Shows\",\"Science & Nature TV\",\"Classic & Cult TV\",\"Movies\",\"Spanish-Language TV Shows\",\"Anime Series\",\"Anime Features\",\"Korean TV Shows\"],\"name\":\"Australia\",\"values\":[1.0,12.0,4.0,5.0,16.0,4.0,3.0,26.0,15.0,null,3.0,2.0,8.0,3.0,7.0,null,null,7.0,11.0,2.0,5.0,1.0,1.0,1.0,1.0,4.0,1.0,9.0,2.0,2.0,null,null,11.0,null,1.0,5.0,null,3.0,null,null,null,null],\"type\":\"pie\",\"domain\":{\"x\":[0.624,0.792],\"y\":[0.0,0.375]},\"marker\":{\"colors\":[\"aliceblue\",\"brown\",\"crimson\",\"cyan\",\"darkblue\",\"darkmagenta\",\"darkolivegreen\",\"darkorange\",\"darkturquoise\",\"darkviolet\",\"deeppink\",\"forestgreen\",\"fuchsia\",\"gainsboro\",\"goldenrod\",\"gray\",\"maroon\",\"mediumaquamarine\",\"mediumvioletred\",\"midnightblue\",\"orchid\",\"palegoldenrod\",\"palegreen\",\"paleturquoise\",\"plum\",\"powderblue\",\"purple\",\"red\",\"rosybrown\",\"royalblue\",\"saddlebrown\",\"salmon\",\"sandybrown\",\"seagreen\",\"seashell\",\"sienna\",\"silver\",\"slategray\",\"snow\",\"springgreen\",\"tomato\",\"yellow\",\"yellowgreen\"]},\"hoverinfo\":\"label+percent+name\",\"textinfo\":\"none\"},{\"labels\":[\"Horror Movies\",\"International Movies\",\"Thrillers\",\"Comedies\",\"Dramas\",\"Independent Movies\",\"Action & Adventure\",\"International TV Shows\",\"TV Dramas\",\"TV Shows\",\"Music & Musicals\",\"Sci-Fi & Fantasy\",\"Children & Family Movies\",\"Stand-Up Comedy\",\"Crime TV Shows\",\"TV Action & Adventure\",\"Romantic Movies\",\"Kids' TV\",\"TV Comedies\",\"Classic Movies\",\"Documentaries\",\"Cult Movies\",\"TV Horror\",\"TV Thrillers\",\"TV Mysteries\",\"Sports Movies\",\"British TV Shows\",\"Docuseries\",\"Romantic TV Shows\",\"LGBTQ Movies\",\"Faith & Spirituality\",\"TV Sci-Fi & Fantasy\",\"Reality TV\",\"Stand-Up Comedy & Talk Shows\",\"Teen TV Shows\",\"Science & Nature TV\",\"Classic & Cult TV\",\"Movies\",\"Spanish-Language TV Shows\",\"Anime Series\",\"Anime Features\",\"Korean TV Shows\"],\"name\":\"Canada\",\"values\":[7.0,25.0,11.0,38.0,21.0,15.0,12.0,18.0,18.0,null,4.0,5.0,29.0,2.0,9.0,2.0,15.0,20.0,14.0,null,20.0,3.0,3.0,4.0,3.0,6.0,null,8.0,1.0,3.0,1.0,2.0,9.0,null,2.0,3.0,1.0,4.0,null,null,null,1.0],\"type\":\"pie\",\"domain\":{\"x\":[0.832,1.0],\"y\":[0.0,0.375]},\"marker\":{\"colors\":[\"aliceblue\",\"brown\",\"crimson\",\"cyan\",\"darkblue\",\"darkmagenta\",\"darkolivegreen\",\"darkorange\",\"darkturquoise\",\"darkviolet\",\"deeppink\",\"forestgreen\",\"fuchsia\",\"gainsboro\",\"goldenrod\",\"gray\",\"maroon\",\"mediumaquamarine\",\"mediumvioletred\",\"midnightblue\",\"orchid\",\"palegoldenrod\",\"palegreen\",\"paleturquoise\",\"plum\",\"powderblue\",\"purple\",\"red\",\"rosybrown\",\"royalblue\",\"saddlebrown\",\"salmon\",\"sandybrown\",\"seagreen\",\"seashell\",\"sienna\",\"silver\",\"slategray\",\"snow\",\"springgreen\",\"tomato\",\"yellow\",\"yellowgreen\"]},\"hoverinfo\":\"label+percent+name\",\"textinfo\":\"none\"}],                        {\"template\":{\"data\":{\"bar\":[{\"error_x\":{\"color\":\"#2a3f5f\"},\"error_y\":{\"color\":\"#2a3f5f\"},\"marker\":{\"line\":{\"color\":\"#E5ECF6\",\"width\":0.5},\"pattern\":{\"fillmode\":\"overlay\",\"size\":10,\"solidity\":0.2}},\"type\":\"bar\"}],\"barpolar\":[{\"marker\":{\"line\":{\"color\":\"#E5ECF6\",\"width\":0.5},\"pattern\":{\"fillmode\":\"overlay\",\"size\":10,\"solidity\":0.2}},\"type\":\"barpolar\"}],\"carpet\":[{\"aaxis\":{\"endlinecolor\":\"#2a3f5f\",\"gridcolor\":\"white\",\"linecolor\":\"white\",\"minorgridcolor\":\"white\",\"startlinecolor\":\"#2a3f5f\"},\"baxis\":{\"endlinecolor\":\"#2a3f5f\",\"gridcolor\":\"white\",\"linecolor\":\"white\",\"minorgridcolor\":\"white\",\"startlinecolor\":\"#2a3f5f\"},\"type\":\"carpet\"}],\"choropleth\":[{\"colorbar\":{\"outlinewidth\":0,\"ticks\":\"\"},\"type\":\"choropleth\"}],\"contour\":[{\"colorbar\":{\"outlinewidth\":0,\"ticks\":\"\"},\"colorscale\":[[0.0,\"#0d0887\"],[0.1111111111111111,\"#46039f\"],[0.2222222222222222,\"#7201a8\"],[0.3333333333333333,\"#9c179e\"],[0.4444444444444444,\"#bd3786\"],[0.5555555555555556,\"#d8576b\"],[0.6666666666666666,\"#ed7953\"],[0.7777777777777778,\"#fb9f3a\"],[0.8888888888888888,\"#fdca26\"],[1.0,\"#f0f921\"]],\"type\":\"contour\"}],\"contourcarpet\":[{\"colorbar\":{\"outlinewidth\":0,\"ticks\":\"\"},\"type\":\"contourcarpet\"}],\"heatmap\":[{\"colorbar\":{\"outlinewidth\":0,\"ticks\":\"\"},\"colorscale\":[[0.0,\"#0d0887\"],[0.1111111111111111,\"#46039f\"],[0.2222222222222222,\"#7201a8\"],[0.3333333333333333,\"#9c179e\"],[0.4444444444444444,\"#bd3786\"],[0.5555555555555556,\"#d8576b\"],[0.6666666666666666,\"#ed7953\"],[0.7777777777777778,\"#fb9f3a\"],[0.8888888888888888,\"#fdca26\"],[1.0,\"#f0f921\"]],\"type\":\"heatmap\"}],\"heatmapgl\":[{\"colorbar\":{\"outlinewidth\":0,\"ticks\":\"\"},\"colorscale\":[[0.0,\"#0d0887\"],[0.1111111111111111,\"#46039f\"],[0.2222222222222222,\"#7201a8\"],[0.3333333333333333,\"#9c179e\"],[0.4444444444444444,\"#bd3786\"],[0.5555555555555556,\"#d8576b\"],[0.6666666666666666,\"#ed7953\"],[0.7777777777777778,\"#fb9f3a\"],[0.8888888888888888,\"#fdca26\"],[1.0,\"#f0f921\"]],\"type\":\"heatmapgl\"}],\"histogram\":[{\"marker\":{\"pattern\":{\"fillmode\":\"overlay\",\"size\":10,\"solidity\":0.2}},\"type\":\"histogram\"}],\"histogram2d\":[{\"colorbar\":{\"outlinewidth\":0,\"ticks\":\"\"},\"colorscale\":[[0.0,\"#0d0887\"],[0.1111111111111111,\"#46039f\"],[0.2222222222222222,\"#7201a8\"],[0.3333333333333333,\"#9c179e\"],[0.4444444444444444,\"#bd3786\"],[0.5555555555555556,\"#d8576b\"],[0.6666666666666666,\"#ed7953\"],[0.7777777777777778,\"#fb9f3a\"],[0.8888888888888888,\"#fdca26\"],[1.0,\"#f0f921\"]],\"type\":\"histogram2d\"}],\"histogram2dcontour\":[{\"colorbar\":{\"outlinewidth\":0,\"ticks\":\"\"},\"colorscale\":[[0.0,\"#0d0887\"],[0.1111111111111111,\"#46039f\"],[0.2222222222222222,\"#7201a8\"],[0.3333333333333333,\"#9c179e\"],[0.4444444444444444,\"#bd3786\"],[0.5555555555555556,\"#d8576b\"],[0.6666666666666666,\"#ed7953\"],[0.7777777777777778,\"#fb9f3a\"],[0.8888888888888888,\"#fdca26\"],[1.0,\"#f0f921\"]],\"type\":\"histogram2dcontour\"}],\"mesh3d\":[{\"colorbar\":{\"outlinewidth\":0,\"ticks\":\"\"},\"type\":\"mesh3d\"}],\"parcoords\":[{\"line\":{\"colorbar\":{\"outlinewidth\":0,\"ticks\":\"\"}},\"type\":\"parcoords\"}],\"pie\":[{\"automargin\":true,\"type\":\"pie\"}],\"scatter\":[{\"marker\":{\"colorbar\":{\"outlinewidth\":0,\"ticks\":\"\"}},\"type\":\"scatter\"}],\"scatter3d\":[{\"line\":{\"colorbar\":{\"outlinewidth\":0,\"ticks\":\"\"}},\"marker\":{\"colorbar\":{\"outlinewidth\":0,\"ticks\":\"\"}},\"type\":\"scatter3d\"}],\"scattercarpet\":[{\"marker\":{\"colorbar\":{\"outlinewidth\":0,\"ticks\":\"\"}},\"type\":\"scattercarpet\"}],\"scattergeo\":[{\"marker\":{\"colorbar\":{\"outlinewidth\":0,\"ticks\":\"\"}},\"type\":\"scattergeo\"}],\"scattergl\":[{\"marker\":{\"colorbar\":{\"outlinewidth\":0,\"ticks\":\"\"}},\"type\":\"scattergl\"}],\"scattermapbox\":[{\"marker\":{\"colorbar\":{\"outlinewidth\":0,\"ticks\":\"\"}},\"type\":\"scattermapbox\"}],\"scatterpolar\":[{\"marker\":{\"colorbar\":{\"outlinewidth\":0,\"ticks\":\"\"}},\"type\":\"scatterpolar\"}],\"scatterpolargl\":[{\"marker\":{\"colorbar\":{\"outlinewidth\":0,\"ticks\":\"\"}},\"type\":\"scatterpolargl\"}],\"scatterternary\":[{\"marker\":{\"colorbar\":{\"outlinewidth\":0,\"ticks\":\"\"}},\"type\":\"scatterternary\"}],\"surface\":[{\"colorbar\":{\"outlinewidth\":0,\"ticks\":\"\"},\"colorscale\":[[0.0,\"#0d0887\"],[0.1111111111111111,\"#46039f\"],[0.2222222222222222,\"#7201a8\"],[0.3333333333333333,\"#9c179e\"],[0.4444444444444444,\"#bd3786\"],[0.5555555555555556,\"#d8576b\"],[0.6666666666666666,\"#ed7953\"],[0.7777777777777778,\"#fb9f3a\"],[0.8888888888888888,\"#fdca26\"],[1.0,\"#f0f921\"]],\"type\":\"surface\"}],\"table\":[{\"cells\":{\"fill\":{\"color\":\"#EBF0F8\"},\"line\":{\"color\":\"white\"}},\"header\":{\"fill\":{\"color\":\"#C8D4E3\"},\"line\":{\"color\":\"white\"}},\"type\":\"table\"}]},\"layout\":{\"annotationdefaults\":{\"arrowcolor\":\"#2a3f5f\",\"arrowhead\":0,\"arrowwidth\":1},\"autotypenumbers\":\"strict\",\"coloraxis\":{\"colorbar\":{\"outlinewidth\":0,\"ticks\":\"\"}},\"colorscale\":{\"diverging\":[[0,\"#8e0152\"],[0.1,\"#c51b7d\"],[0.2,\"#de77ae\"],[0.3,\"#f1b6da\"],[0.4,\"#fde0ef\"],[0.5,\"#f7f7f7\"],[0.6,\"#e6f5d0\"],[0.7,\"#b8e186\"],[0.8,\"#7fbc41\"],[0.9,\"#4d9221\"],[1,\"#276419\"]],\"sequential\":[[0.0,\"#0d0887\"],[0.1111111111111111,\"#46039f\"],[0.2222222222222222,\"#7201a8\"],[0.3333333333333333,\"#9c179e\"],[0.4444444444444444,\"#bd3786\"],[0.5555555555555556,\"#d8576b\"],[0.6666666666666666,\"#ed7953\"],[0.7777777777777778,\"#fb9f3a\"],[0.8888888888888888,\"#fdca26\"],[1.0,\"#f0f921\"]],\"sequentialminus\":[[0.0,\"#0d0887\"],[0.1111111111111111,\"#46039f\"],[0.2222222222222222,\"#7201a8\"],[0.3333333333333333,\"#9c179e\"],[0.4444444444444444,\"#bd3786\"],[0.5555555555555556,\"#d8576b\"],[0.6666666666666666,\"#ed7953\"],[0.7777777777777778,\"#fb9f3a\"],[0.8888888888888888,\"#fdca26\"],[1.0,\"#f0f921\"]]},\"colorway\":[\"#636efa\",\"#EF553B\",\"#00cc96\",\"#ab63fa\",\"#FFA15A\",\"#19d3f3\",\"#FF6692\",\"#B6E880\",\"#FF97FF\",\"#FECB52\"],\"font\":{\"color\":\"#2a3f5f\"},\"geo\":{\"bgcolor\":\"white\",\"lakecolor\":\"white\",\"landcolor\":\"#E5ECF6\",\"showlakes\":true,\"showland\":true,\"subunitcolor\":\"white\"},\"hoverlabel\":{\"align\":\"left\"},\"hovermode\":\"closest\",\"mapbox\":{\"style\":\"light\"},\"paper_bgcolor\":\"white\",\"plot_bgcolor\":\"#E5ECF6\",\"polar\":{\"angularaxis\":{\"gridcolor\":\"white\",\"linecolor\":\"white\",\"ticks\":\"\"},\"bgcolor\":\"#E5ECF6\",\"radialaxis\":{\"gridcolor\":\"white\",\"linecolor\":\"white\",\"ticks\":\"\"}},\"scene\":{\"xaxis\":{\"backgroundcolor\":\"#E5ECF6\",\"gridcolor\":\"white\",\"gridwidth\":2,\"linecolor\":\"white\",\"showbackground\":true,\"ticks\":\"\",\"zerolinecolor\":\"white\"},\"yaxis\":{\"backgroundcolor\":\"#E5ECF6\",\"gridcolor\":\"white\",\"gridwidth\":2,\"linecolor\":\"white\",\"showbackground\":true,\"ticks\":\"\",\"zerolinecolor\":\"white\"},\"zaxis\":{\"backgroundcolor\":\"#E5ECF6\",\"gridcolor\":\"white\",\"gridwidth\":2,\"linecolor\":\"white\",\"showbackground\":true,\"ticks\":\"\",\"zerolinecolor\":\"white\"}},\"shapedefaults\":{\"line\":{\"color\":\"#2a3f5f\"}},\"ternary\":{\"aaxis\":{\"gridcolor\":\"white\",\"linecolor\":\"white\",\"ticks\":\"\"},\"baxis\":{\"gridcolor\":\"white\",\"linecolor\":\"white\",\"ticks\":\"\"},\"bgcolor\":\"#E5ECF6\",\"caxis\":{\"gridcolor\":\"white\",\"linecolor\":\"white\",\"ticks\":\"\"}},\"title\":{\"x\":0.05},\"xaxis\":{\"automargin\":true,\"gridcolor\":\"white\",\"linecolor\":\"white\",\"ticks\":\"\",\"title\":{\"standoff\":15},\"zerolinecolor\":\"white\",\"zerolinewidth\":2},\"yaxis\":{\"automargin\":true,\"gridcolor\":\"white\",\"linecolor\":\"white\",\"ticks\":\"\",\"title\":{\"standoff\":15},\"zerolinecolor\":\"white\",\"zerolinewidth\":2}}},\"annotations\":[{\"font\":{\"size\":16},\"showarrow\":false,\"text\":\"India\",\"x\":0.08399999999999999,\"xanchor\":\"center\",\"xref\":\"paper\",\"y\":1.0,\"yanchor\":\"bottom\",\"yref\":\"paper\"},{\"font\":{\"size\":16},\"showarrow\":false,\"text\":\"United Kingdom\",\"x\":0.292,\"xanchor\":\"center\",\"xref\":\"paper\",\"y\":1.0,\"yanchor\":\"bottom\",\"yref\":\"paper\"},{\"font\":{\"size\":16},\"showarrow\":false,\"text\":\"Spain\",\"x\":0.5,\"xanchor\":\"center\",\"xref\":\"paper\",\"y\":1.0,\"yanchor\":\"bottom\",\"yref\":\"paper\"},{\"font\":{\"size\":16},\"showarrow\":false,\"text\":\"Japan\",\"x\":0.708,\"xanchor\":\"center\",\"xref\":\"paper\",\"y\":1.0,\"yanchor\":\"bottom\",\"yref\":\"paper\"},{\"font\":{\"size\":16},\"showarrow\":false,\"text\":\"France\",\"x\":0.9159999999999999,\"xanchor\":\"center\",\"xref\":\"paper\",\"y\":1.0,\"yanchor\":\"bottom\",\"yref\":\"paper\"},{\"font\":{\"size\":16},\"showarrow\":false,\"text\":\"United States\",\"x\":0.08399999999999999,\"xanchor\":\"center\",\"xref\":\"paper\",\"y\":0.375,\"yanchor\":\"bottom\",\"yref\":\"paper\"},{\"font\":{\"size\":16},\"showarrow\":false,\"text\":\"South Korea\",\"x\":0.292,\"xanchor\":\"center\",\"xref\":\"paper\",\"y\":0.375,\"yanchor\":\"bottom\",\"yref\":\"paper\"},{\"font\":{\"size\":16},\"showarrow\":false,\"text\":\"Mexico\",\"x\":0.5,\"xanchor\":\"center\",\"xref\":\"paper\",\"y\":0.375,\"yanchor\":\"bottom\",\"yref\":\"paper\"},{\"font\":{\"size\":16},\"showarrow\":false,\"text\":\"Australia\",\"x\":0.708,\"xanchor\":\"center\",\"xref\":\"paper\",\"y\":0.375,\"yanchor\":\"bottom\",\"yref\":\"paper\"},{\"font\":{\"size\":16},\"showarrow\":false,\"text\":\"Canada\",\"x\":0.9159999999999999,\"xanchor\":\"center\",\"xref\":\"paper\",\"y\":0.375,\"yanchor\":\"bottom\",\"yref\":\"paper\"}],\"title\":{\"font\":{\"size\":25},\"text\":\"Top ten countries and the content they provide.\",\"y\":0.97,\"x\":0.5,\"xanchor\":\"center\",\"yanchor\":\"top\"},\"legend\":{\"x\":0.099,\"orientation\":\"h\"},\"height\":650,\"width\":1550,\"paper_bgcolor\":\"white\"},                        {\"responsive\": true}                    ).then(function(){\n",
              "                            \n",
              "var gd = document.getElementById('966e6c49-42b3-49b4-8230-892fdcbf6367');\n",
              "var x = new MutationObserver(function (mutations, observer) {{\n",
              "        var display = window.getComputedStyle(gd).display;\n",
              "        if (!display || display === 'none') {{\n",
              "            console.log([gd, 'removed!']);\n",
              "            Plotly.purge(gd);\n",
              "            observer.disconnect();\n",
              "        }}\n",
              "}});\n",
              "\n",
              "// Listen for the removal of the full notebook cells\n",
              "var notebookContainer = gd.closest('#notebook-container');\n",
              "if (notebookContainer) {{\n",
              "    x.observe(notebookContainer, {childList: true});\n",
              "}}\n",
              "\n",
              "// Listen for the clearing of the current output cell\n",
              "var outputEl = gd.closest('.output');\n",
              "if (outputEl) {{\n",
              "    x.observe(outputEl, {childList: true});\n",
              "}}\n",
              "\n",
              "                        })                };                            </script>        </div>\n",
              "</body>\n",
              "</html>"
            ]
          },
          "metadata": {}
        }
      ]
    },
    {
      "cell_type": "markdown",
      "source": [
        "1. Regional delicacies are more prevalent in some nations, such as anime in Japan and Korean TV shows in South Korea. This makes sense because anime has long been popular in Japan, and the expansion of k-pop culture explains the rise in Korean TV Shows.\n",
        "2. In the UK, British and foreign television programming predominates.\n",
        "3. Drama, International Movies, and Comedies seem popular choices in most countries.\n",
        "4. It's also observed that in the countries where the regional language is not English, International Tv Shows and Movies are more in demand."
      ],
      "metadata": {
        "id": "Dg5xrYcpggh0"
      }
    },
    {
      "cell_type": "markdown",
      "source": [
        "###**10. Total number of unique titles present in the title column.**"
      ],
      "metadata": {
        "id": "oTQuix81gi_-"
      }
    },
    {
      "cell_type": "code",
      "source": [
        "print(f\"Total number Unique Title:{netflix_cp['title'].nunique()}\")"
      ],
      "metadata": {
        "colab": {
          "base_uri": "https://localhost:8080/"
        },
        "id": "UBDYv9lAgflu",
        "outputId": "0120dc9b-ab62-4883-c116-343d1cd43782"
      },
      "execution_count": 37,
      "outputs": [
        {
          "output_type": "stream",
          "name": "stdout",
          "text": [
            "Total number Unique Title:7770\n"
          ]
        }
      ]
    },
    {
      "cell_type": "code",
      "source": [
        "#subsetting df\n",
        "netflix_wordcloud = netflix_cp['title']\n",
        "text = \" \".join(word for word in netflix_wordcloud)\n",
        "# Create stopword list:\n",
        "stopwords = set(STOPWORDS)\n",
        "# Generate a word cloud image\n",
        "wordcloud = WordCloud(stopwords=stopwords, background_color=\"white\").generate(text)\n",
        "# Display the generated image:\n",
        "# the matplotlib way:\n",
        "plt.imshow(wordcloud, interpolation='bilinear')\n",
        "plt.axis(\"off\")\n",
        "plt.show()"
      ],
      "metadata": {
        "colab": {
          "base_uri": "https://localhost:8080/",
          "height": 198
        },
        "id": "LqvIQ6Z4gmij",
        "outputId": "98b41b53-473d-48ac-a32f-a9e1143151d5"
      },
      "execution_count": 38,
      "outputs": [
        {
          "output_type": "display_data",
          "data": {
            "text/plain": [
              "<Figure size 432x288 with 1 Axes>"
            ],
            "image/png": "[encoded data removed]"
          },
          "metadata": {}
        }
      ]
    },
    {
      "cell_type": "markdown",
      "source": [
        "Most occurring words in the Title\n",
        " column of the tv shows and movies are `Christmas`, `Girl`, `Love`, `World`, `Last`, `Man`,`One`.\n"
      ],
      "metadata": {
        "id": "AeSUKG_sgpyb"
      }
    },
    {
      "cell_type": "markdown",
      "source": [
        "###**11. Total number of unique Description present in the title column.**"
      ],
      "metadata": {
        "id": "mKUvOp4FgsiT"
      }
    },
    {
      "cell_type": "code",
      "source": [
        "print(f\"Total number Unique Description:{netflix_cp['description'].nunique()}\")\n",
        "\n",
        "#subsetting df\n",
        "netflix_wordcloud = netflix_cp['description']\n",
        "text = \" \".join(word for word in netflix_wordcloud)\n",
        "# Create stopword list:\n",
        "stopwords = set(STOPWORDS)\n",
        "# Generate a word cloud image\n",
        "wordcloud = WordCloud(stopwords=stopwords, background_color=\"white\").generate(text)\n",
        "# Display the generated image:\n",
        "# the matplotlib way:\n",
        "plt.imshow(wordcloud, interpolation='bilinear')\n",
        "plt.axis(\"off\")\n",
        "plt.show()"
      ],
      "metadata": {
        "colab": {
          "base_uri": "https://localhost:8080/",
          "height": 215
        },
        "id": "ckbAqHz5guhb",
        "outputId": "f6dfbcf1-e2aa-45bc-9238-8e91f88e0efa"
      },
      "execution_count": 39,
      "outputs": [
        {
          "output_type": "stream",
          "name": "stdout",
          "text": [
            "Total number Unique Description:7752\n"
          ]
        },
        {
          "output_type": "display_data",
          "data": {
            "text/plain": [
              "<Figure size 432x288 with 1 Axes>"
            ],
            "image/png": "[encoded data removed]"
          },
          "metadata": {}
        }
      ]
    },
    {
      "cell_type": "markdown",
      "source": [
        "Most occurring words in the description column of the tv shows and movies are `Family`, `Friend`, `Love`, `Life`, `Woman`, `Man`,and many other words. "
      ],
      "metadata": {
        "id": "K-amseC0gyJ1"
      }
    },
    {
      "cell_type": "markdown",
      "source": [
        "###**12. Most popular TV-Shows Rating.**"
      ],
      "metadata": {
        "id": "OoW3SjTpg0tD"
      }
    },
    {
      "cell_type": "code",
      "source": [
        "df_tv_show = netflix_cp[netflix_cp['type']== 'TV Show' ]\n",
        "df_tv_show.head(2) \n",
        "\n",
        "#Pointplot on top tv show ratings \n",
        "tv_ratings = df_tv_show.groupby(['rating'])['show_id'].count().reset_index(name = 'count').sort_values(by = 'count', ascending = False)\n",
        "fig_dims = (7,4)\n",
        "fig, ax = plt.subplots(figsize=fig_dims)  \n",
        "sns.pointplot(x='rating',y='count',color = \"red\",data=tv_ratings)\n",
        "plt.title('Top TV Show Ratings Based On Rating System',size='15')\n",
        "plt.show()"
      ],
      "metadata": {
        "colab": {
          "base_uri": "https://localhost:8080/",
          "height": 303
        },
        "id": "zNvwb-FSg2X-",
        "outputId": "353f7d67-a8f0-41c8-e715-2d5e48358530"
      },
      "execution_count": 40,
      "outputs": [
        {
          "output_type": "display_data",
          "data": {
            "text/plain": [
              "<Figure size 504x288 with 1 Axes>"
            ],
            "image/png": "[encoded data removed]"
          },
          "metadata": {}
        }
      ]
    },
    {
      "cell_type": "code",
      "source": [
        "df_movie = netflix_cp[netflix_cp['type']== 'Movie' ]\n",
        "df_movie.head(2) \n",
        "#Pointplot on top tv show ratings \n",
        "tv_ratings = df_movie.groupby(['rating'])['show_id'].count().reset_index(name = 'count').sort_values(by = 'count', ascending = False)\n",
        "fig_dims = (7,4)\n",
        "fig, ax = plt.subplots(figsize=fig_dims)  \n",
        "sns.pointplot(x='rating',y='count',color = \"red\",data=tv_ratings)\n",
        "plt.title('Top Movie Ratings Based On Rating System',size='15')\n",
        "plt.show()\n"
      ],
      "metadata": {
        "colab": {
          "base_uri": "https://localhost:8080/",
          "height": 303
        },
        "id": "DcXDy9mDg4vb",
        "outputId": "edb73918-c197-4f43-8614-ee6f6d7d2e86"
      },
      "execution_count": 41,
      "outputs": [
        {
          "output_type": "display_data",
          "data": {
            "text/plain": [
              "<Figure size 504x288 with 1 Axes>"
            ],
            "image/png": "[encoded data removed]"
          },
          "metadata": {}
        }
      ]
    },
    {
      "cell_type": "markdown",
      "source": [
        "Most of the contents got ratings like\n",
        "\n",
        "\n",
        "*   TV-MA (For Mature Audiences)\n",
        "*   TV-14 (May be unsuitable for children under 14)\n",
        "*   TV-PG (Parental Guidance Suggested)\n",
        "*   NR (Not Rated)"
      ],
      "metadata": {
        "id": "YfEy4ZaJg7U4"
      }
    },
    {
      "cell_type": "markdown",
      "source": [
        "#**Year Vs Type**\n",
        "\n",
        "\n",
        "###Netflix has increasingly focused on TV rather than movies in recent years.\n",
        "\n",
        "#####**We use Hypothesis Testing to check if there is any relation between year and type.**\n",
        "\n",
        "\n",
        "*  **Null Hypothesis :** year has no impact on the type of content that gets added to the platform.\n",
        "*   **Alternative Hypothesis :** year_added has an impact on the type of content that gets added to the platform.\n"
      ],
      "metadata": {
        "id": "ra3kSUugg91G"
      }
    },
    {
      "cell_type": "code",
      "source": [
        "hypothesis_data = pd.crosstab(netflix_cp['type'],netflix_cp['years'],margins = False)\n",
        "hypothesis_data"
      ],
      "metadata": {
        "colab": {
          "base_uri": "https://localhost:8080/",
          "height": 143
        },
        "id": "hpI8Ds62g_rz",
        "outputId": "52a20ccf-6d3e-4993-bffa-ea44c787cd38"
      },
      "execution_count": 42,
      "outputs": [
        {
          "output_type": "execute_result",
          "data": {
            "text/plain": [
              "years    2008  2009  2010  2011  2012  2013  2014  2015  2016  2017  2018  \\\n",
              "type                                                                        \n",
              "Movie       1     2     1    13     3     6    19    58   256   861  1255   \n",
              "TV Show     1     0     0     0     0     5     6    30   184   361   429   \n",
              "\n",
              "years    2019  2020  2021  \n",
              "type                       \n",
              "Movie    1497  1312    88  \n",
              "TV Show   656   697    29  "
            ],
            "text/html": [
              "\n",
              "  <div id=\"df-6c2d3423-39bd-4de0-b5fc-8289bfe38ecb\">\n",
              "    <div class=\"colab-df-container\">\n",
              "      <div>\n",
              "<style scoped>\n",
              "    .dataframe tbody tr th:only-of-type {\n",
              "        vertical-align: middle;\n",
              "    }\n",
              "\n",
              "    .dataframe tbody tr th {\n",
              "        vertical-align: top;\n",
              "    }\n",
              "\n",
              "    .dataframe thead th {\n",
              "        text-align: right;\n",
              "    }\n",
              "</style>\n",
              "<table border=\"1\" class=\"dataframe\">\n",
              "  <thead>\n",
              "    <tr style=\"text-align: right;\">\n",
              "      <th>years</th>\n",
              "      <th>2008</th>\n",
              "      <th>2009</th>\n",
              "      <th>2010</th>\n",
              "      <th>2011</th>\n",
              "      <th>2012</th>\n",
              "      <th>2013</th>\n",
              "      <th>2014</th>\n",
              "      <th>2015</th>\n",
              "      <th>2016</th>\n",
              "      <th>2017</th>\n",
              "      <th>2018</th>\n",
              "      <th>2019</th>\n",
              "      <th>2020</th>\n",
              "      <th>2021</th>\n",
              "    </tr>\n",
              "    <tr>\n",
              "      <th>type</th>\n",
              "      <th></th>\n",
              "      <th></th>\n",
              "      <th></th>\n",
              "      <th></th>\n",
              "      <th></th>\n",
              "      <th></th>\n",
              "      <th></th>\n",
              "      <th></th>\n",
              "      <th></th>\n",
              "      <th></th>\n",
              "      <th></th>\n",
              "      <th></th>\n",
              "      <th></th>\n",
              "      <th></th>\n",
              "    </tr>\n",
              "  </thead>\n",
              "  <tbody>\n",
              "    <tr>\n",
              "      <th>Movie</th>\n",
              "      <td>1</td>\n",
              "      <td>2</td>\n",
              "      <td>1</td>\n",
              "      <td>13</td>\n",
              "      <td>3</td>\n",
              "      <td>6</td>\n",
              "      <td>19</td>\n",
              "      <td>58</td>\n",
              "      <td>256</td>\n",
              "      <td>861</td>\n",
              "      <td>1255</td>\n",
              "      <td>1497</td>\n",
              "      <td>1312</td>\n",
              "      <td>88</td>\n",
              "    </tr>\n",
              "    <tr>\n",
              "      <th>TV Show</th>\n",
              "      <td>1</td>\n",
              "      <td>0</td>\n",
              "      <td>0</td>\n",
              "      <td>0</td>\n",
              "      <td>0</td>\n",
              "      <td>5</td>\n",
              "      <td>6</td>\n",
              "      <td>30</td>\n",
              "      <td>184</td>\n",
              "      <td>361</td>\n",
              "      <td>429</td>\n",
              "      <td>656</td>\n",
              "      <td>697</td>\n",
              "      <td>29</td>\n",
              "    </tr>\n",
              "  </tbody>\n",
              "</table>\n",
              "</div>\n",
              "      <button class=\"colab-df-convert\" onclick=\"convertToInteractive('df-6c2d3423-39bd-4de0-b5fc-8289bfe38ecb')\"\n",
              "              title=\"Convert this dataframe to an interactive table.\"\n",
              "              style=\"display:none;\">\n",
              "        \n",
              "  <svg xmlns=\"http://www.w3.org/2000/svg\" height=\"24px\"viewBox=\"0 0 24 24\"\n",
              "       width=\"24px\">\n",
              "    <path d=\"M0 0h24v24H0V0z\" fill=\"none\"/>\n",
              "    <path d=\"M18.56 5.44l.94 2.06.94-2.06 2.06-.94-2.06-.94-.94-2.06-.94 2.06-2.06.94zm-11 1L8.5 8.5l.94-2.06 2.06-.94-2.06-.94L8.5 2.5l-.94 2.06-2.06.94zm10 10l.94 2.06.94-2.06 2.06-.94-2.06-.94-.94-2.06-.94 2.06-2.06.94z\"/><path d=\"M17.41 7.96l-1.37-1.37c-.4-.4-.92-.59-1.43-.59-.52 0-1.04.2-1.43.59L10.3 9.45l-7.72 7.72c-.78.78-.78 2.05 0 2.83L4 21.41c.39.39.9.59 1.41.59.51 0 1.02-.2 1.41-.59l7.78-7.78 2.81-2.81c.8-.78.8-2.07 0-2.86zM5.41 20L4 18.59l7.72-7.72 1.47 1.35L5.41 20z\"/>\n",
              "  </svg>\n",
              "      </button>\n",
              "      \n",
              "  <style>\n",
              "    .colab-df-container {\n",
              "      display:flex;\n",
              "      flex-wrap:wrap;\n",
              "      gap: 12px;\n",
              "    }\n",
              "\n",
              "    .colab-df-convert {\n",
              "      background-color: #E8F0FE;\n",
              "      border: none;\n",
              "      border-radius: 50%;\n",
              "      cursor: pointer;\n",
              "      display: none;\n",
              "      fill: #1967D2;\n",
              "      height: 32px;\n",
              "      padding: 0 0 0 0;\n",
              "      width: 32px;\n",
              "    }\n",
              "\n",
              "    .colab-df-convert:hover {\n",
              "      background-color: #E2EBFA;\n",
              "      box-shadow: 0px 1px 2px rgba(60, 64, 67, 0.3), 0px 1px 3px 1px rgba(60, 64, 67, 0.15);\n",
              "      fill: #174EA6;\n",
              "    }\n",
              "\n",
              "    [theme=dark] .colab-df-convert {\n",
              "      background-color: #3B4455;\n",
              "      fill: #D2E3FC;\n",
              "    }\n",
              "\n",
              "    [theme=dark] .colab-df-convert:hover {\n",
              "      background-color: #434B5C;\n",
              "      box-shadow: 0px 1px 3px 1px rgba(0, 0, 0, 0.15);\n",
              "      filter: drop-shadow(0px 1px 2px rgba(0, 0, 0, 0.3));\n",
              "      fill: #FFFFFF;\n",
              "    }\n",
              "  </style>\n",
              "\n",
              "      <script>\n",
              "        const buttonEl =\n",
              "          document.querySelector('#df-6c2d3423-39bd-4de0-b5fc-8289bfe38ecb button.colab-df-convert');\n",
              "        buttonEl.style.display =\n",
              "          google.colab.kernel.accessAllowed ? 'block' : 'none';\n",
              "\n",
              "        async function convertToInteractive(key) {\n",
              "          const element = document.querySelector('#df-6c2d3423-39bd-4de0-b5fc-8289bfe38ecb');\n",
              "          const dataTable =\n",
              "            await google.colab.kernel.invokeFunction('convertToInteractive',\n",
              "                                                     [key], {});\n",
              "          if (!dataTable) return;\n",
              "\n",
              "          const docLinkHtml = 'Like what you see? Visit the ' +\n",
              "            '<a target=\"_blank\" href=https://colab.research.google.com/notebooks/data_table.ipynb>data table notebook</a>'\n",
              "            + ' to learn more about interactive tables.';\n",
              "          element.innerHTML = '';\n",
              "          dataTable['output_type'] = 'display_data';\n",
              "          await google.colab.output.renderOutput(dataTable, element);\n",
              "          const docLink = document.createElement('div');\n",
              "          docLink.innerHTML = docLinkHtml;\n",
              "          element.appendChild(docLink);\n",
              "        }\n",
              "      </script>\n",
              "    </div>\n",
              "  </div>\n",
              "  "
            ]
          },
          "metadata": {},
          "execution_count": 42
        }
      ]
    },
    {
      "cell_type": "markdown",
      "source": [
        "The number of movies on Netflix is growing significantly faster than the number of TV shows. Because of covid-19, there is a significant drop in the number of movies and television episodes produced after 2019"
      ],
      "metadata": {
        "id": "KpSR_dMihCgM"
      }
    },
    {
      "cell_type": "markdown",
      "source": [
        "##**Create Cluster for our data.**"
      ],
      "metadata": {
        "id": "25nDvb8JhFkl"
      }
    },
    {
      "cell_type": "code",
      "source": [
        "#create cluster of text\n",
        "cluster = netflix_cp[['title']]\n",
        "cluster['cluster_value'] = (netflix_cp['description'] +'| '+ netflix_cp['listed_in'] +'| '+ netflix_cp['director'] +' |'+ netflix_cp['cast'] +' |'+ netflix_cp['country'] +'| '+ netflix_cp['rating']).astype(str)\n",
        "cluster.set_index('title',inplace= True);\n",
        "cluster.head()"
      ],
      "metadata": {
        "colab": {
          "base_uri": "https://localhost:8080/",
          "height": 376
        },
        "id": "UeFfnGRthHwz",
        "outputId": "70a1b912-0f28-452a-fd3b-6ca5db74a466"
      },
      "execution_count": 43,
      "outputs": [
        {
          "output_type": "stream",
          "name": "stderr",
          "text": [
            "/usr/local/lib/python3.7/dist-packages/ipykernel_launcher.py:3: SettingWithCopyWarning:\n",
            "\n",
            "\n",
            "A value is trying to be set on a copy of a slice from a DataFrame.\n",
            "Try using .loc[row_indexer,col_indexer] = value instead\n",
            "\n",
            "See the caveats in the documentation: https://pandas.pydata.org/pandas-docs/stable/user_guide/indexing.html#returning-a-view-versus-a-copy\n",
            "\n"
          ]
        },
        {
          "output_type": "execute_result",
          "data": {
            "text/plain": [
              "                                           cluster_value\n",
              "title                                                   \n",
              "3%     In a future where the elite inhabit an island ...\n",
              "7:19   After a devastating earthquake hits Mexico Cit...\n",
              "23:59  When an army recruit is found dead, his fellow...\n",
              "9      In a postapocalyptic world, rag-doll robots hi...\n",
              "21     A brilliant group of students become card-coun..."
            ],
            "text/html": [
              "\n",
              "  <div id=\"df-b99e58cf-d03f-49ac-a9d2-0d47f5b9696a\">\n",
              "    <div class=\"colab-df-container\">\n",
              "      <div>\n",
              "<style scoped>\n",
              "    .dataframe tbody tr th:only-of-type {\n",
              "        vertical-align: middle;\n",
              "    }\n",
              "\n",
              "    .dataframe tbody tr th {\n",
              "        vertical-align: top;\n",
              "    }\n",
              "\n",
              "    .dataframe thead th {\n",
              "        text-align: right;\n",
              "    }\n",
              "</style>\n",
              "<table border=\"1\" class=\"dataframe\">\n",
              "  <thead>\n",
              "    <tr style=\"text-align: right;\">\n",
              "      <th></th>\n",
              "      <th>cluster_value</th>\n",
              "    </tr>\n",
              "    <tr>\n",
              "      <th>title</th>\n",
              "      <th></th>\n",
              "    </tr>\n",
              "  </thead>\n",
              "  <tbody>\n",
              "    <tr>\n",
              "      <th>3%</th>\n",
              "      <td>In a future where the elite inhabit an island ...</td>\n",
              "    </tr>\n",
              "    <tr>\n",
              "      <th>7:19</th>\n",
              "      <td>After a devastating earthquake hits Mexico Cit...</td>\n",
              "    </tr>\n",
              "    <tr>\n",
              "      <th>23:59</th>\n",
              "      <td>When an army recruit is found dead, his fellow...</td>\n",
              "    </tr>\n",
              "    <tr>\n",
              "      <th>9</th>\n",
              "      <td>In a postapocalyptic world, rag-doll robots hi...</td>\n",
              "    </tr>\n",
              "    <tr>\n",
              "      <th>21</th>\n",
              "      <td>A brilliant group of students become card-coun...</td>\n",
              "    </tr>\n",
              "  </tbody>\n",
              "</table>\n",
              "</div>\n",
              "      <button class=\"colab-df-convert\" onclick=\"convertToInteractive('df-b99e58cf-d03f-49ac-a9d2-0d47f5b9696a')\"\n",
              "              title=\"Convert this dataframe to an interactive table.\"\n",
              "              style=\"display:none;\">\n",
              "        \n",
              "  <svg xmlns=\"http://www.w3.org/2000/svg\" height=\"24px\"viewBox=\"0 0 24 24\"\n",
              "       width=\"24px\">\n",
              "    <path d=\"M0 0h24v24H0V0z\" fill=\"none\"/>\n",
              "    <path d=\"M18.56 5.44l.94 2.06.94-2.06 2.06-.94-2.06-.94-.94-2.06-.94 2.06-2.06.94zm-11 1L8.5 8.5l.94-2.06 2.06-.94-2.06-.94L8.5 2.5l-.94 2.06-2.06.94zm10 10l.94 2.06.94-2.06 2.06-.94-2.06-.94-.94-2.06-.94 2.06-2.06.94z\"/><path d=\"M17.41 7.96l-1.37-1.37c-.4-.4-.92-.59-1.43-.59-.52 0-1.04.2-1.43.59L10.3 9.45l-7.72 7.72c-.78.78-.78 2.05 0 2.83L4 21.41c.39.39.9.59 1.41.59.51 0 1.02-.2 1.41-.59l7.78-7.78 2.81-2.81c.8-.78.8-2.07 0-2.86zM5.41 20L4 18.59l7.72-7.72 1.47 1.35L5.41 20z\"/>\n",
              "  </svg>\n",
              "      </button>\n",
              "      \n",
              "  <style>\n",
              "    .colab-df-container {\n",
              "      display:flex;\n",
              "      flex-wrap:wrap;\n",
              "      gap: 12px;\n",
              "    }\n",
              "\n",
              "    .colab-df-convert {\n",
              "      background-color: #E8F0FE;\n",
              "      border: none;\n",
              "      border-radius: 50%;\n",
              "      cursor: pointer;\n",
              "      display: none;\n",
              "      fill: #1967D2;\n",
              "      height: 32px;\n",
              "      padding: 0 0 0 0;\n",
              "      width: 32px;\n",
              "    }\n",
              "\n",
              "    .colab-df-convert:hover {\n",
              "      background-color: #E2EBFA;\n",
              "      box-shadow: 0px 1px 2px rgba(60, 64, 67, 0.3), 0px 1px 3px 1px rgba(60, 64, 67, 0.15);\n",
              "      fill: #174EA6;\n",
              "    }\n",
              "\n",
              "    [theme=dark] .colab-df-convert {\n",
              "      background-color: #3B4455;\n",
              "      fill: #D2E3FC;\n",
              "    }\n",
              "\n",
              "    [theme=dark] .colab-df-convert:hover {\n",
              "      background-color: #434B5C;\n",
              "      box-shadow: 0px 1px 3px 1px rgba(0, 0, 0, 0.15);\n",
              "      filter: drop-shadow(0px 1px 2px rgba(0, 0, 0, 0.3));\n",
              "      fill: #FFFFFF;\n",
              "    }\n",
              "  </style>\n",
              "\n",
              "      <script>\n",
              "        const buttonEl =\n",
              "          document.querySelector('#df-b99e58cf-d03f-49ac-a9d2-0d47f5b9696a button.colab-df-convert');\n",
              "        buttonEl.style.display =\n",
              "          google.colab.kernel.accessAllowed ? 'block' : 'none';\n",
              "\n",
              "        async function convertToInteractive(key) {\n",
              "          const element = document.querySelector('#df-b99e58cf-d03f-49ac-a9d2-0d47f5b9696a');\n",
              "          const dataTable =\n",
              "            await google.colab.kernel.invokeFunction('convertToInteractive',\n",
              "                                                     [key], {});\n",
              "          if (!dataTable) return;\n",
              "\n",
              "          const docLinkHtml = 'Like what you see? Visit the ' +\n",
              "            '<a target=\"_blank\" href=https://colab.research.google.com/notebooks/data_table.ipynb>data table notebook</a>'\n",
              "            + ' to learn more about interactive tables.';\n",
              "          element.innerHTML = '';\n",
              "          dataTable['output_type'] = 'display_data';\n",
              "          await google.colab.output.renderOutput(dataTable, element);\n",
              "          const docLink = document.createElement('div');\n",
              "          docLink.innerHTML = docLinkHtml;\n",
              "          element.appendChild(docLink);\n",
              "        }\n",
              "      </script>\n",
              "    </div>\n",
              "  </div>\n",
              "  "
            ]
          },
          "metadata": {},
          "execution_count": 43
        }
      ]
    },
    {
      "cell_type": "markdown",
      "source": [
        "###**Dropping Irrelevent features**"
      ],
      "metadata": {
        "id": "d0UAg4C-hLNG"
      }
    },
    {
      "cell_type": "code",
      "source": [
        "netflix_cp.drop(['director','cast'],axis=1, inplace=True)"
      ],
      "metadata": {
        "id": "nl_GBjW_hNYM"
      },
      "execution_count": 44,
      "outputs": []
    }
  ]
}